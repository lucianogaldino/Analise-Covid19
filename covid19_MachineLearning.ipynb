{
  "nbformat": 4,
  "nbformat_minor": 0,
  "metadata": {
    "colab": {
      "name": "covid19.MachineLearning.ipynb",
      "provenance": [],
      "toc_visible": true,
      "mount_file_id": "1ytI77ZaJi2uY5EeJ_1LhbsBs0OLg0SSi",
      "authorship_tag": "ABX9TyPuAZhAjrwDrlQH9wRushYj",
      "include_colab_link": true
    },
    "kernelspec": {
      "name": "python3",
      "display_name": "Python 3"
    }
  },
  "cells": [
    {
      "cell_type": "markdown",
      "metadata": {
        "id": "view-in-github",
        "colab_type": "text"
      },
      "source": [
        "<a href=\"https://colab.research.google.com/github/lucianogaldino/Analise-Covid19/blob/master/covid19_MachineLearning.ipynb\" target=\"_parent\"><img src=\"https://colab.research.google.com/assets/colab-badge.svg\" alt=\"Open In Colab\"/></a>"
      ]
    },
    {
      "cell_type": "markdown",
      "metadata": {
        "id": "-8V6eL7FOtaJ"
      },
      "source": [
        "## **DESCRIPTION OF THE PROBLEM SITUATION**"
      ]
    },
    {
      "cell_type": "markdown",
      "metadata": {
        "id": "MS_AiAhmni_d"
      },
      "source": [
        "The objective of this project is to analyze the evolution of cases of covid19 in Brazil, make a future forecast and compare with other countries. The data table was removed from the WHO website (https://covid19.who.int/table) on 09/04/2020."
      ]
    },
    {
      "cell_type": "markdown",
      "metadata": {
        "id": "J32nr6MuQaYC"
      },
      "source": [
        "## **STRATEGY FOR THE SOLUTION OF THE PROBLEM SITUATION**"
      ]
    },
    {
      "cell_type": "markdown",
      "metadata": {
        "id": "COVU0SF3V3eK"
      },
      "source": [
        "After processing the data, an analysis of the regression algorithms of Machine Learning   (linear regression, polynomial regression, random forest, support vectors (SVR) and artificial neural networks) will be performed."
      ]
    },
    {
      "cell_type": "markdown",
      "metadata": {
        "id": "9NyfitDoTX6P"
      },
      "source": [
        "## **INITIAL ANALYSIS AND DATA PROCESSING**"
      ]
    },
    {
      "cell_type": "code",
      "metadata": {
        "id": "nbka_cXQmpIG"
      },
      "source": [
        "import numpy as np \n",
        "import matplotlib.pyplot as plt \n",
        "import pandas as pd \n",
        "from sklearn.model_selection import train_test_split\n",
        "from sklearn.metrics import mean_absolute_error, mean_squared_error\n",
        "import seaborn as sns"
      ],
      "execution_count": 1,
      "outputs": []
    },
    {
      "cell_type": "code",
      "metadata": {
        "id": "0gEujY2noyKY"
      },
      "source": [
        "covidmundial = pd.read_csv('/content/drive/My Drive/Colab Notebooks/Covid19/COVID19.csv', sep=',')"
      ],
      "execution_count": 2,
      "outputs": []
    },
    {
      "cell_type": "code",
      "metadata": {
        "id": "l9ROLjguo-K2",
        "outputId": "d33eca8f-c54e-4b4d-e974-7b655b1e04d7",
        "colab": {
          "base_uri": "https://localhost:8080/",
          "height": 419
        }
      },
      "source": [
        "covidmundial"
      ],
      "execution_count": 3,
      "outputs": [
        {
          "output_type": "execute_result",
          "data": {
            "text/html": [
              "<div>\n",
              "<style scoped>\n",
              "    .dataframe tbody tr th:only-of-type {\n",
              "        vertical-align: middle;\n",
              "    }\n",
              "\n",
              "    .dataframe tbody tr th {\n",
              "        vertical-align: top;\n",
              "    }\n",
              "\n",
              "    .dataframe thead th {\n",
              "        text-align: right;\n",
              "    }\n",
              "</style>\n",
              "<table border=\"1\" class=\"dataframe\">\n",
              "  <thead>\n",
              "    <tr style=\"text-align: right;\">\n",
              "      <th></th>\n",
              "      <th>date</th>\n",
              "      <th>country_code</th>\n",
              "      <th>country</th>\n",
              "      <th>who_region</th>\n",
              "      <th>new_cases</th>\n",
              "      <th>cumulative_cases</th>\n",
              "      <th>new_deaths</th>\n",
              "      <th>cumulative_deaths</th>\n",
              "    </tr>\n",
              "  </thead>\n",
              "  <tbody>\n",
              "    <tr>\n",
              "      <th>0</th>\n",
              "      <td>2020-02-24</td>\n",
              "      <td>AF</td>\n",
              "      <td>Afghanistan</td>\n",
              "      <td>EMRO</td>\n",
              "      <td>5</td>\n",
              "      <td>5</td>\n",
              "      <td>0</td>\n",
              "      <td>0</td>\n",
              "    </tr>\n",
              "    <tr>\n",
              "      <th>1</th>\n",
              "      <td>2020-02-25</td>\n",
              "      <td>AF</td>\n",
              "      <td>Afghanistan</td>\n",
              "      <td>EMRO</td>\n",
              "      <td>0</td>\n",
              "      <td>5</td>\n",
              "      <td>0</td>\n",
              "      <td>0</td>\n",
              "    </tr>\n",
              "    <tr>\n",
              "      <th>2</th>\n",
              "      <td>2020-02-26</td>\n",
              "      <td>AF</td>\n",
              "      <td>Afghanistan</td>\n",
              "      <td>EMRO</td>\n",
              "      <td>0</td>\n",
              "      <td>5</td>\n",
              "      <td>0</td>\n",
              "      <td>0</td>\n",
              "    </tr>\n",
              "    <tr>\n",
              "      <th>3</th>\n",
              "      <td>2020-02-27</td>\n",
              "      <td>AF</td>\n",
              "      <td>Afghanistan</td>\n",
              "      <td>EMRO</td>\n",
              "      <td>0</td>\n",
              "      <td>5</td>\n",
              "      <td>0</td>\n",
              "      <td>0</td>\n",
              "    </tr>\n",
              "    <tr>\n",
              "      <th>4</th>\n",
              "      <td>2020-02-28</td>\n",
              "      <td>AF</td>\n",
              "      <td>Afghanistan</td>\n",
              "      <td>EMRO</td>\n",
              "      <td>0</td>\n",
              "      <td>5</td>\n",
              "      <td>0</td>\n",
              "      <td>0</td>\n",
              "    </tr>\n",
              "    <tr>\n",
              "      <th>...</th>\n",
              "      <td>...</td>\n",
              "      <td>...</td>\n",
              "      <td>...</td>\n",
              "      <td>...</td>\n",
              "      <td>...</td>\n",
              "      <td>...</td>\n",
              "      <td>...</td>\n",
              "      <td>...</td>\n",
              "    </tr>\n",
              "    <tr>\n",
              "      <th>39428</th>\n",
              "      <td>2020-08-31</td>\n",
              "      <td>ZW</td>\n",
              "      <td>Zimbabwe</td>\n",
              "      <td>AFRO</td>\n",
              "      <td>6</td>\n",
              "      <td>6412</td>\n",
              "      <td>0</td>\n",
              "      <td>196</td>\n",
              "    </tr>\n",
              "    <tr>\n",
              "      <th>39429</th>\n",
              "      <td>2020-09-01</td>\n",
              "      <td>ZW</td>\n",
              "      <td>Zimbabwe</td>\n",
              "      <td>AFRO</td>\n",
              "      <td>85</td>\n",
              "      <td>6497</td>\n",
              "      <td>6</td>\n",
              "      <td>202</td>\n",
              "    </tr>\n",
              "    <tr>\n",
              "      <th>39430</th>\n",
              "      <td>2020-09-02</td>\n",
              "      <td>ZW</td>\n",
              "      <td>Zimbabwe</td>\n",
              "      <td>AFRO</td>\n",
              "      <td>62</td>\n",
              "      <td>6559</td>\n",
              "      <td>1</td>\n",
              "      <td>203</td>\n",
              "    </tr>\n",
              "    <tr>\n",
              "      <th>39431</th>\n",
              "      <td>2020-09-03</td>\n",
              "      <td>ZW</td>\n",
              "      <td>Zimbabwe</td>\n",
              "      <td>AFRO</td>\n",
              "      <td>79</td>\n",
              "      <td>6638</td>\n",
              "      <td>3</td>\n",
              "      <td>206</td>\n",
              "    </tr>\n",
              "    <tr>\n",
              "      <th>39432</th>\n",
              "      <td>2020-09-04</td>\n",
              "      <td>ZW</td>\n",
              "      <td>Zimbabwe</td>\n",
              "      <td>AFRO</td>\n",
              "      <td>40</td>\n",
              "      <td>6678</td>\n",
              "      <td>0</td>\n",
              "      <td>206</td>\n",
              "    </tr>\n",
              "  </tbody>\n",
              "</table>\n",
              "<p>39433 rows × 8 columns</p>\n",
              "</div>"
            ],
            "text/plain": [
              "             date country_code  ... new_deaths cumulative_deaths\n",
              "0      2020-02-24           AF  ...          0                 0\n",
              "1      2020-02-25           AF  ...          0                 0\n",
              "2      2020-02-26           AF  ...          0                 0\n",
              "3      2020-02-27           AF  ...          0                 0\n",
              "4      2020-02-28           AF  ...          0                 0\n",
              "...           ...          ...  ...        ...               ...\n",
              "39428  2020-08-31           ZW  ...          0               196\n",
              "39429  2020-09-01           ZW  ...          6               202\n",
              "39430  2020-09-02           ZW  ...          1               203\n",
              "39431  2020-09-03           ZW  ...          3               206\n",
              "39432  2020-09-04           ZW  ...          0               206\n",
              "\n",
              "[39433 rows x 8 columns]"
            ]
          },
          "metadata": {
            "tags": []
          },
          "execution_count": 3
        }
      ]
    },
    {
      "cell_type": "code",
      "metadata": {
        "id": "OhoedQX-pX3r"
      },
      "source": [
        "covidbrasil = covidmundial.loc[covidmundial.country=='Brazil']"
      ],
      "execution_count": 4,
      "outputs": []
    },
    {
      "cell_type": "code",
      "metadata": {
        "id": "yEEy9i_Gruuv",
        "outputId": "41ed7ffb-a39e-4513-ac44-57165521beec",
        "colab": {
          "base_uri": "https://localhost:8080/",
          "height": 204
        }
      },
      "source": [
        "covidbrasil.head()"
      ],
      "execution_count": 116,
      "outputs": [
        {
          "output_type": "execute_result",
          "data": {
            "text/html": [
              "<div>\n",
              "<style scoped>\n",
              "    .dataframe tbody tr th:only-of-type {\n",
              "        vertical-align: middle;\n",
              "    }\n",
              "\n",
              "    .dataframe tbody tr th {\n",
              "        vertical-align: top;\n",
              "    }\n",
              "\n",
              "    .dataframe thead th {\n",
              "        text-align: right;\n",
              "    }\n",
              "</style>\n",
              "<table border=\"1\" class=\"dataframe\">\n",
              "  <thead>\n",
              "    <tr style=\"text-align: right;\">\n",
              "      <th></th>\n",
              "      <th>date</th>\n",
              "      <th>country_code</th>\n",
              "      <th>country</th>\n",
              "      <th>who_region</th>\n",
              "      <th>new_cases</th>\n",
              "      <th>cumulative_cases</th>\n",
              "      <th>new_deaths</th>\n",
              "      <th>cumulative_deaths</th>\n",
              "    </tr>\n",
              "  </thead>\n",
              "  <tbody>\n",
              "    <tr>\n",
              "      <th>4896</th>\n",
              "      <td>2020-02-26</td>\n",
              "      <td>BR</td>\n",
              "      <td>Brazil</td>\n",
              "      <td>AMRO</td>\n",
              "      <td>5</td>\n",
              "      <td>5</td>\n",
              "      <td>0</td>\n",
              "      <td>0</td>\n",
              "    </tr>\n",
              "    <tr>\n",
              "      <th>4897</th>\n",
              "      <td>2020-02-27</td>\n",
              "      <td>BR</td>\n",
              "      <td>Brazil</td>\n",
              "      <td>AMRO</td>\n",
              "      <td>0</td>\n",
              "      <td>5</td>\n",
              "      <td>0</td>\n",
              "      <td>0</td>\n",
              "    </tr>\n",
              "    <tr>\n",
              "      <th>4898</th>\n",
              "      <td>2020-02-28</td>\n",
              "      <td>BR</td>\n",
              "      <td>Brazil</td>\n",
              "      <td>AMRO</td>\n",
              "      <td>0</td>\n",
              "      <td>5</td>\n",
              "      <td>0</td>\n",
              "      <td>0</td>\n",
              "    </tr>\n",
              "    <tr>\n",
              "      <th>4899</th>\n",
              "      <td>2020-02-29</td>\n",
              "      <td>BR</td>\n",
              "      <td>Brazil</td>\n",
              "      <td>AMRO</td>\n",
              "      <td>0</td>\n",
              "      <td>5</td>\n",
              "      <td>0</td>\n",
              "      <td>0</td>\n",
              "    </tr>\n",
              "    <tr>\n",
              "      <th>4900</th>\n",
              "      <td>2020-03-01</td>\n",
              "      <td>BR</td>\n",
              "      <td>Brazil</td>\n",
              "      <td>AMRO</td>\n",
              "      <td>1</td>\n",
              "      <td>6</td>\n",
              "      <td>0</td>\n",
              "      <td>0</td>\n",
              "    </tr>\n",
              "  </tbody>\n",
              "</table>\n",
              "</div>"
            ],
            "text/plain": [
              "            date country_code  ... new_deaths cumulative_deaths\n",
              "4896  2020-02-26           BR  ...          0                 0\n",
              "4897  2020-02-27           BR  ...          0                 0\n",
              "4898  2020-02-28           BR  ...          0                 0\n",
              "4899  2020-02-29           BR  ...          0                 0\n",
              "4900  2020-03-01           BR  ...          0                 0\n",
              "\n",
              "[5 rows x 8 columns]"
            ]
          },
          "metadata": {
            "tags": []
          },
          "execution_count": 116
        }
      ]
    },
    {
      "cell_type": "code",
      "metadata": {
        "id": "s0ByTIIro3fK",
        "outputId": "6d1805cf-0fa6-442f-d546-bd1141556e03",
        "colab": {
          "base_uri": "https://localhost:8080/",
          "height": 34
        }
      },
      "source": [
        "covidbrasil.shape"
      ],
      "execution_count": 6,
      "outputs": [
        {
          "output_type": "execute_result",
          "data": {
            "text/plain": [
              "(192, 8)"
            ]
          },
          "metadata": {
            "tags": []
          },
          "execution_count": 6
        }
      ]
    },
    {
      "cell_type": "code",
      "metadata": {
        "id": "RIgkgwQ6Qk5e",
        "outputId": "6e4a3c35-3bf5-46a5-fb24-6f1d78fbbddd",
        "colab": {
          "base_uri": "https://localhost:8080/",
          "height": 170
        }
      },
      "source": [
        "covidbrasil.dtypes"
      ],
      "execution_count": 7,
      "outputs": [
        {
          "output_type": "execute_result",
          "data": {
            "text/plain": [
              "date                 object\n",
              "country_code         object\n",
              "country              object\n",
              "who_region           object\n",
              "new_cases             int64\n",
              "cumulative_cases      int64\n",
              "new_deaths            int64\n",
              "cumulative_deaths     int64\n",
              "dtype: object"
            ]
          },
          "metadata": {
            "tags": []
          },
          "execution_count": 7
        }
      ]
    },
    {
      "cell_type": "code",
      "metadata": {
        "id": "y3rq7Ny7Q9eh",
        "outputId": "51690055-7f0f-4bd8-bd64-745127f0e22d",
        "colab": {
          "base_uri": "https://localhost:8080/",
          "height": 170
        }
      },
      "source": [
        "covidbrasil.isnull().sum()"
      ],
      "execution_count": 8,
      "outputs": [
        {
          "output_type": "execute_result",
          "data": {
            "text/plain": [
              "date                 0\n",
              "country_code         0\n",
              "country              0\n",
              "who_region           0\n",
              "new_cases            0\n",
              "cumulative_cases     0\n",
              "new_deaths           0\n",
              "cumulative_deaths    0\n",
              "dtype: int64"
            ]
          },
          "metadata": {
            "tags": []
          },
          "execution_count": 8
        }
      ]
    },
    {
      "cell_type": "code",
      "metadata": {
        "id": "noNLMvgFRCow",
        "outputId": "d00e409a-afdf-4d76-e588-640b680f93d5",
        "colab": {
          "base_uri": "https://localhost:8080/",
          "height": 170
        }
      },
      "source": [
        "covidmundial.isnull().sum()"
      ],
      "execution_count": 9,
      "outputs": [
        {
          "output_type": "execute_result",
          "data": {
            "text/plain": [
              "date                   0\n",
              "country_code         175\n",
              "country                0\n",
              "who_region             0\n",
              "new_cases              0\n",
              "cumulative_cases       0\n",
              "new_deaths             0\n",
              "cumulative_deaths      0\n",
              "dtype: int64"
            ]
          },
          "metadata": {
            "tags": []
          },
          "execution_count": 9
        }
      ]
    },
    {
      "cell_type": "markdown",
      "metadata": {
        "id": "j2plBYqJRnf2"
      },
      "source": [
        "\n",
        "175 records of attribute country_code were found as null values ​​(NaN), but this attribute will not be used in Machine Learning algorithms."
      ]
    },
    {
      "cell_type": "code",
      "metadata": {
        "id": "4NPVfBFnUQz3",
        "outputId": "65179594-da3b-4223-8f4c-9f8d4c4f4d3c",
        "colab": {
          "base_uri": "https://localhost:8080/",
          "height": 589
        }
      },
      "source": [
        "covidmundial.loc[covidmundial.new_cases < 0, :]"
      ],
      "execution_count": 10,
      "outputs": [
        {
          "output_type": "execute_result",
          "data": {
            "text/html": [
              "<div>\n",
              "<style scoped>\n",
              "    .dataframe tbody tr th:only-of-type {\n",
              "        vertical-align: middle;\n",
              "    }\n",
              "\n",
              "    .dataframe tbody tr th {\n",
              "        vertical-align: top;\n",
              "    }\n",
              "\n",
              "    .dataframe thead th {\n",
              "        text-align: right;\n",
              "    }\n",
              "</style>\n",
              "<table border=\"1\" class=\"dataframe\">\n",
              "  <thead>\n",
              "    <tr style=\"text-align: right;\">\n",
              "      <th></th>\n",
              "      <th>date</th>\n",
              "      <th>country_code</th>\n",
              "      <th>country</th>\n",
              "      <th>who_region</th>\n",
              "      <th>new_cases</th>\n",
              "      <th>cumulative_cases</th>\n",
              "      <th>new_deaths</th>\n",
              "      <th>cumulative_deaths</th>\n",
              "    </tr>\n",
              "  </thead>\n",
              "  <tbody>\n",
              "    <tr>\n",
              "      <th>25</th>\n",
              "      <td>2020-03-20</td>\n",
              "      <td>AF</td>\n",
              "      <td>Afghanistan</td>\n",
              "      <td>EMRO</td>\n",
              "      <td>-2</td>\n",
              "      <td>24</td>\n",
              "      <td>0</td>\n",
              "      <td>0</td>\n",
              "    </tr>\n",
              "    <tr>\n",
              "      <th>1095</th>\n",
              "      <td>2020-03-24</td>\n",
              "      <td>AG</td>\n",
              "      <td>Antigua and Barbuda</td>\n",
              "      <td>AMRO</td>\n",
              "      <td>-2</td>\n",
              "      <td>3</td>\n",
              "      <td>0</td>\n",
              "      <td>0</td>\n",
              "    </tr>\n",
              "    <tr>\n",
              "      <th>1636</th>\n",
              "      <td>2020-03-19</td>\n",
              "      <td>AW</td>\n",
              "      <td>Aruba</td>\n",
              "      <td>AMRO</td>\n",
              "      <td>-3</td>\n",
              "      <td>5</td>\n",
              "      <td>0</td>\n",
              "      <td>0</td>\n",
              "    </tr>\n",
              "    <tr>\n",
              "      <th>2414</th>\n",
              "      <td>2020-03-20</td>\n",
              "      <td>BS</td>\n",
              "      <td>Bahamas</td>\n",
              "      <td>AMRO</td>\n",
              "      <td>-3</td>\n",
              "      <td>4</td>\n",
              "      <td>0</td>\n",
              "      <td>0</td>\n",
              "    </tr>\n",
              "    <tr>\n",
              "      <th>2960</th>\n",
              "      <td>2020-03-20</td>\n",
              "      <td>BB</td>\n",
              "      <td>Barbados</td>\n",
              "      <td>AMRO</td>\n",
              "      <td>-1</td>\n",
              "      <td>5</td>\n",
              "      <td>0</td>\n",
              "      <td>0</td>\n",
              "    </tr>\n",
              "    <tr>\n",
              "      <th>...</th>\n",
              "      <td>...</td>\n",
              "      <td>...</td>\n",
              "      <td>...</td>\n",
              "      <td>...</td>\n",
              "      <td>...</td>\n",
              "      <td>...</td>\n",
              "      <td>...</td>\n",
              "      <td>...</td>\n",
              "    </tr>\n",
              "    <tr>\n",
              "      <th>36347</th>\n",
              "      <td>2020-03-19</td>\n",
              "      <td>TT</td>\n",
              "      <td>Trinidad and Tobago</td>\n",
              "      <td>AMRO</td>\n",
              "      <td>-2</td>\n",
              "      <td>9</td>\n",
              "      <td>0</td>\n",
              "      <td>0</td>\n",
              "    </tr>\n",
              "    <tr>\n",
              "      <th>37112</th>\n",
              "      <td>2020-05-25</td>\n",
              "      <td>UG</td>\n",
              "      <td>Uganda</td>\n",
              "      <td>AFRO</td>\n",
              "      <td>-8</td>\n",
              "      <td>304</td>\n",
              "      <td>0</td>\n",
              "      <td>0</td>\n",
              "    </tr>\n",
              "    <tr>\n",
              "      <th>37140</th>\n",
              "      <td>2020-06-22</td>\n",
              "      <td>UG</td>\n",
              "      <td>Uganda</td>\n",
              "      <td>AFRO</td>\n",
              "      <td>-68</td>\n",
              "      <td>755</td>\n",
              "      <td>0</td>\n",
              "      <td>0</td>\n",
              "    </tr>\n",
              "    <tr>\n",
              "      <th>38030</th>\n",
              "      <td>2020-03-21</td>\n",
              "      <td>VI</td>\n",
              "      <td>United States Virgin Islands</td>\n",
              "      <td>AMRO</td>\n",
              "      <td>-1</td>\n",
              "      <td>6</td>\n",
              "      <td>0</td>\n",
              "      <td>0</td>\n",
              "    </tr>\n",
              "    <tr>\n",
              "      <th>39098</th>\n",
              "      <td>2020-03-23</td>\n",
              "      <td>ZM</td>\n",
              "      <td>Zambia</td>\n",
              "      <td>AFRO</td>\n",
              "      <td>-3</td>\n",
              "      <td>3</td>\n",
              "      <td>0</td>\n",
              "      <td>0</td>\n",
              "    </tr>\n",
              "  </tbody>\n",
              "</table>\n",
              "<p>82 rows × 8 columns</p>\n",
              "</div>"
            ],
            "text/plain": [
              "             date country_code  ... new_deaths cumulative_deaths\n",
              "25     2020-03-20           AF  ...          0                 0\n",
              "1095   2020-03-24           AG  ...          0                 0\n",
              "1636   2020-03-19           AW  ...          0                 0\n",
              "2414   2020-03-20           BS  ...          0                 0\n",
              "2960   2020-03-20           BB  ...          0                 0\n",
              "...           ...          ...  ...        ...               ...\n",
              "36347  2020-03-19           TT  ...          0                 0\n",
              "37112  2020-05-25           UG  ...          0                 0\n",
              "37140  2020-06-22           UG  ...          0                 0\n",
              "38030  2020-03-21           VI  ...          0                 0\n",
              "39098  2020-03-23           ZM  ...          0                 0\n",
              "\n",
              "[82 rows x 8 columns]"
            ]
          },
          "metadata": {
            "tags": []
          },
          "execution_count": 10
        }
      ]
    },
    {
      "cell_type": "code",
      "metadata": {
        "id": "5G4q4MQTTCfC",
        "outputId": "cf80db72-b270-4351-d1dc-7110bdaf0df1",
        "colab": {
          "base_uri": "https://localhost:8080/",
          "height": 170
        }
      },
      "source": [
        "# Checking negative values ​​in world records\n",
        "covidmundial.loc[covidmundial.new_cases < 0, :].count()"
      ],
      "execution_count": 11,
      "outputs": [
        {
          "output_type": "execute_result",
          "data": {
            "text/plain": [
              "date                 82\n",
              "country_code         81\n",
              "country              82\n",
              "who_region           82\n",
              "new_cases            82\n",
              "cumulative_cases     82\n",
              "new_deaths           82\n",
              "cumulative_deaths    82\n",
              "dtype: int64"
            ]
          },
          "metadata": {
            "tags": []
          },
          "execution_count": 11
        }
      ]
    },
    {
      "cell_type": "code",
      "metadata": {
        "id": "i3nzelAgUmiA",
        "outputId": "1154f688-7054-4a44-b168-4b5c6ac15a98",
        "colab": {
          "base_uri": "https://localhost:8080/",
          "height": 170
        }
      },
      "source": [
        "# Checking negative values ​​in Brazil records\n",
        "covidbrasil.loc[covidbrasil.new_cases < 0, :].count()"
      ],
      "execution_count": 12,
      "outputs": [
        {
          "output_type": "execute_result",
          "data": {
            "text/plain": [
              "date                 0\n",
              "country_code         0\n",
              "country              0\n",
              "who_region           0\n",
              "new_cases            0\n",
              "cumulative_cases     0\n",
              "new_deaths           0\n",
              "cumulative_deaths    0\n",
              "dtype: int64"
            ]
          },
          "metadata": {
            "tags": []
          },
          "execution_count": 12
        }
      ]
    },
    {
      "cell_type": "markdown",
      "metadata": {
        "id": "1I1OPcvXTxfU"
      },
      "source": [
        "82 records were found with negative values ​​for the attributes new_cases and new_deaths. This was for data corrections. None of these situations occurred in Brazil. After statistical analysis, it will be decided whether it is consistent to exclude these records from the database"
      ]
    },
    {
      "cell_type": "code",
      "metadata": {
        "id": "visJIb8mptBd"
      },
      "source": [
        "covidmundial_sum = covidmundial.groupby('date').agg({'new_cases': 'sum','cumulative_cases':'sum','new_deaths': 'sum','cumulative_deaths':'sum'}).reset_index()"
      ],
      "execution_count": 13,
      "outputs": []
    },
    {
      "cell_type": "code",
      "metadata": {
        "id": "W9ywoovqqHAa",
        "outputId": "caeecd64-a7c8-4333-e927-798eb8cdcf97",
        "colab": {
          "base_uri": "https://localhost:8080/",
          "height": 419
        }
      },
      "source": [
        "covidmundial_sum"
      ],
      "execution_count": 14,
      "outputs": [
        {
          "output_type": "execute_result",
          "data": {
            "text/html": [
              "<div>\n",
              "<style scoped>\n",
              "    .dataframe tbody tr th:only-of-type {\n",
              "        vertical-align: middle;\n",
              "    }\n",
              "\n",
              "    .dataframe tbody tr th {\n",
              "        vertical-align: top;\n",
              "    }\n",
              "\n",
              "    .dataframe thead th {\n",
              "        text-align: right;\n",
              "    }\n",
              "</style>\n",
              "<table border=\"1\" class=\"dataframe\">\n",
              "  <thead>\n",
              "    <tr style=\"text-align: right;\">\n",
              "      <th></th>\n",
              "      <th>date</th>\n",
              "      <th>new_cases</th>\n",
              "      <th>cumulative_cases</th>\n",
              "      <th>new_deaths</th>\n",
              "      <th>cumulative_deaths</th>\n",
              "    </tr>\n",
              "  </thead>\n",
              "  <tbody>\n",
              "    <tr>\n",
              "      <th>0</th>\n",
              "      <td>2020-01-04</td>\n",
              "      <td>1</td>\n",
              "      <td>1</td>\n",
              "      <td>0</td>\n",
              "      <td>0</td>\n",
              "    </tr>\n",
              "    <tr>\n",
              "      <th>1</th>\n",
              "      <td>2020-01-05</td>\n",
              "      <td>0</td>\n",
              "      <td>1</td>\n",
              "      <td>0</td>\n",
              "      <td>0</td>\n",
              "    </tr>\n",
              "    <tr>\n",
              "      <th>2</th>\n",
              "      <td>2020-01-06</td>\n",
              "      <td>3</td>\n",
              "      <td>4</td>\n",
              "      <td>0</td>\n",
              "      <td>0</td>\n",
              "    </tr>\n",
              "    <tr>\n",
              "      <th>3</th>\n",
              "      <td>2020-01-07</td>\n",
              "      <td>0</td>\n",
              "      <td>4</td>\n",
              "      <td>0</td>\n",
              "      <td>0</td>\n",
              "    </tr>\n",
              "    <tr>\n",
              "      <th>4</th>\n",
              "      <td>2020-01-08</td>\n",
              "      <td>0</td>\n",
              "      <td>4</td>\n",
              "      <td>0</td>\n",
              "      <td>0</td>\n",
              "    </tr>\n",
              "    <tr>\n",
              "      <th>...</th>\n",
              "      <td>...</td>\n",
              "      <td>...</td>\n",
              "      <td>...</td>\n",
              "      <td>...</td>\n",
              "      <td>...</td>\n",
              "    </tr>\n",
              "    <tr>\n",
              "      <th>240</th>\n",
              "      <td>2020-08-31</td>\n",
              "      <td>267850</td>\n",
              "      <td>25144425</td>\n",
              "      <td>5417</td>\n",
              "      <td>844473</td>\n",
              "    </tr>\n",
              "    <tr>\n",
              "      <th>241</th>\n",
              "      <td>2020-09-01</td>\n",
              "      <td>212698</td>\n",
              "      <td>25357123</td>\n",
              "      <td>3980</td>\n",
              "      <td>848453</td>\n",
              "    </tr>\n",
              "    <tr>\n",
              "      <th>242</th>\n",
              "      <td>2020-09-02</td>\n",
              "      <td>248989</td>\n",
              "      <td>25606112</td>\n",
              "      <td>4370</td>\n",
              "      <td>852823</td>\n",
              "    </tr>\n",
              "    <tr>\n",
              "      <th>243</th>\n",
              "      <td>2020-09-03</td>\n",
              "      <td>279613</td>\n",
              "      <td>25885725</td>\n",
              "      <td>6317</td>\n",
              "      <td>859140</td>\n",
              "    </tr>\n",
              "    <tr>\n",
              "      <th>244</th>\n",
              "      <td>2020-09-04</td>\n",
              "      <td>285387</td>\n",
              "      <td>26171112</td>\n",
              "      <td>6014</td>\n",
              "      <td>865154</td>\n",
              "    </tr>\n",
              "  </tbody>\n",
              "</table>\n",
              "<p>245 rows × 5 columns</p>\n",
              "</div>"
            ],
            "text/plain": [
              "           date  new_cases  cumulative_cases  new_deaths  cumulative_deaths\n",
              "0    2020-01-04          1                 1           0                  0\n",
              "1    2020-01-05          0                 1           0                  0\n",
              "2    2020-01-06          3                 4           0                  0\n",
              "3    2020-01-07          0                 4           0                  0\n",
              "4    2020-01-08          0                 4           0                  0\n",
              "..          ...        ...               ...         ...                ...\n",
              "240  2020-08-31     267850          25144425        5417             844473\n",
              "241  2020-09-01     212698          25357123        3980             848453\n",
              "242  2020-09-02     248989          25606112        4370             852823\n",
              "243  2020-09-03     279613          25885725        6317             859140\n",
              "244  2020-09-04     285387          26171112        6014             865154\n",
              "\n",
              "[245 rows x 5 columns]"
            ]
          },
          "metadata": {
            "tags": []
          },
          "execution_count": 14
        }
      ]
    },
    {
      "cell_type": "markdown",
      "metadata": {
        "id": "GeJ4RR2w4TlX"
      },
      "source": [
        "## **STATISTICAL ANALYSIS**"
      ]
    },
    {
      "cell_type": "code",
      "metadata": {
        "id": "OJdUEVvamNxe",
        "outputId": "57aaf99b-1c3b-485b-fca4-e02e9c4478d2",
        "colab": {
          "base_uri": "https://localhost:8080/",
          "height": 297
        }
      },
      "source": [
        "covidmundial_sum.describe()"
      ],
      "execution_count": 15,
      "outputs": [
        {
          "output_type": "execute_result",
          "data": {
            "text/html": [
              "<div>\n",
              "<style scoped>\n",
              "    .dataframe tbody tr th:only-of-type {\n",
              "        vertical-align: middle;\n",
              "    }\n",
              "\n",
              "    .dataframe tbody tr th {\n",
              "        vertical-align: top;\n",
              "    }\n",
              "\n",
              "    .dataframe thead th {\n",
              "        text-align: right;\n",
              "    }\n",
              "</style>\n",
              "<table border=\"1\" class=\"dataframe\">\n",
              "  <thead>\n",
              "    <tr style=\"text-align: right;\">\n",
              "      <th></th>\n",
              "      <th>new_cases</th>\n",
              "      <th>cumulative_cases</th>\n",
              "      <th>new_deaths</th>\n",
              "      <th>cumulative_deaths</th>\n",
              "    </tr>\n",
              "  </thead>\n",
              "  <tbody>\n",
              "    <tr>\n",
              "      <th>count</th>\n",
              "      <td>245.000000</td>\n",
              "      <td>2.450000e+02</td>\n",
              "      <td>245.000000</td>\n",
              "      <td>245.000000</td>\n",
              "    </tr>\n",
              "    <tr>\n",
              "      <th>mean</th>\n",
              "      <td>106820.865306</td>\n",
              "      <td>6.645875e+06</td>\n",
              "      <td>3531.240816</td>\n",
              "      <td>292884.012245</td>\n",
              "    </tr>\n",
              "    <tr>\n",
              "      <th>std</th>\n",
              "      <td>96260.245061</td>\n",
              "      <td>7.713624e+06</td>\n",
              "      <td>2598.699053</td>\n",
              "      <td>282859.017866</td>\n",
              "    </tr>\n",
              "    <tr>\n",
              "      <th>min</th>\n",
              "      <td>0.000000</td>\n",
              "      <td>1.000000e+00</td>\n",
              "      <td>0.000000</td>\n",
              "      <td>0.000000</td>\n",
              "    </tr>\n",
              "    <tr>\n",
              "      <th>25%</th>\n",
              "      <td>3919.000000</td>\n",
              "      <td>9.757600e+04</td>\n",
              "      <td>144.000000</td>\n",
              "      <td>3346.000000</td>\n",
              "    </tr>\n",
              "    <tr>\n",
              "      <th>50%</th>\n",
              "      <td>85754.000000</td>\n",
              "      <td>3.528783e+06</td>\n",
              "      <td>4233.000000</td>\n",
              "      <td>249991.000000</td>\n",
              "    </tr>\n",
              "    <tr>\n",
              "      <th>75%</th>\n",
              "      <td>191046.000000</td>\n",
              "      <td>1.112907e+07</td>\n",
              "      <td>5465.000000</td>\n",
              "      <td>524725.000000</td>\n",
              "    </tr>\n",
              "    <tr>\n",
              "      <th>max</th>\n",
              "      <td>297794.000000</td>\n",
              "      <td>2.617111e+07</td>\n",
              "      <td>12430.000000</td>\n",
              "      <td>865154.000000</td>\n",
              "    </tr>\n",
              "  </tbody>\n",
              "</table>\n",
              "</div>"
            ],
            "text/plain": [
              "           new_cases  cumulative_cases    new_deaths  cumulative_deaths\n",
              "count     245.000000      2.450000e+02    245.000000         245.000000\n",
              "mean   106820.865306      6.645875e+06   3531.240816      292884.012245\n",
              "std     96260.245061      7.713624e+06   2598.699053      282859.017866\n",
              "min         0.000000      1.000000e+00      0.000000           0.000000\n",
              "25%      3919.000000      9.757600e+04    144.000000        3346.000000\n",
              "50%     85754.000000      3.528783e+06   4233.000000      249991.000000\n",
              "75%    191046.000000      1.112907e+07   5465.000000      524725.000000\n",
              "max    297794.000000      2.617111e+07  12430.000000      865154.000000"
            ]
          },
          "metadata": {
            "tags": []
          },
          "execution_count": 15
        }
      ]
    },
    {
      "cell_type": "code",
      "metadata": {
        "id": "HF6qVDbMmh83",
        "outputId": "6c5d1519-e3ee-4065-8f1e-b653c03cf795",
        "colab": {
          "base_uri": "https://localhost:8080/",
          "height": 297
        }
      },
      "source": [
        "covidbrasil.describe()"
      ],
      "execution_count": 16,
      "outputs": [
        {
          "output_type": "execute_result",
          "data": {
            "text/html": [
              "<div>\n",
              "<style scoped>\n",
              "    .dataframe tbody tr th:only-of-type {\n",
              "        vertical-align: middle;\n",
              "    }\n",
              "\n",
              "    .dataframe tbody tr th {\n",
              "        vertical-align: top;\n",
              "    }\n",
              "\n",
              "    .dataframe thead th {\n",
              "        text-align: right;\n",
              "    }\n",
              "</style>\n",
              "<table border=\"1\" class=\"dataframe\">\n",
              "  <thead>\n",
              "    <tr style=\"text-align: right;\">\n",
              "      <th></th>\n",
              "      <th>new_cases</th>\n",
              "      <th>cumulative_cases</th>\n",
              "      <th>new_deaths</th>\n",
              "      <th>cumulative_deaths</th>\n",
              "    </tr>\n",
              "  </thead>\n",
              "  <tbody>\n",
              "    <tr>\n",
              "      <th>count</th>\n",
              "      <td>192.000000</td>\n",
              "      <td>1.920000e+02</td>\n",
              "      <td>192.000000</td>\n",
              "      <td>192.000000</td>\n",
              "    </tr>\n",
              "    <tr>\n",
              "      <th>mean</th>\n",
              "      <td>20822.213542</td>\n",
              "      <td>1.097211e+06</td>\n",
              "      <td>644.687500</td>\n",
              "      <td>41098.796875</td>\n",
              "    </tr>\n",
              "    <tr>\n",
              "      <th>std</th>\n",
              "      <td>19158.201448</td>\n",
              "      <td>1.268914e+06</td>\n",
              "      <td>482.608603</td>\n",
              "      <td>41370.781794</td>\n",
              "    </tr>\n",
              "    <tr>\n",
              "      <th>min</th>\n",
              "      <td>0.000000</td>\n",
              "      <td>5.000000e+00</td>\n",
              "      <td>0.000000</td>\n",
              "      <td>0.000000</td>\n",
              "    </tr>\n",
              "    <tr>\n",
              "      <th>25%</th>\n",
              "      <td>1819.250000</td>\n",
              "      <td>2.180850e+04</td>\n",
              "      <td>114.750000</td>\n",
              "      <td>1198.250000</td>\n",
              "    </tr>\n",
              "    <tr>\n",
              "      <th>50%</th>\n",
              "      <td>17259.000000</td>\n",
              "      <td>4.818030e+05</td>\n",
              "      <td>631.500000</td>\n",
              "      <td>28356.000000</td>\n",
              "    </tr>\n",
              "    <tr>\n",
              "      <th>75%</th>\n",
              "      <td>38775.500000</td>\n",
              "      <td>2.020695e+06</td>\n",
              "      <td>1112.750000</td>\n",
              "      <td>76978.750000</td>\n",
              "    </tr>\n",
              "    <tr>\n",
              "      <th>max</th>\n",
              "      <td>69074.000000</td>\n",
              "      <td>3.997865e+06</td>\n",
              "      <td>1595.000000</td>\n",
              "      <td>123780.000000</td>\n",
              "    </tr>\n",
              "  </tbody>\n",
              "</table>\n",
              "</div>"
            ],
            "text/plain": [
              "          new_cases  cumulative_cases   new_deaths  cumulative_deaths\n",
              "count    192.000000      1.920000e+02   192.000000         192.000000\n",
              "mean   20822.213542      1.097211e+06   644.687500       41098.796875\n",
              "std    19158.201448      1.268914e+06   482.608603       41370.781794\n",
              "min        0.000000      5.000000e+00     0.000000           0.000000\n",
              "25%     1819.250000      2.180850e+04   114.750000        1198.250000\n",
              "50%    17259.000000      4.818030e+05   631.500000       28356.000000\n",
              "75%    38775.500000      2.020695e+06  1112.750000       76978.750000\n",
              "max    69074.000000      3.997865e+06  1595.000000      123780.000000"
            ]
          },
          "metadata": {
            "tags": []
          },
          "execution_count": 16
        }
      ]
    },
    {
      "cell_type": "markdown",
      "metadata": {
        "id": "YwB2kCAx85HL"
      },
      "source": [
        "\n",
        "## **CORRELATIONS**"
      ]
    },
    {
      "cell_type": "code",
      "metadata": {
        "id": "JBl1-yKDpKT3",
        "outputId": "8099eeb6-3078-482e-89fe-f0a24e1e01ee",
        "colab": {
          "base_uri": "https://localhost:8080/",
          "height": 743
        }
      },
      "source": [
        "sns.pairplot(covidbrasil)"
      ],
      "execution_count": 17,
      "outputs": [
        {
          "output_type": "execute_result",
          "data": {
            "text/plain": [
              "<seaborn.axisgrid.PairGrid at 0x7fac35133a58>"
            ]
          },
          "metadata": {
            "tags": []
          },
          "execution_count": 17
        },
        {
          "output_type": "display_data",
          "data": {
            "image/png": "[encoded data removed]",
            "text/plain": [
              "<Figure size 720x720 with 20 Axes>"
            ]
          },
          "metadata": {
            "tags": [],
            "needs_background": "light"
          }
        }
      ]
    },
    {
      "cell_type": "code",
      "metadata": {
        "id": "eGNUrBVypq3P",
        "outputId": "229fbc83-781b-4c77-8dbe-d0eae14606f9",
        "colab": {
          "base_uri": "https://localhost:8080/",
          "height": 295
        }
      },
      "source": [
        "plt.scatter(covidbrasil.date,covidbrasil.cumulative_cases)\n",
        "plt.xlabel('Date')\n",
        "plt.ylabel('Cumulative cases')\n",
        "plt.title('Cumulative Cases in Brazil')\n",
        "plt.show()"
      ],
      "execution_count": 18,
      "outputs": [
        {
          "output_type": "display_data",
          "data": {
            "image/png": "[encoded data removed]",
            "text/plain": [
              "<Figure size 432x288 with 1 Axes>"
            ]
          },
          "metadata": {
            "tags": [],
            "needs_background": "light"
          }
        }
      ]
    },
    {
      "cell_type": "code",
      "metadata": {
        "id": "nfynYokUtnyC"
      },
      "source": [
        "correlacoes = covidbrasil.corr()"
      ],
      "execution_count": 19,
      "outputs": []
    },
    {
      "cell_type": "code",
      "metadata": {
        "id": "stTLSvyjtrYj",
        "outputId": "a8533ad2-73e3-4bd5-ec3e-1580dd743792",
        "colab": {
          "base_uri": "https://localhost:8080/",
          "height": 173
        }
      },
      "source": [
        "correlacoes"
      ],
      "execution_count": 20,
      "outputs": [
        {
          "output_type": "execute_result",
          "data": {
            "text/html": [
              "<div>\n",
              "<style scoped>\n",
              "    .dataframe tbody tr th:only-of-type {\n",
              "        vertical-align: middle;\n",
              "    }\n",
              "\n",
              "    .dataframe tbody tr th {\n",
              "        vertical-align: top;\n",
              "    }\n",
              "\n",
              "    .dataframe thead th {\n",
              "        text-align: right;\n",
              "    }\n",
              "</style>\n",
              "<table border=\"1\" class=\"dataframe\">\n",
              "  <thead>\n",
              "    <tr style=\"text-align: right;\">\n",
              "      <th></th>\n",
              "      <th>new_cases</th>\n",
              "      <th>cumulative_cases</th>\n",
              "      <th>new_deaths</th>\n",
              "      <th>cumulative_deaths</th>\n",
              "    </tr>\n",
              "  </thead>\n",
              "  <tbody>\n",
              "    <tr>\n",
              "      <th>new_cases</th>\n",
              "      <td>1.000000</td>\n",
              "      <td>0.792903</td>\n",
              "      <td>0.887510</td>\n",
              "      <td>0.845639</td>\n",
              "    </tr>\n",
              "    <tr>\n",
              "      <th>cumulative_cases</th>\n",
              "      <td>0.792903</td>\n",
              "      <td>1.000000</td>\n",
              "      <td>0.605844</td>\n",
              "      <td>0.988883</td>\n",
              "    </tr>\n",
              "    <tr>\n",
              "      <th>new_deaths</th>\n",
              "      <td>0.887510</td>\n",
              "      <td>0.605844</td>\n",
              "      <td>1.000000</td>\n",
              "      <td>0.691147</td>\n",
              "    </tr>\n",
              "    <tr>\n",
              "      <th>cumulative_deaths</th>\n",
              "      <td>0.845639</td>\n",
              "      <td>0.988883</td>\n",
              "      <td>0.691147</td>\n",
              "      <td>1.000000</td>\n",
              "    </tr>\n",
              "  </tbody>\n",
              "</table>\n",
              "</div>"
            ],
            "text/plain": [
              "                   new_cases  cumulative_cases  new_deaths  cumulative_deaths\n",
              "new_cases           1.000000          0.792903    0.887510           0.845639\n",
              "cumulative_cases    0.792903          1.000000    0.605844           0.988883\n",
              "new_deaths          0.887510          0.605844    1.000000           0.691147\n",
              "cumulative_deaths   0.845639          0.988883    0.691147           1.000000"
            ]
          },
          "metadata": {
            "tags": []
          },
          "execution_count": 20
        }
      ]
    },
    {
      "cell_type": "code",
      "metadata": {
        "id": "TaweeW3tt6GE",
        "outputId": "210468c6-8e08-43fc-a4df-0b31d4485b43",
        "colab": {
          "base_uri": "https://localhost:8080/",
          "height": 371
        }
      },
      "source": [
        "plt.figure()\n",
        "sns.heatmap(correlacoes, annot=True)"
      ],
      "execution_count": 21,
      "outputs": [
        {
          "output_type": "execute_result",
          "data": {
            "text/plain": [
              "<matplotlib.axes._subplots.AxesSubplot at 0x7fac2f3e4cf8>"
            ]
          },
          "metadata": {
            "tags": []
          },
          "execution_count": 21
        },
        {
          "output_type": "display_data",
          "data": {
            "image/png": "[encoded data removed]",
            "text/plain": [
              "<Figure size 432x288 with 2 Axes>"
            ]
          },
          "metadata": {
            "tags": [],
            "needs_background": "light"
          }
        }
      ]
    },
    {
      "cell_type": "code",
      "metadata": {
        "id": "csnQM3uNqsmk",
        "outputId": "4a8f0e33-5a99-4d90-c361-e4151026cec3",
        "colab": {
          "base_uri": "https://localhost:8080/",
          "height": 295
        }
      },
      "source": [
        "plt.scatter(covidmundial_sum.date,covidmundial_sum.cumulative_cases)\n",
        "plt.xlabel('Date')\n",
        "plt.ylabel('Cumulative cases')\n",
        "plt.title('Cumulative Cases in World')\n",
        "plt.show()"
      ],
      "execution_count": 22,
      "outputs": [
        {
          "output_type": "display_data",
          "data": {
            "image/png": "[encoded data removed]",
            "text/plain": [
              "<Figure size 432x288 with 1 Axes>"
            ]
          },
          "metadata": {
            "tags": [],
            "needs_background": "light"
          }
        }
      ]
    },
    {
      "cell_type": "code",
      "metadata": {
        "id": "qr-cZgGVrOZY"
      },
      "source": [
        "correlacoes2 = covidmundial_sum.corr()"
      ],
      "execution_count": 23,
      "outputs": []
    },
    {
      "cell_type": "code",
      "metadata": {
        "id": "QaYhD853rUuO",
        "outputId": "118d58ea-6d54-4c40-e534-a567e963a9d0",
        "colab": {
          "base_uri": "https://localhost:8080/",
          "height": 173
        }
      },
      "source": [
        "correlacoes2"
      ],
      "execution_count": 24,
      "outputs": [
        {
          "output_type": "execute_result",
          "data": {
            "text/html": [
              "<div>\n",
              "<style scoped>\n",
              "    .dataframe tbody tr th:only-of-type {\n",
              "        vertical-align: middle;\n",
              "    }\n",
              "\n",
              "    .dataframe tbody tr th {\n",
              "        vertical-align: top;\n",
              "    }\n",
              "\n",
              "    .dataframe thead th {\n",
              "        text-align: right;\n",
              "    }\n",
              "</style>\n",
              "<table border=\"1\" class=\"dataframe\">\n",
              "  <thead>\n",
              "    <tr style=\"text-align: right;\">\n",
              "      <th></th>\n",
              "      <th>new_cases</th>\n",
              "      <th>cumulative_cases</th>\n",
              "      <th>new_deaths</th>\n",
              "      <th>cumulative_deaths</th>\n",
              "    </tr>\n",
              "  </thead>\n",
              "  <tbody>\n",
              "    <tr>\n",
              "      <th>new_cases</th>\n",
              "      <td>1.000000</td>\n",
              "      <td>0.944187</td>\n",
              "      <td>0.760575</td>\n",
              "      <td>0.967044</td>\n",
              "    </tr>\n",
              "    <tr>\n",
              "      <th>cumulative_cases</th>\n",
              "      <td>0.944187</td>\n",
              "      <td>1.000000</td>\n",
              "      <td>0.601376</td>\n",
              "      <td>0.972804</td>\n",
              "    </tr>\n",
              "    <tr>\n",
              "      <th>new_deaths</th>\n",
              "      <td>0.760575</td>\n",
              "      <td>0.601376</td>\n",
              "      <td>1.000000</td>\n",
              "      <td>0.686943</td>\n",
              "    </tr>\n",
              "    <tr>\n",
              "      <th>cumulative_deaths</th>\n",
              "      <td>0.967044</td>\n",
              "      <td>0.972804</td>\n",
              "      <td>0.686943</td>\n",
              "      <td>1.000000</td>\n",
              "    </tr>\n",
              "  </tbody>\n",
              "</table>\n",
              "</div>"
            ],
            "text/plain": [
              "                   new_cases  cumulative_cases  new_deaths  cumulative_deaths\n",
              "new_cases           1.000000          0.944187    0.760575           0.967044\n",
              "cumulative_cases    0.944187          1.000000    0.601376           0.972804\n",
              "new_deaths          0.760575          0.601376    1.000000           0.686943\n",
              "cumulative_deaths   0.967044          0.972804    0.686943           1.000000"
            ]
          },
          "metadata": {
            "tags": []
          },
          "execution_count": 24
        }
      ]
    },
    {
      "cell_type": "code",
      "metadata": {
        "id": "tbx9ksvrre8O",
        "outputId": "78c57b48-43fe-4f53-8c42-dca8aa3f8694",
        "colab": {
          "base_uri": "https://localhost:8080/",
          "height": 371
        }
      },
      "source": [
        "plt.figure()\n",
        "sns.heatmap(correlacoes2, annot=True)"
      ],
      "execution_count": 25,
      "outputs": [
        {
          "output_type": "execute_result",
          "data": {
            "text/plain": [
              "<matplotlib.axes._subplots.AxesSubplot at 0x7fac2f33e0f0>"
            ]
          },
          "metadata": {
            "tags": []
          },
          "execution_count": 25
        },
        {
          "output_type": "display_data",
          "data": {
            "image/png": "[encoded data removed]",
            "text/plain": [
              "<Figure size 432x288 with 2 Axes>"
            ]
          },
          "metadata": {
            "tags": [],
            "needs_background": "light"
          }
        }
      ]
    },
    {
      "cell_type": "code",
      "metadata": {
        "id": "4v2lSz4-sYN_",
        "outputId": "75eb9bc3-e577-414e-b4f1-979dde35ffb4",
        "colab": {
          "base_uri": "https://localhost:8080/",
          "height": 298
        }
      },
      "source": [
        "plt.stackplot(covidbrasil['date'], [covidbrasil['cumulative_cases'], covidbrasil['cumulative_deaths']],\n",
        "              labels = ['cumulative_cases', 'cumulative_deaths'])\n",
        "plt.legend(loc = 'upper left')\n",
        "plt.title('Evolution Cumulative Cases and Deaths in Brazil')"
      ],
      "execution_count": 26,
      "outputs": [
        {
          "output_type": "execute_result",
          "data": {
            "text/plain": [
              "Text(0.5, 1.0, 'Evolution Cumulative Cases and Deaths in Brazil')"
            ]
          },
          "metadata": {
            "tags": []
          },
          "execution_count": 26
        },
        {
          "output_type": "display_data",
          "data": {
            "image/png": "[encoded data removed]",
            "text/plain": [
              "<Figure size 432x288 with 1 Axes>"
            ]
          },
          "metadata": {
            "tags": [],
            "needs_background": "light"
          }
        }
      ]
    },
    {
      "cell_type": "code",
      "metadata": {
        "id": "U2X6SphJtVDR",
        "outputId": "67f52b6d-f460-4d33-fc42-32b8cebedd88",
        "colab": {
          "base_uri": "https://localhost:8080/",
          "height": 298
        }
      },
      "source": [
        "plt.stackplot(covidmundial_sum['date'], [covidmundial_sum['cumulative_cases'], covidmundial_sum['cumulative_deaths']],\n",
        "              labels = ['cumulative_cases', 'cumulative_deaths'])\n",
        "plt.legend(loc = 'upper left')\n",
        "plt.title('Evolution Cumulative Cases and Deaths in World')"
      ],
      "execution_count": 27,
      "outputs": [
        {
          "output_type": "execute_result",
          "data": {
            "text/plain": [
              "Text(0.5, 1.0, 'Evolution Cumulative Cases and Deaths in World')"
            ]
          },
          "metadata": {
            "tags": []
          },
          "execution_count": 27
        },
        {
          "output_type": "display_data",
          "data": {
            "image/png": "[encoded data removed]",
            "text/plain": [
              "<Figure size 432x288 with 1 Axes>"
            ]
          },
          "metadata": {
            "tags": [],
            "needs_background": "light"
          }
        }
      ]
    },
    {
      "cell_type": "markdown",
      "metadata": {
        "id": "KuagmWhAF6aM"
      },
      "source": [
        "## **MACHINE LEARNING**"
      ]
    },
    {
      "cell_type": "markdown",
      "metadata": {
        "id": "gfxAmDpFvQwl"
      },
      "source": [
        "## POLINOMIAL REGRESSION"
      ]
    },
    {
      "cell_type": "code",
      "metadata": {
        "id": "od4p9J8MvV2V"
      },
      "source": [
        "from sklearn.preprocessing import PolynomialFeatures"
      ],
      "execution_count": 94,
      "outputs": []
    },
    {
      "cell_type": "code",
      "metadata": {
        "id": "S5IRBy3RR5Z9"
      },
      "source": [
        "x = covidbrasil.drop(['country_code','country','who_region','new_cases','cumulative_cases','new_deaths','cumulative_deaths'], axis=1)\t\t\t\t\t\t"
      ],
      "execution_count": 95,
      "outputs": []
    },
    {
      "cell_type": "code",
      "metadata": {
        "id": "qwxqEngTTOfE",
        "outputId": "7a649a15-89d0-414c-b7b5-a5dece3ab847",
        "colab": {
          "base_uri": "https://localhost:8080/",
          "height": 419
        }
      },
      "source": [
        "x"
      ],
      "execution_count": 96,
      "outputs": [
        {
          "output_type": "execute_result",
          "data": {
            "text/html": [
              "<div>\n",
              "<style scoped>\n",
              "    .dataframe tbody tr th:only-of-type {\n",
              "        vertical-align: middle;\n",
              "    }\n",
              "\n",
              "    .dataframe tbody tr th {\n",
              "        vertical-align: top;\n",
              "    }\n",
              "\n",
              "    .dataframe thead th {\n",
              "        text-align: right;\n",
              "    }\n",
              "</style>\n",
              "<table border=\"1\" class=\"dataframe\">\n",
              "  <thead>\n",
              "    <tr style=\"text-align: right;\">\n",
              "      <th></th>\n",
              "      <th>date</th>\n",
              "    </tr>\n",
              "  </thead>\n",
              "  <tbody>\n",
              "    <tr>\n",
              "      <th>4896</th>\n",
              "      <td>2020-02-26</td>\n",
              "    </tr>\n",
              "    <tr>\n",
              "      <th>4897</th>\n",
              "      <td>2020-02-27</td>\n",
              "    </tr>\n",
              "    <tr>\n",
              "      <th>4898</th>\n",
              "      <td>2020-02-28</td>\n",
              "    </tr>\n",
              "    <tr>\n",
              "      <th>4899</th>\n",
              "      <td>2020-02-29</td>\n",
              "    </tr>\n",
              "    <tr>\n",
              "      <th>4900</th>\n",
              "      <td>2020-03-01</td>\n",
              "    </tr>\n",
              "    <tr>\n",
              "      <th>...</th>\n",
              "      <td>...</td>\n",
              "    </tr>\n",
              "    <tr>\n",
              "      <th>5083</th>\n",
              "      <td>2020-08-31</td>\n",
              "    </tr>\n",
              "    <tr>\n",
              "      <th>5084</th>\n",
              "      <td>2020-09-01</td>\n",
              "    </tr>\n",
              "    <tr>\n",
              "      <th>5085</th>\n",
              "      <td>2020-09-02</td>\n",
              "    </tr>\n",
              "    <tr>\n",
              "      <th>5086</th>\n",
              "      <td>2020-09-03</td>\n",
              "    </tr>\n",
              "    <tr>\n",
              "      <th>5087</th>\n",
              "      <td>2020-09-04</td>\n",
              "    </tr>\n",
              "  </tbody>\n",
              "</table>\n",
              "<p>192 rows × 1 columns</p>\n",
              "</div>"
            ],
            "text/plain": [
              "            date\n",
              "4896  2020-02-26\n",
              "4897  2020-02-27\n",
              "4898  2020-02-28\n",
              "4899  2020-02-29\n",
              "4900  2020-03-01\n",
              "...          ...\n",
              "5083  2020-08-31\n",
              "5084  2020-09-01\n",
              "5085  2020-09-02\n",
              "5086  2020-09-03\n",
              "5087  2020-09-04\n",
              "\n",
              "[192 rows x 1 columns]"
            ]
          },
          "metadata": {
            "tags": []
          },
          "execution_count": 96
        }
      ]
    },
    {
      "cell_type": "code",
      "metadata": {
        "id": "u75DqCeDVxZL"
      },
      "source": [
        "x = np.arange(len(x)).reshape(-1,1)#transformou as datas em índices (0,1,2,3,4...)"
      ],
      "execution_count": 97,
      "outputs": []
    },
    {
      "cell_type": "code",
      "metadata": {
        "id": "-SqV-q5fWDyx"
      },
      "source": [
        "x"
      ],
      "execution_count": null,
      "outputs": []
    },
    {
      "cell_type": "code",
      "metadata": {
        "id": "Fxi0PH95XOCB"
      },
      "source": [
        "y = covidbrasil.iloc[:, 5].values"
      ],
      "execution_count": 98,
      "outputs": []
    },
    {
      "cell_type": "code",
      "metadata": {
        "id": "j9usZTGeYAH_"
      },
      "source": [
        "from sklearn.model_selection import train_test_split\n",
        "x_treinamento, x_teste, y_treinamento, y_teste = train_test_split(x, y,test_size = 0.3,shuffle = False, random_state = 0)"
      ],
      "execution_count": 99,
      "outputs": []
    },
    {
      "cell_type": "code",
      "metadata": {
        "id": "-Af5OoG3ZwPO"
      },
      "source": [
        "from sklearn.preprocessing import PolynomialFeatures\n",
        "poly = PolynomialFeatures(degree = 2)\n",
        "x_treinamento_poly = poly.fit_transform(x_treinamento)\n",
        "x_teste_poly = poly.transform(x_teste)"
      ],
      "execution_count": 100,
      "outputs": []
    },
    {
      "cell_type": "code",
      "metadata": {
        "id": "HAHgo4IrZ4UQ"
      },
      "source": [
        "from sklearn.linear_model import LinearRegression\n",
        "regressor = LinearRegression()\n",
        "regressor.fit(x_treinamento_poly, y_treinamento)\n",
        "score = regressor.score(x_treinamento_poly, y_treinamento)"
      ],
      "execution_count": 101,
      "outputs": []
    },
    {
      "cell_type": "code",
      "metadata": {
        "id": "DIWQ_0QOaBec"
      },
      "source": [
        "previsoes = regressor.predict(x_teste_poly)"
      ],
      "execution_count": 102,
      "outputs": []
    },
    {
      "cell_type": "code",
      "metadata": {
        "id": "MuCFh7d7aEwt",
        "outputId": "5861b91c-2406-412d-a48b-9ef665e57a53",
        "colab": {
          "base_uri": "https://localhost:8080/",
          "height": 34
        }
      },
      "source": [
        "score"
      ],
      "execution_count": 103,
      "outputs": [
        {
          "output_type": "execute_result",
          "data": {
            "text/plain": [
              "0.9848117026407015"
            ]
          },
          "metadata": {
            "tags": []
          },
          "execution_count": 103
        }
      ]
    },
    {
      "cell_type": "code",
      "metadata": {
        "id": "gifO2cSPa9zs",
        "outputId": "356af09b-d0e7-42a5-9fe6-9496399c8d37",
        "colab": {
          "base_uri": "https://localhost:8080/",
          "height": 34
        }
      },
      "source": [
        "from sklearn.metrics import mean_absolute_error"
      ],
      "execution_count": 104,
      "outputs": [
        {
          "output_type": "execute_result",
          "data": {
            "text/plain": [
              "130819.22155164507"
            ]
          },
          "metadata": {
            "tags": []
          },
          "execution_count": 104
        }
      ]
    },
    {
      "cell_type": "code",
      "metadata": {
        "id": "6qXmvaadzB9v",
        "outputId": "936aaeb3-c471-41f6-bc78-ee76d417557e",
        "colab": {
          "base_uri": "https://localhost:8080/",
          "height": 68
        }
      },
      "source": [
        "print('MAE:', mean_absolute_error(poly_teste_pred, y_teste))\n",
        "print('MSE:', mean_squared_error(poly_teste_pred, y_teste))\n",
        "print('RMSE:', np.sqrt(mean_absolute_error(poly_teste_pred, y_teste)))"
      ],
      "execution_count": 114,
      "outputs": [
        {
          "output_type": "stream",
          "text": [
            "MAE: 130819.22155164507\n",
            "MSE: 19941217834.040596\n",
            "RMSE: 361.68939928016283\n"
          ],
          "name": "stdout"
        }
      ]
    },
    {
      "cell_type": "code",
      "metadata": {
        "id": "aqqLrWgcbnMb"
      },
      "source": [
        "poly_teste_pred = regressor.predict(x_teste_poly)"
      ],
      "execution_count": 105,
      "outputs": []
    },
    {
      "cell_type": "code",
      "metadata": {
        "id": "v9rGP9ccayMk",
        "outputId": "e65e11cf-d417-44fc-ad4b-9028c90ae954",
        "colab": {
          "base_uri": "https://localhost:8080/",
          "height": 293
        }
      },
      "source": [
        "plt.plot(poly_teste_pred, linestyle = 'dashed')\n",
        "plt.plot(y_teste)"
      ],
      "execution_count": 106,
      "outputs": [
        {
          "output_type": "execute_result",
          "data": {
            "text/plain": [
              "[<matplotlib.lines.Line2D at 0x7fac2d200668>]"
            ]
          },
          "metadata": {
            "tags": []
          },
          "execution_count": 106
        },
        {
          "output_type": "display_data",
          "data": {
            "image/png": "[encoded data removed]",
            "text/plain": [
              "<Figure size 432x288 with 1 Axes>"
            ]
          },
          "metadata": {
            "tags": [],
            "needs_background": "light"
          }
        }
      ]
    },
    {
      "cell_type": "code",
      "metadata": {
        "id": "hPua6hybus0r"
      },
      "source": [
        "forecast = np.arange(len(x) + 20).reshape(-1,1)#forescat significa previsão. ) + 20 é uma previsão de 20 dias a mais."
      ],
      "execution_count": 107,
      "outputs": []
    },
    {
      "cell_type": "code",
      "metadata": {
        "id": "L57Y6xlTvASX",
        "outputId": "90cfbdb9-4963-4e59-e19a-26f13b54bf92",
        "colab": {
          "base_uri": "https://localhost:8080/",
          "height": 34
        }
      },
      "source": [
        "forecast.shape"
      ],
      "execution_count": 108,
      "outputs": [
        {
          "output_type": "execute_result",
          "data": {
            "text/plain": [
              "(212, 1)"
            ]
          },
          "metadata": {
            "tags": []
          },
          "execution_count": 108
        }
      ]
    },
    {
      "cell_type": "code",
      "metadata": {
        "id": "xw-TDKjJvDBG",
        "outputId": "17a4d12c-4b5a-45bc-8075-13e9864ad526",
        "colab": {
          "base_uri": "https://localhost:8080/",
          "height": 1000
        }
      },
      "source": [
        "print(forecast)"
      ],
      "execution_count": 109,
      "outputs": [
        {
          "output_type": "stream",
          "text": [
            "[[  0]\n",
            " [  1]\n",
            " [  2]\n",
            " [  3]\n",
            " [  4]\n",
            " [  5]\n",
            " [  6]\n",
            " [  7]\n",
            " [  8]\n",
            " [  9]\n",
            " [ 10]\n",
            " [ 11]\n",
            " [ 12]\n",
            " [ 13]\n",
            " [ 14]\n",
            " [ 15]\n",
            " [ 16]\n",
            " [ 17]\n",
            " [ 18]\n",
            " [ 19]\n",
            " [ 20]\n",
            " [ 21]\n",
            " [ 22]\n",
            " [ 23]\n",
            " [ 24]\n",
            " [ 25]\n",
            " [ 26]\n",
            " [ 27]\n",
            " [ 28]\n",
            " [ 29]\n",
            " [ 30]\n",
            " [ 31]\n",
            " [ 32]\n",
            " [ 33]\n",
            " [ 34]\n",
            " [ 35]\n",
            " [ 36]\n",
            " [ 37]\n",
            " [ 38]\n",
            " [ 39]\n",
            " [ 40]\n",
            " [ 41]\n",
            " [ 42]\n",
            " [ 43]\n",
            " [ 44]\n",
            " [ 45]\n",
            " [ 46]\n",
            " [ 47]\n",
            " [ 48]\n",
            " [ 49]\n",
            " [ 50]\n",
            " [ 51]\n",
            " [ 52]\n",
            " [ 53]\n",
            " [ 54]\n",
            " [ 55]\n",
            " [ 56]\n",
            " [ 57]\n",
            " [ 58]\n",
            " [ 59]\n",
            " [ 60]\n",
            " [ 61]\n",
            " [ 62]\n",
            " [ 63]\n",
            " [ 64]\n",
            " [ 65]\n",
            " [ 66]\n",
            " [ 67]\n",
            " [ 68]\n",
            " [ 69]\n",
            " [ 70]\n",
            " [ 71]\n",
            " [ 72]\n",
            " [ 73]\n",
            " [ 74]\n",
            " [ 75]\n",
            " [ 76]\n",
            " [ 77]\n",
            " [ 78]\n",
            " [ 79]\n",
            " [ 80]\n",
            " [ 81]\n",
            " [ 82]\n",
            " [ 83]\n",
            " [ 84]\n",
            " [ 85]\n",
            " [ 86]\n",
            " [ 87]\n",
            " [ 88]\n",
            " [ 89]\n",
            " [ 90]\n",
            " [ 91]\n",
            " [ 92]\n",
            " [ 93]\n",
            " [ 94]\n",
            " [ 95]\n",
            " [ 96]\n",
            " [ 97]\n",
            " [ 98]\n",
            " [ 99]\n",
            " [100]\n",
            " [101]\n",
            " [102]\n",
            " [103]\n",
            " [104]\n",
            " [105]\n",
            " [106]\n",
            " [107]\n",
            " [108]\n",
            " [109]\n",
            " [110]\n",
            " [111]\n",
            " [112]\n",
            " [113]\n",
            " [114]\n",
            " [115]\n",
            " [116]\n",
            " [117]\n",
            " [118]\n",
            " [119]\n",
            " [120]\n",
            " [121]\n",
            " [122]\n",
            " [123]\n",
            " [124]\n",
            " [125]\n",
            " [126]\n",
            " [127]\n",
            " [128]\n",
            " [129]\n",
            " [130]\n",
            " [131]\n",
            " [132]\n",
            " [133]\n",
            " [134]\n",
            " [135]\n",
            " [136]\n",
            " [137]\n",
            " [138]\n",
            " [139]\n",
            " [140]\n",
            " [141]\n",
            " [142]\n",
            " [143]\n",
            " [144]\n",
            " [145]\n",
            " [146]\n",
            " [147]\n",
            " [148]\n",
            " [149]\n",
            " [150]\n",
            " [151]\n",
            " [152]\n",
            " [153]\n",
            " [154]\n",
            " [155]\n",
            " [156]\n",
            " [157]\n",
            " [158]\n",
            " [159]\n",
            " [160]\n",
            " [161]\n",
            " [162]\n",
            " [163]\n",
            " [164]\n",
            " [165]\n",
            " [166]\n",
            " [167]\n",
            " [168]\n",
            " [169]\n",
            " [170]\n",
            " [171]\n",
            " [172]\n",
            " [173]\n",
            " [174]\n",
            " [175]\n",
            " [176]\n",
            " [177]\n",
            " [178]\n",
            " [179]\n",
            " [180]\n",
            " [181]\n",
            " [182]\n",
            " [183]\n",
            " [184]\n",
            " [185]\n",
            " [186]\n",
            " [187]\n",
            " [188]\n",
            " [189]\n",
            " [190]\n",
            " [191]\n",
            " [192]\n",
            " [193]\n",
            " [194]\n",
            " [195]\n",
            " [196]\n",
            " [197]\n",
            " [198]\n",
            " [199]\n",
            " [200]\n",
            " [201]\n",
            " [202]\n",
            " [203]\n",
            " [204]\n",
            " [205]\n",
            " [206]\n",
            " [207]\n",
            " [208]\n",
            " [209]\n",
            " [210]\n",
            " [211]]\n"
          ],
          "name": "stdout"
        }
      ]
    },
    {
      "cell_type": "code",
      "metadata": {
        "id": "1G1WhaIfv-qQ",
        "outputId": "9b3bfe19-2cb9-42d1-ca4a-29718e9c2110",
        "colab": {
          "base_uri": "https://localhost:8080/",
          "height": 34
        }
      },
      "source": [
        "x_train_all = poly.transform(forecast)\n",
        "x_train_all.shape"
      ],
      "execution_count": 110,
      "outputs": [
        {
          "output_type": "execute_result",
          "data": {
            "text/plain": [
              "(212, 3)"
            ]
          },
          "metadata": {
            "tags": []
          },
          "execution_count": 110
        }
      ]
    },
    {
      "cell_type": "code",
      "metadata": {
        "id": "V1-D8mv9wG8s",
        "outputId": "5a0bf4ca-73e7-456e-fce9-7c8ea883a15d",
        "colab": {
          "base_uri": "https://localhost:8080/",
          "height": 34
        }
      },
      "source": [
        "poly_pred_all = regressor.predict(x_train_all)\n",
        "len(poly_pred_all)"
      ],
      "execution_count": 111,
      "outputs": [
        {
          "output_type": "execute_result",
          "data": {
            "text/plain": [
              "212"
            ]
          },
          "metadata": {
            "tags": []
          },
          "execution_count": 111
        }
      ]
    },
    {
      "cell_type": "code",
      "metadata": {
        "id": "9FJMo7ttvMG4",
        "outputId": "3aa85cee-808c-4c70-8a9a-7a59f824bafb",
        "colab": {
          "base_uri": "https://localhost:8080/",
          "height": 295
        }
      },
      "source": [
        "plt.plot(forecast[:-20], y, color='red')\n",
        "plt.plot(forecast, poly_pred_all, linestyle='dashed')\n",
        "plt.title('Deaths of COVID-19 in Brazil')\n",
        "plt.xlabel('Days since 2/26/2020')\n",
        "plt.ylabel('Number of cases')\n",
        "plt.legend(['Cumulative_cases', 'Predictions']);"
      ],
      "execution_count": 117,
      "outputs": [
        {
          "output_type": "display_data",
          "data": {
            "image/png": "[encoded data removed]",
            "text/plain": [
              "<Figure size 432x288 with 1 Axes>"
            ]
          },
          "metadata": {
            "tags": [],
            "needs_background": "light"
          }
        }
      ]
    }
  ]
}