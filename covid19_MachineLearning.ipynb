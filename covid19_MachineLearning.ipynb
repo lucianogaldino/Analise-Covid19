{
  "nbformat": 4,
  "nbformat_minor": 0,
  "metadata": {
    "colab": {
      "name": "covid19.MachineLearning.ipynb",
      "provenance": [],
      "toc_visible": true,
      "mount_file_id": "1ytI77ZaJi2uY5EeJ_1LhbsBs0OLg0SSi",
      "authorship_tag": "ABX9TyOOYvuwF3iZbm2E3VVRtix2",
      "include_colab_link": true
    },
    "kernelspec": {
      "name": "python3",
      "display_name": "Python 3"
    }
  },
  "cells": [
    {
      "cell_type": "markdown",
      "metadata": {
        "id": "view-in-github",
        "colab_type": "text"
      },
      "source": [
        "<a href=\"https://colab.research.google.com/github/lucianogaldino/Analise-Covid19/blob/master/covid19_MachineLearning.ipynb\" target=\"_parent\"><img src=\"https://colab.research.google.com/assets/colab-badge.svg\" alt=\"Open In Colab\"/></a>"
      ]
    },
    {
      "cell_type": "markdown",
      "metadata": {
        "id": "-8V6eL7FOtaJ"
      },
      "source": [
        "## **DESCRIPTION OF THE PROBLEM SITUATION**"
      ]
    },
    {
      "cell_type": "markdown",
      "metadata": {
        "id": "MS_AiAhmni_d"
      },
      "source": [
        "The objective of this project is to analyze the evolution of cases of covid19 in Brazil, make a future forecast and compare with other countries. The data table was removed from the WHO website (https://covid19.who.int/table) on 09/04/2020."
      ]
    },
    {
      "cell_type": "markdown",
      "metadata": {
        "id": "J32nr6MuQaYC"
      },
      "source": [
        "## **STRATEGY FOR THE SOLUTION OF THE PROBLEM SITUATION**"
      ]
    },
    {
      "cell_type": "markdown",
      "metadata": {
        "id": "COVU0SF3V3eK"
      },
      "source": [
        "After processing the data, an analysis of the regression algorithms of Machine Learning   (linear regression, polynomial regression, random forest, support vectors (SVR) and artificial neural networks) will be performed."
      ]
    },
    {
      "cell_type": "markdown",
      "metadata": {
        "id": "9NyfitDoTX6P"
      },
      "source": [
        "## **INITIAL ANALYSIS AND DATA PROCESSING**"
      ]
    },
    {
      "cell_type": "code",
      "metadata": {
        "id": "nbka_cXQmpIG"
      },
      "source": [
        "import numpy as np \n",
        "import matplotlib.pyplot as plt \n",
        "import pandas as pd \n",
        "from sklearn.model_selection import train_test_split\n",
        "from sklearn.metrics import mean_absolute_error, mean_squared_error\n",
        "import seaborn as sb"
      ],
      "execution_count": null,
      "outputs": []
    },
    {
      "cell_type": "code",
      "metadata": {
        "id": "0gEujY2noyKY"
      },
      "source": [
        "covidmundial = pd.read_csv('/content/drive/My Drive/Colab Notebooks/Covid19/COVID19.csv', sep=',')"
      ],
      "execution_count": null,
      "outputs": []
    },
    {
      "cell_type": "code",
      "metadata": {
        "id": "l9ROLjguo-K2",
        "outputId": "d23a31f1-34af-4ebc-a090-65743361c6e0",
        "colab": {
          "base_uri": "https://localhost:8080/",
          "height": 419
        }
      },
      "source": [
        "covidmundial"
      ],
      "execution_count": null,
      "outputs": [
        {
          "output_type": "execute_result",
          "data": {
            "text/html": [
              "<div>\n",
              "<style scoped>\n",
              "    .dataframe tbody tr th:only-of-type {\n",
              "        vertical-align: middle;\n",
              "    }\n",
              "\n",
              "    .dataframe tbody tr th {\n",
              "        vertical-align: top;\n",
              "    }\n",
              "\n",
              "    .dataframe thead th {\n",
              "        text-align: right;\n",
              "    }\n",
              "</style>\n",
              "<table border=\"1\" class=\"dataframe\">\n",
              "  <thead>\n",
              "    <tr style=\"text-align: right;\">\n",
              "      <th></th>\n",
              "      <th>date</th>\n",
              "      <th>country_code</th>\n",
              "      <th>country</th>\n",
              "      <th>who_region</th>\n",
              "      <th>new_cases</th>\n",
              "      <th>cumulative_cases</th>\n",
              "      <th>new_deaths</th>\n",
              "      <th>cumulative_deaths</th>\n",
              "    </tr>\n",
              "  </thead>\n",
              "  <tbody>\n",
              "    <tr>\n",
              "      <th>0</th>\n",
              "      <td>2020-02-24</td>\n",
              "      <td>AF</td>\n",
              "      <td>Afghanistan</td>\n",
              "      <td>EMRO</td>\n",
              "      <td>5</td>\n",
              "      <td>5</td>\n",
              "      <td>0</td>\n",
              "      <td>0</td>\n",
              "    </tr>\n",
              "    <tr>\n",
              "      <th>1</th>\n",
              "      <td>2020-02-25</td>\n",
              "      <td>AF</td>\n",
              "      <td>Afghanistan</td>\n",
              "      <td>EMRO</td>\n",
              "      <td>0</td>\n",
              "      <td>5</td>\n",
              "      <td>0</td>\n",
              "      <td>0</td>\n",
              "    </tr>\n",
              "    <tr>\n",
              "      <th>2</th>\n",
              "      <td>2020-02-26</td>\n",
              "      <td>AF</td>\n",
              "      <td>Afghanistan</td>\n",
              "      <td>EMRO</td>\n",
              "      <td>0</td>\n",
              "      <td>5</td>\n",
              "      <td>0</td>\n",
              "      <td>0</td>\n",
              "    </tr>\n",
              "    <tr>\n",
              "      <th>3</th>\n",
              "      <td>2020-02-27</td>\n",
              "      <td>AF</td>\n",
              "      <td>Afghanistan</td>\n",
              "      <td>EMRO</td>\n",
              "      <td>0</td>\n",
              "      <td>5</td>\n",
              "      <td>0</td>\n",
              "      <td>0</td>\n",
              "    </tr>\n",
              "    <tr>\n",
              "      <th>4</th>\n",
              "      <td>2020-02-28</td>\n",
              "      <td>AF</td>\n",
              "      <td>Afghanistan</td>\n",
              "      <td>EMRO</td>\n",
              "      <td>0</td>\n",
              "      <td>5</td>\n",
              "      <td>0</td>\n",
              "      <td>0</td>\n",
              "    </tr>\n",
              "    <tr>\n",
              "      <th>...</th>\n",
              "      <td>...</td>\n",
              "      <td>...</td>\n",
              "      <td>...</td>\n",
              "      <td>...</td>\n",
              "      <td>...</td>\n",
              "      <td>...</td>\n",
              "      <td>...</td>\n",
              "      <td>...</td>\n",
              "    </tr>\n",
              "    <tr>\n",
              "      <th>39428</th>\n",
              "      <td>2020-08-31</td>\n",
              "      <td>ZW</td>\n",
              "      <td>Zimbabwe</td>\n",
              "      <td>AFRO</td>\n",
              "      <td>6</td>\n",
              "      <td>6412</td>\n",
              "      <td>0</td>\n",
              "      <td>196</td>\n",
              "    </tr>\n",
              "    <tr>\n",
              "      <th>39429</th>\n",
              "      <td>2020-09-01</td>\n",
              "      <td>ZW</td>\n",
              "      <td>Zimbabwe</td>\n",
              "      <td>AFRO</td>\n",
              "      <td>85</td>\n",
              "      <td>6497</td>\n",
              "      <td>6</td>\n",
              "      <td>202</td>\n",
              "    </tr>\n",
              "    <tr>\n",
              "      <th>39430</th>\n",
              "      <td>2020-09-02</td>\n",
              "      <td>ZW</td>\n",
              "      <td>Zimbabwe</td>\n",
              "      <td>AFRO</td>\n",
              "      <td>62</td>\n",
              "      <td>6559</td>\n",
              "      <td>1</td>\n",
              "      <td>203</td>\n",
              "    </tr>\n",
              "    <tr>\n",
              "      <th>39431</th>\n",
              "      <td>2020-09-03</td>\n",
              "      <td>ZW</td>\n",
              "      <td>Zimbabwe</td>\n",
              "      <td>AFRO</td>\n",
              "      <td>79</td>\n",
              "      <td>6638</td>\n",
              "      <td>3</td>\n",
              "      <td>206</td>\n",
              "    </tr>\n",
              "    <tr>\n",
              "      <th>39432</th>\n",
              "      <td>2020-09-04</td>\n",
              "      <td>ZW</td>\n",
              "      <td>Zimbabwe</td>\n",
              "      <td>AFRO</td>\n",
              "      <td>40</td>\n",
              "      <td>6678</td>\n",
              "      <td>0</td>\n",
              "      <td>206</td>\n",
              "    </tr>\n",
              "  </tbody>\n",
              "</table>\n",
              "<p>39433 rows × 8 columns</p>\n",
              "</div>"
            ],
            "text/plain": [
              "             date country_code  ... new_deaths cumulative_deaths\n",
              "0      2020-02-24           AF  ...          0                 0\n",
              "1      2020-02-25           AF  ...          0                 0\n",
              "2      2020-02-26           AF  ...          0                 0\n",
              "3      2020-02-27           AF  ...          0                 0\n",
              "4      2020-02-28           AF  ...          0                 0\n",
              "...           ...          ...  ...        ...               ...\n",
              "39428  2020-08-31           ZW  ...          0               196\n",
              "39429  2020-09-01           ZW  ...          6               202\n",
              "39430  2020-09-02           ZW  ...          1               203\n",
              "39431  2020-09-03           ZW  ...          3               206\n",
              "39432  2020-09-04           ZW  ...          0               206\n",
              "\n",
              "[39433 rows x 8 columns]"
            ]
          },
          "metadata": {
            "tags": []
          },
          "execution_count": 3
        }
      ]
    },
    {
      "cell_type": "code",
      "metadata": {
        "id": "tf4gDGXyxINT"
      },
      "source": [
        "# Checking the max number of deaths in a day\n",
        "nummortes = covidmundial.groupby('country').new_deaths.max()"
      ],
      "execution_count": 61,
      "outputs": []
    },
    {
      "cell_type": "code",
      "metadata": {
        "id": "wYf8rjidxMIn",
        "outputId": "6b23567a-1d92-497f-cd9d-36b9ac45cf45",
        "colab": {
          "base_uri": "https://localhost:8080/",
          "height": 238
        }
      },
      "source": [
        "nummortes"
      ],
      "execution_count": 56,
      "outputs": [
        {
          "output_type": "execute_result",
          "data": {
            "text/plain": [
              "country\n",
              "Afghanistan                                                 49\n",
              "Albania                                                      6\n",
              "Algeria                                                     43\n",
              "Andorra                                                      4\n",
              "Angola                                                       6\n",
              "                                                            ..\n",
              "Viet Nam                                                     3\n",
              "Yemen                                                       53\n",
              "Zambia                                                      40\n",
              "Zimbabwe                                                    18\n",
              "occupied Palestinian territory, including east Jerusalem     7\n",
              "Name: new_deaths, Length: 216, dtype: int64"
            ]
          },
          "metadata": {
            "tags": []
          },
          "execution_count": 56
        }
      ]
    },
    {
      "cell_type": "code",
      "metadata": {
        "id": "KvgPBaaUxYVP",
        "outputId": "0c70c655-36fa-4888-923b-718ebd2cf813",
        "colab": {
          "base_uri": "https://localhost:8080/",
          "height": 221
        }
      },
      "source": [
        "# Sort the countries with the highest number of deaths per day\n",
        "nummortes.sort_values(ascending=False).head(10)"
      ],
      "execution_count": 62,
      "outputs": [
        {
          "output_type": "execute_result",
          "data": {
            "text/plain": [
              "country\n",
              "United States of America    6409\n",
              "Peru                        3935\n",
              "India                       2003\n",
              "France                      2003\n",
              "Brazil                      1595\n",
              "China                       1290\n",
              "The United Kingdom          1224\n",
              "Mexico                      1091\n",
              "Chile                       1057\n",
              "Italy                        971\n",
              "Name: new_deaths, dtype: int64"
            ]
          },
          "metadata": {
            "tags": []
          },
          "execution_count": 62
        }
      ]
    },
    {
      "cell_type": "code",
      "metadata": {
        "id": "4i8-Or7sxnWH"
      },
      "source": [
        "# Checking the total number of deaths by country\n",
        "totaldeaths = covidmundial.groupby('country').cumulative_deaths.max()"
      ],
      "execution_count": 63,
      "outputs": []
    },
    {
      "cell_type": "code",
      "metadata": {
        "id": "FjWrHCyOxwxe",
        "outputId": "2dc8eb42-5874-4070-f7ff-737c81c72cf1",
        "colab": {
          "base_uri": "https://localhost:8080/",
          "height": 221
        }
      },
      "source": [
        "# Sort the countries with the highest death rates\n",
        "totaldeaths.sort_values(ascending=False).head(10)"
      ],
      "execution_count": 64,
      "outputs": [
        {
          "output_type": "execute_result",
          "data": {
            "text/plain": [
              "country\n",
              "United States of America      184614\n",
              "Brazil                        123780\n",
              "India                          68472\n",
              "Mexico                         65816\n",
              "The United Kingdom             41527\n",
              "Italy                          35507\n",
              "France                         30556\n",
              "Peru                           29259\n",
              "Spain                          29234\n",
              "Iran (Islamic Republic of)     21926\n",
              "Name: cumulative_deaths, dtype: int64"
            ]
          },
          "metadata": {
            "tags": []
          },
          "execution_count": 64
        }
      ]
    },
    {
      "cell_type": "code",
      "metadata": {
        "id": "OhoedQX-pX3r"
      },
      "source": [
        "covidbrasil = covidmundial.loc[covidmundial.country=='Brazil']"
      ],
      "execution_count": null,
      "outputs": []
    },
    {
      "cell_type": "code",
      "metadata": {
        "id": "yEEy9i_Gruuv",
        "outputId": "4f5f32ed-7392-448f-8f5a-3dd62801e337",
        "colab": {
          "base_uri": "https://localhost:8080/",
          "height": 204
        }
      },
      "source": [
        "covidbrasil.head()"
      ],
      "execution_count": null,
      "outputs": [
        {
          "output_type": "execute_result",
          "data": {
            "text/html": [
              "<div>\n",
              "<style scoped>\n",
              "    .dataframe tbody tr th:only-of-type {\n",
              "        vertical-align: middle;\n",
              "    }\n",
              "\n",
              "    .dataframe tbody tr th {\n",
              "        vertical-align: top;\n",
              "    }\n",
              "\n",
              "    .dataframe thead th {\n",
              "        text-align: right;\n",
              "    }\n",
              "</style>\n",
              "<table border=\"1\" class=\"dataframe\">\n",
              "  <thead>\n",
              "    <tr style=\"text-align: right;\">\n",
              "      <th></th>\n",
              "      <th>date</th>\n",
              "      <th>country_code</th>\n",
              "      <th>country</th>\n",
              "      <th>who_region</th>\n",
              "      <th>new_cases</th>\n",
              "      <th>cumulative_cases</th>\n",
              "      <th>new_deaths</th>\n",
              "      <th>cumulative_deaths</th>\n",
              "    </tr>\n",
              "  </thead>\n",
              "  <tbody>\n",
              "    <tr>\n",
              "      <th>4896</th>\n",
              "      <td>2020-02-26</td>\n",
              "      <td>BR</td>\n",
              "      <td>Brazil</td>\n",
              "      <td>AMRO</td>\n",
              "      <td>5</td>\n",
              "      <td>5</td>\n",
              "      <td>0</td>\n",
              "      <td>0</td>\n",
              "    </tr>\n",
              "    <tr>\n",
              "      <th>4897</th>\n",
              "      <td>2020-02-27</td>\n",
              "      <td>BR</td>\n",
              "      <td>Brazil</td>\n",
              "      <td>AMRO</td>\n",
              "      <td>0</td>\n",
              "      <td>5</td>\n",
              "      <td>0</td>\n",
              "      <td>0</td>\n",
              "    </tr>\n",
              "    <tr>\n",
              "      <th>4898</th>\n",
              "      <td>2020-02-28</td>\n",
              "      <td>BR</td>\n",
              "      <td>Brazil</td>\n",
              "      <td>AMRO</td>\n",
              "      <td>0</td>\n",
              "      <td>5</td>\n",
              "      <td>0</td>\n",
              "      <td>0</td>\n",
              "    </tr>\n",
              "    <tr>\n",
              "      <th>4899</th>\n",
              "      <td>2020-02-29</td>\n",
              "      <td>BR</td>\n",
              "      <td>Brazil</td>\n",
              "      <td>AMRO</td>\n",
              "      <td>0</td>\n",
              "      <td>5</td>\n",
              "      <td>0</td>\n",
              "      <td>0</td>\n",
              "    </tr>\n",
              "    <tr>\n",
              "      <th>4900</th>\n",
              "      <td>2020-03-01</td>\n",
              "      <td>BR</td>\n",
              "      <td>Brazil</td>\n",
              "      <td>AMRO</td>\n",
              "      <td>1</td>\n",
              "      <td>6</td>\n",
              "      <td>0</td>\n",
              "      <td>0</td>\n",
              "    </tr>\n",
              "  </tbody>\n",
              "</table>\n",
              "</div>"
            ],
            "text/plain": [
              "            date country_code  ... new_deaths cumulative_deaths\n",
              "4896  2020-02-26           BR  ...          0                 0\n",
              "4897  2020-02-27           BR  ...          0                 0\n",
              "4898  2020-02-28           BR  ...          0                 0\n",
              "4899  2020-02-29           BR  ...          0                 0\n",
              "4900  2020-03-01           BR  ...          0                 0\n",
              "\n",
              "[5 rows x 8 columns]"
            ]
          },
          "metadata": {
            "tags": []
          },
          "execution_count": 5
        }
      ]
    },
    {
      "cell_type": "code",
      "metadata": {
        "id": "s0ByTIIro3fK",
        "outputId": "01aa155b-fed3-487e-c9cb-4f7b60e66eaf",
        "colab": {
          "base_uri": "https://localhost:8080/",
          "height": 34
        }
      },
      "source": [
        "covidbrasil.shape"
      ],
      "execution_count": null,
      "outputs": [
        {
          "output_type": "execute_result",
          "data": {
            "text/plain": [
              "(192, 8)"
            ]
          },
          "metadata": {
            "tags": []
          },
          "execution_count": 6
        }
      ]
    },
    {
      "cell_type": "code",
      "metadata": {
        "id": "RIgkgwQ6Qk5e",
        "outputId": "3f208593-3dee-4c12-f471-0a0626e5f0b7",
        "colab": {
          "base_uri": "https://localhost:8080/",
          "height": 170
        }
      },
      "source": [
        "covidbrasil.dtypes"
      ],
      "execution_count": null,
      "outputs": [
        {
          "output_type": "execute_result",
          "data": {
            "text/plain": [
              "date                 object\n",
              "country_code         object\n",
              "country              object\n",
              "who_region           object\n",
              "new_cases             int64\n",
              "cumulative_cases      int64\n",
              "new_deaths            int64\n",
              "cumulative_deaths     int64\n",
              "dtype: object"
            ]
          },
          "metadata": {
            "tags": []
          },
          "execution_count": 7
        }
      ]
    },
    {
      "cell_type": "code",
      "metadata": {
        "id": "y3rq7Ny7Q9eh",
        "outputId": "41f9550a-fb37-44e0-cde3-4eeadb23d945",
        "colab": {
          "base_uri": "https://localhost:8080/",
          "height": 170
        }
      },
      "source": [
        "covidbrasil.isnull().sum()"
      ],
      "execution_count": null,
      "outputs": [
        {
          "output_type": "execute_result",
          "data": {
            "text/plain": [
              "date                 0\n",
              "country_code         0\n",
              "country              0\n",
              "who_region           0\n",
              "new_cases            0\n",
              "cumulative_cases     0\n",
              "new_deaths           0\n",
              "cumulative_deaths    0\n",
              "dtype: int64"
            ]
          },
          "metadata": {
            "tags": []
          },
          "execution_count": 8
        }
      ]
    },
    {
      "cell_type": "code",
      "metadata": {
        "id": "noNLMvgFRCow",
        "outputId": "9910fd98-7901-4eb2-f7fe-a774fb0e7fd6",
        "colab": {
          "base_uri": "https://localhost:8080/",
          "height": 170
        }
      },
      "source": [
        "covidmundial.isnull().sum()"
      ],
      "execution_count": null,
      "outputs": [
        {
          "output_type": "execute_result",
          "data": {
            "text/plain": [
              "date                   0\n",
              "country_code         175\n",
              "country                0\n",
              "who_region             0\n",
              "new_cases              0\n",
              "cumulative_cases       0\n",
              "new_deaths             0\n",
              "cumulative_deaths      0\n",
              "dtype: int64"
            ]
          },
          "metadata": {
            "tags": []
          },
          "execution_count": 9
        }
      ]
    },
    {
      "cell_type": "markdown",
      "metadata": {
        "id": "j2plBYqJRnf2"
      },
      "source": [
        "\n",
        "175 records of attribute country_code were found as null values ​​(NaN), but this attribute will not be used in Machine Learning algorithms."
      ]
    },
    {
      "cell_type": "code",
      "metadata": {
        "id": "4NPVfBFnUQz3",
        "outputId": "bd89653a-efa7-467f-b684-65891c6da61a",
        "colab": {
          "base_uri": "https://localhost:8080/",
          "height": 589
        }
      },
      "source": [
        "covidmundial.loc[covidmundial.new_cases < 0, :]"
      ],
      "execution_count": null,
      "outputs": [
        {
          "output_type": "execute_result",
          "data": {
            "text/html": [
              "<div>\n",
              "<style scoped>\n",
              "    .dataframe tbody tr th:only-of-type {\n",
              "        vertical-align: middle;\n",
              "    }\n",
              "\n",
              "    .dataframe tbody tr th {\n",
              "        vertical-align: top;\n",
              "    }\n",
              "\n",
              "    .dataframe thead th {\n",
              "        text-align: right;\n",
              "    }\n",
              "</style>\n",
              "<table border=\"1\" class=\"dataframe\">\n",
              "  <thead>\n",
              "    <tr style=\"text-align: right;\">\n",
              "      <th></th>\n",
              "      <th>date</th>\n",
              "      <th>country_code</th>\n",
              "      <th>country</th>\n",
              "      <th>who_region</th>\n",
              "      <th>new_cases</th>\n",
              "      <th>cumulative_cases</th>\n",
              "      <th>new_deaths</th>\n",
              "      <th>cumulative_deaths</th>\n",
              "    </tr>\n",
              "  </thead>\n",
              "  <tbody>\n",
              "    <tr>\n",
              "      <th>25</th>\n",
              "      <td>2020-03-20</td>\n",
              "      <td>AF</td>\n",
              "      <td>Afghanistan</td>\n",
              "      <td>EMRO</td>\n",
              "      <td>-2</td>\n",
              "      <td>24</td>\n",
              "      <td>0</td>\n",
              "      <td>0</td>\n",
              "    </tr>\n",
              "    <tr>\n",
              "      <th>1095</th>\n",
              "      <td>2020-03-24</td>\n",
              "      <td>AG</td>\n",
              "      <td>Antigua and Barbuda</td>\n",
              "      <td>AMRO</td>\n",
              "      <td>-2</td>\n",
              "      <td>3</td>\n",
              "      <td>0</td>\n",
              "      <td>0</td>\n",
              "    </tr>\n",
              "    <tr>\n",
              "      <th>1636</th>\n",
              "      <td>2020-03-19</td>\n",
              "      <td>AW</td>\n",
              "      <td>Aruba</td>\n",
              "      <td>AMRO</td>\n",
              "      <td>-3</td>\n",
              "      <td>5</td>\n",
              "      <td>0</td>\n",
              "      <td>0</td>\n",
              "    </tr>\n",
              "    <tr>\n",
              "      <th>2414</th>\n",
              "      <td>2020-03-20</td>\n",
              "      <td>BS</td>\n",
              "      <td>Bahamas</td>\n",
              "      <td>AMRO</td>\n",
              "      <td>-3</td>\n",
              "      <td>4</td>\n",
              "      <td>0</td>\n",
              "      <td>0</td>\n",
              "    </tr>\n",
              "    <tr>\n",
              "      <th>2960</th>\n",
              "      <td>2020-03-20</td>\n",
              "      <td>BB</td>\n",
              "      <td>Barbados</td>\n",
              "      <td>AMRO</td>\n",
              "      <td>-1</td>\n",
              "      <td>5</td>\n",
              "      <td>0</td>\n",
              "      <td>0</td>\n",
              "    </tr>\n",
              "    <tr>\n",
              "      <th>...</th>\n",
              "      <td>...</td>\n",
              "      <td>...</td>\n",
              "      <td>...</td>\n",
              "      <td>...</td>\n",
              "      <td>...</td>\n",
              "      <td>...</td>\n",
              "      <td>...</td>\n",
              "      <td>...</td>\n",
              "    </tr>\n",
              "    <tr>\n",
              "      <th>36347</th>\n",
              "      <td>2020-03-19</td>\n",
              "      <td>TT</td>\n",
              "      <td>Trinidad and Tobago</td>\n",
              "      <td>AMRO</td>\n",
              "      <td>-2</td>\n",
              "      <td>9</td>\n",
              "      <td>0</td>\n",
              "      <td>0</td>\n",
              "    </tr>\n",
              "    <tr>\n",
              "      <th>37112</th>\n",
              "      <td>2020-05-25</td>\n",
              "      <td>UG</td>\n",
              "      <td>Uganda</td>\n",
              "      <td>AFRO</td>\n",
              "      <td>-8</td>\n",
              "      <td>304</td>\n",
              "      <td>0</td>\n",
              "      <td>0</td>\n",
              "    </tr>\n",
              "    <tr>\n",
              "      <th>37140</th>\n",
              "      <td>2020-06-22</td>\n",
              "      <td>UG</td>\n",
              "      <td>Uganda</td>\n",
              "      <td>AFRO</td>\n",
              "      <td>-68</td>\n",
              "      <td>755</td>\n",
              "      <td>0</td>\n",
              "      <td>0</td>\n",
              "    </tr>\n",
              "    <tr>\n",
              "      <th>38030</th>\n",
              "      <td>2020-03-21</td>\n",
              "      <td>VI</td>\n",
              "      <td>United States Virgin Islands</td>\n",
              "      <td>AMRO</td>\n",
              "      <td>-1</td>\n",
              "      <td>6</td>\n",
              "      <td>0</td>\n",
              "      <td>0</td>\n",
              "    </tr>\n",
              "    <tr>\n",
              "      <th>39098</th>\n",
              "      <td>2020-03-23</td>\n",
              "      <td>ZM</td>\n",
              "      <td>Zambia</td>\n",
              "      <td>AFRO</td>\n",
              "      <td>-3</td>\n",
              "      <td>3</td>\n",
              "      <td>0</td>\n",
              "      <td>0</td>\n",
              "    </tr>\n",
              "  </tbody>\n",
              "</table>\n",
              "<p>82 rows × 8 columns</p>\n",
              "</div>"
            ],
            "text/plain": [
              "             date country_code  ... new_deaths cumulative_deaths\n",
              "25     2020-03-20           AF  ...          0                 0\n",
              "1095   2020-03-24           AG  ...          0                 0\n",
              "1636   2020-03-19           AW  ...          0                 0\n",
              "2414   2020-03-20           BS  ...          0                 0\n",
              "2960   2020-03-20           BB  ...          0                 0\n",
              "...           ...          ...  ...        ...               ...\n",
              "36347  2020-03-19           TT  ...          0                 0\n",
              "37112  2020-05-25           UG  ...          0                 0\n",
              "37140  2020-06-22           UG  ...          0                 0\n",
              "38030  2020-03-21           VI  ...          0                 0\n",
              "39098  2020-03-23           ZM  ...          0                 0\n",
              "\n",
              "[82 rows x 8 columns]"
            ]
          },
          "metadata": {
            "tags": []
          },
          "execution_count": 10
        }
      ]
    },
    {
      "cell_type": "code",
      "metadata": {
        "id": "5G4q4MQTTCfC",
        "outputId": "33c764cb-6f8b-469d-b844-6ffa6d42d358",
        "colab": {
          "base_uri": "https://localhost:8080/",
          "height": 170
        }
      },
      "source": [
        "# Checking negative values ​​in world records\n",
        "covidmundial.loc[covidmundial.new_cases < 0, :].count()"
      ],
      "execution_count": null,
      "outputs": [
        {
          "output_type": "execute_result",
          "data": {
            "text/plain": [
              "date                 82\n",
              "country_code         81\n",
              "country              82\n",
              "who_region           82\n",
              "new_cases            82\n",
              "cumulative_cases     82\n",
              "new_deaths           82\n",
              "cumulative_deaths    82\n",
              "dtype: int64"
            ]
          },
          "metadata": {
            "tags": []
          },
          "execution_count": 11
        }
      ]
    },
    {
      "cell_type": "code",
      "metadata": {
        "id": "i3nzelAgUmiA",
        "outputId": "2b62dea5-c1b1-4624-f9c0-01d148c2e6c3",
        "colab": {
          "base_uri": "https://localhost:8080/",
          "height": 170
        }
      },
      "source": [
        "# Checking negative values ​​in Brazil records\n",
        "covidbrasil.loc[covidbrasil.new_cases < 0, :].count()"
      ],
      "execution_count": null,
      "outputs": [
        {
          "output_type": "execute_result",
          "data": {
            "text/plain": [
              "date                 0\n",
              "country_code         0\n",
              "country              0\n",
              "who_region           0\n",
              "new_cases            0\n",
              "cumulative_cases     0\n",
              "new_deaths           0\n",
              "cumulative_deaths    0\n",
              "dtype: int64"
            ]
          },
          "metadata": {
            "tags": []
          },
          "execution_count": 12
        }
      ]
    },
    {
      "cell_type": "markdown",
      "metadata": {
        "id": "1I1OPcvXTxfU"
      },
      "source": [
        "82 records were found with negative values ​​for the attributes new_cases and new_deaths. This was for data corrections. None of these situations occurred in Brazil. After statistical analysis, it will be decided whether it is consistent to exclude these records from the database"
      ]
    },
    {
      "cell_type": "code",
      "metadata": {
        "id": "visJIb8mptBd"
      },
      "source": [
        "covidmundial_sum = covidmundial.groupby('date').agg({'new_cases': 'sum','cumulative_cases':'sum','new_deaths': 'sum','cumulative_deaths':'sum'}).reset_index()"
      ],
      "execution_count": null,
      "outputs": []
    },
    {
      "cell_type": "code",
      "metadata": {
        "id": "W9ywoovqqHAa",
        "outputId": "74021891-db01-4a86-adb8-8527d78d6e97",
        "colab": {
          "base_uri": "https://localhost:8080/",
          "height": 419
        }
      },
      "source": [
        "covidmundial_sum"
      ],
      "execution_count": null,
      "outputs": [
        {
          "output_type": "execute_result",
          "data": {
            "text/html": [
              "<div>\n",
              "<style scoped>\n",
              "    .dataframe tbody tr th:only-of-type {\n",
              "        vertical-align: middle;\n",
              "    }\n",
              "\n",
              "    .dataframe tbody tr th {\n",
              "        vertical-align: top;\n",
              "    }\n",
              "\n",
              "    .dataframe thead th {\n",
              "        text-align: right;\n",
              "    }\n",
              "</style>\n",
              "<table border=\"1\" class=\"dataframe\">\n",
              "  <thead>\n",
              "    <tr style=\"text-align: right;\">\n",
              "      <th></th>\n",
              "      <th>date</th>\n",
              "      <th>new_cases</th>\n",
              "      <th>cumulative_cases</th>\n",
              "      <th>new_deaths</th>\n",
              "      <th>cumulative_deaths</th>\n",
              "    </tr>\n",
              "  </thead>\n",
              "  <tbody>\n",
              "    <tr>\n",
              "      <th>0</th>\n",
              "      <td>2020-01-04</td>\n",
              "      <td>1</td>\n",
              "      <td>1</td>\n",
              "      <td>0</td>\n",
              "      <td>0</td>\n",
              "    </tr>\n",
              "    <tr>\n",
              "      <th>1</th>\n",
              "      <td>2020-01-05</td>\n",
              "      <td>0</td>\n",
              "      <td>1</td>\n",
              "      <td>0</td>\n",
              "      <td>0</td>\n",
              "    </tr>\n",
              "    <tr>\n",
              "      <th>2</th>\n",
              "      <td>2020-01-06</td>\n",
              "      <td>3</td>\n",
              "      <td>4</td>\n",
              "      <td>0</td>\n",
              "      <td>0</td>\n",
              "    </tr>\n",
              "    <tr>\n",
              "      <th>3</th>\n",
              "      <td>2020-01-07</td>\n",
              "      <td>0</td>\n",
              "      <td>4</td>\n",
              "      <td>0</td>\n",
              "      <td>0</td>\n",
              "    </tr>\n",
              "    <tr>\n",
              "      <th>4</th>\n",
              "      <td>2020-01-08</td>\n",
              "      <td>0</td>\n",
              "      <td>4</td>\n",
              "      <td>0</td>\n",
              "      <td>0</td>\n",
              "    </tr>\n",
              "    <tr>\n",
              "      <th>...</th>\n",
              "      <td>...</td>\n",
              "      <td>...</td>\n",
              "      <td>...</td>\n",
              "      <td>...</td>\n",
              "      <td>...</td>\n",
              "    </tr>\n",
              "    <tr>\n",
              "      <th>240</th>\n",
              "      <td>2020-08-31</td>\n",
              "      <td>267850</td>\n",
              "      <td>25144425</td>\n",
              "      <td>5417</td>\n",
              "      <td>844473</td>\n",
              "    </tr>\n",
              "    <tr>\n",
              "      <th>241</th>\n",
              "      <td>2020-09-01</td>\n",
              "      <td>212698</td>\n",
              "      <td>25357123</td>\n",
              "      <td>3980</td>\n",
              "      <td>848453</td>\n",
              "    </tr>\n",
              "    <tr>\n",
              "      <th>242</th>\n",
              "      <td>2020-09-02</td>\n",
              "      <td>248989</td>\n",
              "      <td>25606112</td>\n",
              "      <td>4370</td>\n",
              "      <td>852823</td>\n",
              "    </tr>\n",
              "    <tr>\n",
              "      <th>243</th>\n",
              "      <td>2020-09-03</td>\n",
              "      <td>279613</td>\n",
              "      <td>25885725</td>\n",
              "      <td>6317</td>\n",
              "      <td>859140</td>\n",
              "    </tr>\n",
              "    <tr>\n",
              "      <th>244</th>\n",
              "      <td>2020-09-04</td>\n",
              "      <td>285387</td>\n",
              "      <td>26171112</td>\n",
              "      <td>6014</td>\n",
              "      <td>865154</td>\n",
              "    </tr>\n",
              "  </tbody>\n",
              "</table>\n",
              "<p>245 rows × 5 columns</p>\n",
              "</div>"
            ],
            "text/plain": [
              "           date  new_cases  cumulative_cases  new_deaths  cumulative_deaths\n",
              "0    2020-01-04          1                 1           0                  0\n",
              "1    2020-01-05          0                 1           0                  0\n",
              "2    2020-01-06          3                 4           0                  0\n",
              "3    2020-01-07          0                 4           0                  0\n",
              "4    2020-01-08          0                 4           0                  0\n",
              "..          ...        ...               ...         ...                ...\n",
              "240  2020-08-31     267850          25144425        5417             844473\n",
              "241  2020-09-01     212698          25357123        3980             848453\n",
              "242  2020-09-02     248989          25606112        4370             852823\n",
              "243  2020-09-03     279613          25885725        6317             859140\n",
              "244  2020-09-04     285387          26171112        6014             865154\n",
              "\n",
              "[245 rows x 5 columns]"
            ]
          },
          "metadata": {
            "tags": []
          },
          "execution_count": 14
        }
      ]
    },
    {
      "cell_type": "markdown",
      "metadata": {
        "id": "XqWQqVXniyxv"
      },
      "source": [
        "## **Analysis in each mounth between March and August in Brazil**"
      ]
    },
    {
      "cell_type": "code",
      "metadata": {
        "id": "t-5Dtyejjf1p",
        "outputId": "5d785d96-2a31-48b4-e6ff-5e4eb3afca1f",
        "colab": {
          "base_uri": "https://localhost:8080/",
          "height": 1000
        }
      },
      "source": [
        "covidbrasil.loc[covidbrasil.index>=1,['date', 'new_deaths']].head(35)"
      ],
      "execution_count": 65,
      "outputs": [
        {
          "output_type": "execute_result",
          "data": {
            "text/html": [
              "<div>\n",
              "<style scoped>\n",
              "    .dataframe tbody tr th:only-of-type {\n",
              "        vertical-align: middle;\n",
              "    }\n",
              "\n",
              "    .dataframe tbody tr th {\n",
              "        vertical-align: top;\n",
              "    }\n",
              "\n",
              "    .dataframe thead th {\n",
              "        text-align: right;\n",
              "    }\n",
              "</style>\n",
              "<table border=\"1\" class=\"dataframe\">\n",
              "  <thead>\n",
              "    <tr style=\"text-align: right;\">\n",
              "      <th></th>\n",
              "      <th>date</th>\n",
              "      <th>new_deaths</th>\n",
              "    </tr>\n",
              "  </thead>\n",
              "  <tbody>\n",
              "    <tr>\n",
              "      <th>4896</th>\n",
              "      <td>2020-02-26</td>\n",
              "      <td>0</td>\n",
              "    </tr>\n",
              "    <tr>\n",
              "      <th>4897</th>\n",
              "      <td>2020-02-27</td>\n",
              "      <td>0</td>\n",
              "    </tr>\n",
              "    <tr>\n",
              "      <th>4898</th>\n",
              "      <td>2020-02-28</td>\n",
              "      <td>0</td>\n",
              "    </tr>\n",
              "    <tr>\n",
              "      <th>4899</th>\n",
              "      <td>2020-02-29</td>\n",
              "      <td>0</td>\n",
              "    </tr>\n",
              "    <tr>\n",
              "      <th>4900</th>\n",
              "      <td>2020-03-01</td>\n",
              "      <td>0</td>\n",
              "    </tr>\n",
              "    <tr>\n",
              "      <th>4901</th>\n",
              "      <td>2020-03-02</td>\n",
              "      <td>0</td>\n",
              "    </tr>\n",
              "    <tr>\n",
              "      <th>4902</th>\n",
              "      <td>2020-03-03</td>\n",
              "      <td>0</td>\n",
              "    </tr>\n",
              "    <tr>\n",
              "      <th>4903</th>\n",
              "      <td>2020-03-04</td>\n",
              "      <td>0</td>\n",
              "    </tr>\n",
              "    <tr>\n",
              "      <th>4904</th>\n",
              "      <td>2020-03-05</td>\n",
              "      <td>0</td>\n",
              "    </tr>\n",
              "    <tr>\n",
              "      <th>4905</th>\n",
              "      <td>2020-03-06</td>\n",
              "      <td>0</td>\n",
              "    </tr>\n",
              "    <tr>\n",
              "      <th>4906</th>\n",
              "      <td>2020-03-07</td>\n",
              "      <td>0</td>\n",
              "    </tr>\n",
              "    <tr>\n",
              "      <th>4907</th>\n",
              "      <td>2020-03-08</td>\n",
              "      <td>0</td>\n",
              "    </tr>\n",
              "    <tr>\n",
              "      <th>4908</th>\n",
              "      <td>2020-03-09</td>\n",
              "      <td>0</td>\n",
              "    </tr>\n",
              "    <tr>\n",
              "      <th>4909</th>\n",
              "      <td>2020-03-10</td>\n",
              "      <td>0</td>\n",
              "    </tr>\n",
              "    <tr>\n",
              "      <th>4910</th>\n",
              "      <td>2020-03-11</td>\n",
              "      <td>0</td>\n",
              "    </tr>\n",
              "    <tr>\n",
              "      <th>4911</th>\n",
              "      <td>2020-03-12</td>\n",
              "      <td>0</td>\n",
              "    </tr>\n",
              "    <tr>\n",
              "      <th>4912</th>\n",
              "      <td>2020-03-13</td>\n",
              "      <td>0</td>\n",
              "    </tr>\n",
              "    <tr>\n",
              "      <th>4913</th>\n",
              "      <td>2020-03-14</td>\n",
              "      <td>0</td>\n",
              "    </tr>\n",
              "    <tr>\n",
              "      <th>4914</th>\n",
              "      <td>2020-03-15</td>\n",
              "      <td>0</td>\n",
              "    </tr>\n",
              "    <tr>\n",
              "      <th>4915</th>\n",
              "      <td>2020-03-16</td>\n",
              "      <td>0</td>\n",
              "    </tr>\n",
              "    <tr>\n",
              "      <th>4916</th>\n",
              "      <td>2020-03-17</td>\n",
              "      <td>0</td>\n",
              "    </tr>\n",
              "    <tr>\n",
              "      <th>4917</th>\n",
              "      <td>2020-03-18</td>\n",
              "      <td>1</td>\n",
              "    </tr>\n",
              "    <tr>\n",
              "      <th>4918</th>\n",
              "      <td>2020-03-19</td>\n",
              "      <td>3</td>\n",
              "    </tr>\n",
              "    <tr>\n",
              "      <th>4919</th>\n",
              "      <td>2020-03-20</td>\n",
              "      <td>0</td>\n",
              "    </tr>\n",
              "    <tr>\n",
              "      <th>4920</th>\n",
              "      <td>2020-03-21</td>\n",
              "      <td>7</td>\n",
              "    </tr>\n",
              "    <tr>\n",
              "      <th>4921</th>\n",
              "      <td>2020-03-22</td>\n",
              "      <td>0</td>\n",
              "    </tr>\n",
              "    <tr>\n",
              "      <th>4922</th>\n",
              "      <td>2020-03-23</td>\n",
              "      <td>0</td>\n",
              "    </tr>\n",
              "    <tr>\n",
              "      <th>4923</th>\n",
              "      <td>2020-03-24</td>\n",
              "      <td>35</td>\n",
              "    </tr>\n",
              "    <tr>\n",
              "      <th>4924</th>\n",
              "      <td>2020-03-25</td>\n",
              "      <td>0</td>\n",
              "    </tr>\n",
              "    <tr>\n",
              "      <th>4925</th>\n",
              "      <td>2020-03-26</td>\n",
              "      <td>11</td>\n",
              "    </tr>\n",
              "    <tr>\n",
              "      <th>4926</th>\n",
              "      <td>2020-03-27</td>\n",
              "      <td>0</td>\n",
              "    </tr>\n",
              "    <tr>\n",
              "      <th>4927</th>\n",
              "      <td>2020-03-28</td>\n",
              "      <td>20</td>\n",
              "    </tr>\n",
              "    <tr>\n",
              "      <th>4928</th>\n",
              "      <td>2020-03-29</td>\n",
              "      <td>15</td>\n",
              "    </tr>\n",
              "    <tr>\n",
              "      <th>4929</th>\n",
              "      <td>2020-03-30</td>\n",
              "      <td>22</td>\n",
              "    </tr>\n",
              "    <tr>\n",
              "      <th>4930</th>\n",
              "      <td>2020-03-31</td>\n",
              "      <td>22</td>\n",
              "    </tr>\n",
              "  </tbody>\n",
              "</table>\n",
              "</div>"
            ],
            "text/plain": [
              "            date  new_deaths\n",
              "4896  2020-02-26           0\n",
              "4897  2020-02-27           0\n",
              "4898  2020-02-28           0\n",
              "4899  2020-02-29           0\n",
              "4900  2020-03-01           0\n",
              "4901  2020-03-02           0\n",
              "4902  2020-03-03           0\n",
              "4903  2020-03-04           0\n",
              "4904  2020-03-05           0\n",
              "4905  2020-03-06           0\n",
              "4906  2020-03-07           0\n",
              "4907  2020-03-08           0\n",
              "4908  2020-03-09           0\n",
              "4909  2020-03-10           0\n",
              "4910  2020-03-11           0\n",
              "4911  2020-03-12           0\n",
              "4912  2020-03-13           0\n",
              "4913  2020-03-14           0\n",
              "4914  2020-03-15           0\n",
              "4915  2020-03-16           0\n",
              "4916  2020-03-17           0\n",
              "4917  2020-03-18           1\n",
              "4918  2020-03-19           3\n",
              "4919  2020-03-20           0\n",
              "4920  2020-03-21           7\n",
              "4921  2020-03-22           0\n",
              "4922  2020-03-23           0\n",
              "4923  2020-03-24          35\n",
              "4924  2020-03-25           0\n",
              "4925  2020-03-26          11\n",
              "4926  2020-03-27           0\n",
              "4927  2020-03-28          20\n",
              "4928  2020-03-29          15\n",
              "4929  2020-03-30          22\n",
              "4930  2020-03-31          22"
            ]
          },
          "metadata": {
            "tags": []
          },
          "execution_count": 65
        }
      ]
    },
    {
      "cell_type": "code",
      "metadata": {
        "id": "AD4Wr6CHk1D2"
      },
      "source": [
        "March = covidbrasil[4:35].copy()"
      ],
      "execution_count": 66,
      "outputs": []
    },
    {
      "cell_type": "code",
      "metadata": {
        "id": "mnkLxaBmk81X",
        "outputId": "b880933f-0238-439f-a1ec-77e5c27ea6ed",
        "colab": {
          "base_uri": "https://localhost:8080/",
          "height": 979
        }
      },
      "source": [
        "March.head(30)"
      ],
      "execution_count": 67,
      "outputs": [
        {
          "output_type": "execute_result",
          "data": {
            "text/html": [
              "<div>\n",
              "<style scoped>\n",
              "    .dataframe tbody tr th:only-of-type {\n",
              "        vertical-align: middle;\n",
              "    }\n",
              "\n",
              "    .dataframe tbody tr th {\n",
              "        vertical-align: top;\n",
              "    }\n",
              "\n",
              "    .dataframe thead th {\n",
              "        text-align: right;\n",
              "    }\n",
              "</style>\n",
              "<table border=\"1\" class=\"dataframe\">\n",
              "  <thead>\n",
              "    <tr style=\"text-align: right;\">\n",
              "      <th></th>\n",
              "      <th>date</th>\n",
              "      <th>country_code</th>\n",
              "      <th>country</th>\n",
              "      <th>who_region</th>\n",
              "      <th>new_cases</th>\n",
              "      <th>cumulative_cases</th>\n",
              "      <th>new_deaths</th>\n",
              "      <th>cumulative_deaths</th>\n",
              "    </tr>\n",
              "  </thead>\n",
              "  <tbody>\n",
              "    <tr>\n",
              "      <th>4900</th>\n",
              "      <td>2020-03-01</td>\n",
              "      <td>BR</td>\n",
              "      <td>Brazil</td>\n",
              "      <td>AMRO</td>\n",
              "      <td>1</td>\n",
              "      <td>6</td>\n",
              "      <td>0</td>\n",
              "      <td>0</td>\n",
              "    </tr>\n",
              "    <tr>\n",
              "      <th>4901</th>\n",
              "      <td>2020-03-02</td>\n",
              "      <td>BR</td>\n",
              "      <td>Brazil</td>\n",
              "      <td>AMRO</td>\n",
              "      <td>0</td>\n",
              "      <td>6</td>\n",
              "      <td>0</td>\n",
              "      <td>0</td>\n",
              "    </tr>\n",
              "    <tr>\n",
              "      <th>4902</th>\n",
              "      <td>2020-03-03</td>\n",
              "      <td>BR</td>\n",
              "      <td>Brazil</td>\n",
              "      <td>AMRO</td>\n",
              "      <td>0</td>\n",
              "      <td>6</td>\n",
              "      <td>0</td>\n",
              "      <td>0</td>\n",
              "    </tr>\n",
              "    <tr>\n",
              "      <th>4903</th>\n",
              "      <td>2020-03-04</td>\n",
              "      <td>BR</td>\n",
              "      <td>Brazil</td>\n",
              "      <td>AMRO</td>\n",
              "      <td>1</td>\n",
              "      <td>7</td>\n",
              "      <td>0</td>\n",
              "      <td>0</td>\n",
              "    </tr>\n",
              "    <tr>\n",
              "      <th>4904</th>\n",
              "      <td>2020-03-05</td>\n",
              "      <td>BR</td>\n",
              "      <td>Brazil</td>\n",
              "      <td>AMRO</td>\n",
              "      <td>4</td>\n",
              "      <td>11</td>\n",
              "      <td>0</td>\n",
              "      <td>0</td>\n",
              "    </tr>\n",
              "    <tr>\n",
              "      <th>4905</th>\n",
              "      <td>2020-03-06</td>\n",
              "      <td>BR</td>\n",
              "      <td>Brazil</td>\n",
              "      <td>AMRO</td>\n",
              "      <td>1</td>\n",
              "      <td>12</td>\n",
              "      <td>0</td>\n",
              "      <td>0</td>\n",
              "    </tr>\n",
              "    <tr>\n",
              "      <th>4906</th>\n",
              "      <td>2020-03-07</td>\n",
              "      <td>BR</td>\n",
              "      <td>Brazil</td>\n",
              "      <td>AMRO</td>\n",
              "      <td>11</td>\n",
              "      <td>23</td>\n",
              "      <td>0</td>\n",
              "      <td>0</td>\n",
              "    </tr>\n",
              "    <tr>\n",
              "      <th>4907</th>\n",
              "      <td>2020-03-08</td>\n",
              "      <td>BR</td>\n",
              "      <td>Brazil</td>\n",
              "      <td>AMRO</td>\n",
              "      <td>0</td>\n",
              "      <td>23</td>\n",
              "      <td>0</td>\n",
              "      <td>0</td>\n",
              "    </tr>\n",
              "    <tr>\n",
              "      <th>4908</th>\n",
              "      <td>2020-03-09</td>\n",
              "      <td>BR</td>\n",
              "      <td>Brazil</td>\n",
              "      <td>AMRO</td>\n",
              "      <td>6</td>\n",
              "      <td>29</td>\n",
              "      <td>0</td>\n",
              "      <td>0</td>\n",
              "    </tr>\n",
              "    <tr>\n",
              "      <th>4909</th>\n",
              "      <td>2020-03-10</td>\n",
              "      <td>BR</td>\n",
              "      <td>Brazil</td>\n",
              "      <td>AMRO</td>\n",
              "      <td>0</td>\n",
              "      <td>29</td>\n",
              "      <td>0</td>\n",
              "      <td>0</td>\n",
              "    </tr>\n",
              "    <tr>\n",
              "      <th>4910</th>\n",
              "      <td>2020-03-11</td>\n",
              "      <td>BR</td>\n",
              "      <td>Brazil</td>\n",
              "      <td>AMRO</td>\n",
              "      <td>9</td>\n",
              "      <td>38</td>\n",
              "      <td>0</td>\n",
              "      <td>0</td>\n",
              "    </tr>\n",
              "    <tr>\n",
              "      <th>4911</th>\n",
              "      <td>2020-03-12</td>\n",
              "      <td>BR</td>\n",
              "      <td>Brazil</td>\n",
              "      <td>AMRO</td>\n",
              "      <td>18</td>\n",
              "      <td>56</td>\n",
              "      <td>0</td>\n",
              "      <td>0</td>\n",
              "    </tr>\n",
              "    <tr>\n",
              "      <th>4912</th>\n",
              "      <td>2020-03-13</td>\n",
              "      <td>BR</td>\n",
              "      <td>Brazil</td>\n",
              "      <td>AMRO</td>\n",
              "      <td>46</td>\n",
              "      <td>102</td>\n",
              "      <td>0</td>\n",
              "      <td>0</td>\n",
              "    </tr>\n",
              "    <tr>\n",
              "      <th>4913</th>\n",
              "      <td>2020-03-14</td>\n",
              "      <td>BR</td>\n",
              "      <td>Brazil</td>\n",
              "      <td>AMRO</td>\n",
              "      <td>23</td>\n",
              "      <td>125</td>\n",
              "      <td>0</td>\n",
              "      <td>0</td>\n",
              "    </tr>\n",
              "    <tr>\n",
              "      <th>4914</th>\n",
              "      <td>2020-03-15</td>\n",
              "      <td>BR</td>\n",
              "      <td>Brazil</td>\n",
              "      <td>AMRO</td>\n",
              "      <td>0</td>\n",
              "      <td>125</td>\n",
              "      <td>0</td>\n",
              "      <td>0</td>\n",
              "    </tr>\n",
              "    <tr>\n",
              "      <th>4915</th>\n",
              "      <td>2020-03-16</td>\n",
              "      <td>BR</td>\n",
              "      <td>Brazil</td>\n",
              "      <td>AMRO</td>\n",
              "      <td>79</td>\n",
              "      <td>204</td>\n",
              "      <td>0</td>\n",
              "      <td>0</td>\n",
              "    </tr>\n",
              "    <tr>\n",
              "      <th>4916</th>\n",
              "      <td>2020-03-17</td>\n",
              "      <td>BR</td>\n",
              "      <td>Brazil</td>\n",
              "      <td>AMRO</td>\n",
              "      <td>34</td>\n",
              "      <td>238</td>\n",
              "      <td>0</td>\n",
              "      <td>0</td>\n",
              "    </tr>\n",
              "    <tr>\n",
              "      <th>4917</th>\n",
              "      <td>2020-03-18</td>\n",
              "      <td>BR</td>\n",
              "      <td>Brazil</td>\n",
              "      <td>AMRO</td>\n",
              "      <td>57</td>\n",
              "      <td>295</td>\n",
              "      <td>1</td>\n",
              "      <td>1</td>\n",
              "    </tr>\n",
              "    <tr>\n",
              "      <th>4918</th>\n",
              "      <td>2020-03-19</td>\n",
              "      <td>BR</td>\n",
              "      <td>Brazil</td>\n",
              "      <td>AMRO</td>\n",
              "      <td>133</td>\n",
              "      <td>428</td>\n",
              "      <td>3</td>\n",
              "      <td>4</td>\n",
              "    </tr>\n",
              "    <tr>\n",
              "      <th>4919</th>\n",
              "      <td>2020-03-20</td>\n",
              "      <td>BR</td>\n",
              "      <td>Brazil</td>\n",
              "      <td>AMRO</td>\n",
              "      <td>193</td>\n",
              "      <td>621</td>\n",
              "      <td>0</td>\n",
              "      <td>4</td>\n",
              "    </tr>\n",
              "    <tr>\n",
              "      <th>4920</th>\n",
              "      <td>2020-03-21</td>\n",
              "      <td>BR</td>\n",
              "      <td>Brazil</td>\n",
              "      <td>AMRO</td>\n",
              "      <td>283</td>\n",
              "      <td>904</td>\n",
              "      <td>7</td>\n",
              "      <td>11</td>\n",
              "    </tr>\n",
              "    <tr>\n",
              "      <th>4921</th>\n",
              "      <td>2020-03-22</td>\n",
              "      <td>BR</td>\n",
              "      <td>Brazil</td>\n",
              "      <td>AMRO</td>\n",
              "      <td>0</td>\n",
              "      <td>904</td>\n",
              "      <td>0</td>\n",
              "      <td>11</td>\n",
              "    </tr>\n",
              "    <tr>\n",
              "      <th>4922</th>\n",
              "      <td>2020-03-23</td>\n",
              "      <td>BR</td>\n",
              "      <td>Brazil</td>\n",
              "      <td>AMRO</td>\n",
              "      <td>0</td>\n",
              "      <td>904</td>\n",
              "      <td>0</td>\n",
              "      <td>11</td>\n",
              "    </tr>\n",
              "    <tr>\n",
              "      <th>4923</th>\n",
              "      <td>2020-03-24</td>\n",
              "      <td>BR</td>\n",
              "      <td>Brazil</td>\n",
              "      <td>AMRO</td>\n",
              "      <td>1297</td>\n",
              "      <td>2201</td>\n",
              "      <td>35</td>\n",
              "      <td>46</td>\n",
              "    </tr>\n",
              "    <tr>\n",
              "      <th>4924</th>\n",
              "      <td>2020-03-25</td>\n",
              "      <td>BR</td>\n",
              "      <td>Brazil</td>\n",
              "      <td>AMRO</td>\n",
              "      <td>0</td>\n",
              "      <td>2201</td>\n",
              "      <td>0</td>\n",
              "      <td>46</td>\n",
              "    </tr>\n",
              "    <tr>\n",
              "      <th>4925</th>\n",
              "      <td>2020-03-26</td>\n",
              "      <td>BR</td>\n",
              "      <td>Brazil</td>\n",
              "      <td>AMRO</td>\n",
              "      <td>232</td>\n",
              "      <td>2433</td>\n",
              "      <td>11</td>\n",
              "      <td>57</td>\n",
              "    </tr>\n",
              "    <tr>\n",
              "      <th>4926</th>\n",
              "      <td>2020-03-27</td>\n",
              "      <td>BR</td>\n",
              "      <td>Brazil</td>\n",
              "      <td>AMRO</td>\n",
              "      <td>0</td>\n",
              "      <td>2433</td>\n",
              "      <td>0</td>\n",
              "      <td>57</td>\n",
              "    </tr>\n",
              "    <tr>\n",
              "      <th>4927</th>\n",
              "      <td>2020-03-28</td>\n",
              "      <td>BR</td>\n",
              "      <td>Brazil</td>\n",
              "      <td>AMRO</td>\n",
              "      <td>482</td>\n",
              "      <td>2915</td>\n",
              "      <td>20</td>\n",
              "      <td>77</td>\n",
              "    </tr>\n",
              "    <tr>\n",
              "      <th>4928</th>\n",
              "      <td>2020-03-29</td>\n",
              "      <td>BR</td>\n",
              "      <td>Brazil</td>\n",
              "      <td>AMRO</td>\n",
              "      <td>502</td>\n",
              "      <td>3417</td>\n",
              "      <td>15</td>\n",
              "      <td>92</td>\n",
              "    </tr>\n",
              "    <tr>\n",
              "      <th>4929</th>\n",
              "      <td>2020-03-30</td>\n",
              "      <td>BR</td>\n",
              "      <td>Brazil</td>\n",
              "      <td>AMRO</td>\n",
              "      <td>487</td>\n",
              "      <td>3904</td>\n",
              "      <td>22</td>\n",
              "      <td>114</td>\n",
              "    </tr>\n",
              "  </tbody>\n",
              "</table>\n",
              "</div>"
            ],
            "text/plain": [
              "            date country_code  ... new_deaths cumulative_deaths\n",
              "4900  2020-03-01           BR  ...          0                 0\n",
              "4901  2020-03-02           BR  ...          0                 0\n",
              "4902  2020-03-03           BR  ...          0                 0\n",
              "4903  2020-03-04           BR  ...          0                 0\n",
              "4904  2020-03-05           BR  ...          0                 0\n",
              "4905  2020-03-06           BR  ...          0                 0\n",
              "4906  2020-03-07           BR  ...          0                 0\n",
              "4907  2020-03-08           BR  ...          0                 0\n",
              "4908  2020-03-09           BR  ...          0                 0\n",
              "4909  2020-03-10           BR  ...          0                 0\n",
              "4910  2020-03-11           BR  ...          0                 0\n",
              "4911  2020-03-12           BR  ...          0                 0\n",
              "4912  2020-03-13           BR  ...          0                 0\n",
              "4913  2020-03-14           BR  ...          0                 0\n",
              "4914  2020-03-15           BR  ...          0                 0\n",
              "4915  2020-03-16           BR  ...          0                 0\n",
              "4916  2020-03-17           BR  ...          0                 0\n",
              "4917  2020-03-18           BR  ...          1                 1\n",
              "4918  2020-03-19           BR  ...          3                 4\n",
              "4919  2020-03-20           BR  ...          0                 4\n",
              "4920  2020-03-21           BR  ...          7                11\n",
              "4921  2020-03-22           BR  ...          0                11\n",
              "4922  2020-03-23           BR  ...          0                11\n",
              "4923  2020-03-24           BR  ...         35                46\n",
              "4924  2020-03-25           BR  ...          0                46\n",
              "4925  2020-03-26           BR  ...         11                57\n",
              "4926  2020-03-27           BR  ...          0                57\n",
              "4927  2020-03-28           BR  ...         20                77\n",
              "4928  2020-03-29           BR  ...         15                92\n",
              "4929  2020-03-30           BR  ...         22               114\n",
              "\n",
              "[30 rows x 8 columns]"
            ]
          },
          "metadata": {
            "tags": []
          },
          "execution_count": 67
        }
      ]
    },
    {
      "cell_type": "code",
      "metadata": {
        "id": "C_qmbKz2omOg",
        "outputId": "db80bfd6-966f-4392-e1d1-c665e72e519d",
        "colab": {
          "base_uri": "https://localhost:8080/",
          "height": 343
        }
      },
      "source": [
        "plt.figure()\n",
        "plt.xlabel('Date')\n",
        "plt.ylabel('Deaths')\n",
        "plt.title('Cumulative deaths in March')\n",
        "plt.scatter(March.date,March.cumulative_deaths, s=25, c='red')\n",
        "plt.xticks(rotation=90)\n",
        "plt.show()"
      ],
      "execution_count": 68,
      "outputs": [
        {
          "output_type": "display_data",
          "data": {
            "image/png": "[encoded data removed]",
            "text/plain": [
              "<Figure size 432x288 with 1 Axes>"
            ]
          },
          "metadata": {
            "tags": [],
            "needs_background": "light"
          }
        }
      ]
    },
    {
      "cell_type": "code",
      "metadata": {
        "id": "wN-Gz7sPpXDR",
        "outputId": "ae18fac5-54f2-450f-a8ea-422b42ea0d44",
        "colab": {
          "base_uri": "https://localhost:8080/",
          "height": 351
        }
      },
      "source": [
        "sb.distplot(March['new_deaths'], kde = True, bins=10)"
      ],
      "execution_count": 69,
      "outputs": [
        {
          "output_type": "stream",
          "text": [
            "/usr/local/lib/python3.6/dist-packages/seaborn/distributions.py:2551: FutureWarning: `distplot` is a deprecated function and will be removed in a future version. Please adapt your code to use either `displot` (a figure-level function with similar flexibility) or `histplot` (an axes-level function for histograms).\n",
            "  warnings.warn(msg, FutureWarning)\n"
          ],
          "name": "stderr"
        },
        {
          "output_type": "execute_result",
          "data": {
            "text/plain": [
              "<matplotlib.axes._subplots.AxesSubplot at 0x7fd41c7644a8>"
            ]
          },
          "metadata": {
            "tags": []
          },
          "execution_count": 69
        },
        {
          "output_type": "display_data",
          "data": {
            "image/png": "[encoded data removed]",
            "text/plain": [
              "<Figure size 432x288 with 1 Axes>"
            ]
          },
          "metadata": {
            "tags": [],
            "needs_background": "light"
          }
        }
      ]
    },
    {
      "cell_type": "code",
      "metadata": {
        "id": "ye7UivwCpu_P"
      },
      "source": [
        "April = covidbrasil[35:65].copy()"
      ],
      "execution_count": 70,
      "outputs": []
    },
    {
      "cell_type": "code",
      "metadata": {
        "id": "uJdneaILqDFA",
        "outputId": "20b5e628-6a6e-4057-e8e5-f66c8323b4a5",
        "colab": {
          "base_uri": "https://localhost:8080/",
          "height": 979
        }
      },
      "source": [
        "April"
      ],
      "execution_count": 71,
      "outputs": [
        {
          "output_type": "execute_result",
          "data": {
            "text/html": [
              "<div>\n",
              "<style scoped>\n",
              "    .dataframe tbody tr th:only-of-type {\n",
              "        vertical-align: middle;\n",
              "    }\n",
              "\n",
              "    .dataframe tbody tr th {\n",
              "        vertical-align: top;\n",
              "    }\n",
              "\n",
              "    .dataframe thead th {\n",
              "        text-align: right;\n",
              "    }\n",
              "</style>\n",
              "<table border=\"1\" class=\"dataframe\">\n",
              "  <thead>\n",
              "    <tr style=\"text-align: right;\">\n",
              "      <th></th>\n",
              "      <th>date</th>\n",
              "      <th>country_code</th>\n",
              "      <th>country</th>\n",
              "      <th>who_region</th>\n",
              "      <th>new_cases</th>\n",
              "      <th>cumulative_cases</th>\n",
              "      <th>new_deaths</th>\n",
              "      <th>cumulative_deaths</th>\n",
              "    </tr>\n",
              "  </thead>\n",
              "  <tbody>\n",
              "    <tr>\n",
              "      <th>4931</th>\n",
              "      <td>2020-04-01</td>\n",
              "      <td>BR</td>\n",
              "      <td>Brazil</td>\n",
              "      <td>AMRO</td>\n",
              "      <td>323</td>\n",
              "      <td>4579</td>\n",
              "      <td>23</td>\n",
              "      <td>159</td>\n",
              "    </tr>\n",
              "    <tr>\n",
              "      <th>4932</th>\n",
              "      <td>2020-04-02</td>\n",
              "      <td>BR</td>\n",
              "      <td>Brazil</td>\n",
              "      <td>AMRO</td>\n",
              "      <td>1138</td>\n",
              "      <td>5717</td>\n",
              "      <td>42</td>\n",
              "      <td>201</td>\n",
              "    </tr>\n",
              "    <tr>\n",
              "      <th>4933</th>\n",
              "      <td>2020-04-03</td>\n",
              "      <td>BR</td>\n",
              "      <td>Brazil</td>\n",
              "      <td>AMRO</td>\n",
              "      <td>1119</td>\n",
              "      <td>6836</td>\n",
              "      <td>40</td>\n",
              "      <td>241</td>\n",
              "    </tr>\n",
              "    <tr>\n",
              "      <th>4934</th>\n",
              "      <td>2020-04-04</td>\n",
              "      <td>BR</td>\n",
              "      <td>Brazil</td>\n",
              "      <td>AMRO</td>\n",
              "      <td>1074</td>\n",
              "      <td>7910</td>\n",
              "      <td>58</td>\n",
              "      <td>299</td>\n",
              "    </tr>\n",
              "    <tr>\n",
              "      <th>4935</th>\n",
              "      <td>2020-04-05</td>\n",
              "      <td>BR</td>\n",
              "      <td>Brazil</td>\n",
              "      <td>AMRO</td>\n",
              "      <td>1146</td>\n",
              "      <td>9056</td>\n",
              "      <td>60</td>\n",
              "      <td>359</td>\n",
              "    </tr>\n",
              "    <tr>\n",
              "      <th>4936</th>\n",
              "      <td>2020-04-06</td>\n",
              "      <td>BR</td>\n",
              "      <td>Brazil</td>\n",
              "      <td>AMRO</td>\n",
              "      <td>1222</td>\n",
              "      <td>10278</td>\n",
              "      <td>73</td>\n",
              "      <td>432</td>\n",
              "    </tr>\n",
              "    <tr>\n",
              "      <th>4937</th>\n",
              "      <td>2020-04-07</td>\n",
              "      <td>BR</td>\n",
              "      <td>Brazil</td>\n",
              "      <td>AMRO</td>\n",
              "      <td>852</td>\n",
              "      <td>11130</td>\n",
              "      <td>54</td>\n",
              "      <td>486</td>\n",
              "    </tr>\n",
              "    <tr>\n",
              "      <th>4938</th>\n",
              "      <td>2020-04-08</td>\n",
              "      <td>BR</td>\n",
              "      <td>Brazil</td>\n",
              "      <td>AMRO</td>\n",
              "      <td>926</td>\n",
              "      <td>12056</td>\n",
              "      <td>67</td>\n",
              "      <td>553</td>\n",
              "    </tr>\n",
              "    <tr>\n",
              "      <th>4939</th>\n",
              "      <td>2020-04-09</td>\n",
              "      <td>BR</td>\n",
              "      <td>Brazil</td>\n",
              "      <td>AMRO</td>\n",
              "      <td>1661</td>\n",
              "      <td>13717</td>\n",
              "      <td>114</td>\n",
              "      <td>667</td>\n",
              "    </tr>\n",
              "    <tr>\n",
              "      <th>4940</th>\n",
              "      <td>2020-04-10</td>\n",
              "      <td>BR</td>\n",
              "      <td>Brazil</td>\n",
              "      <td>AMRO</td>\n",
              "      <td>2210</td>\n",
              "      <td>15927</td>\n",
              "      <td>133</td>\n",
              "      <td>800</td>\n",
              "    </tr>\n",
              "    <tr>\n",
              "      <th>4941</th>\n",
              "      <td>2020-04-11</td>\n",
              "      <td>BR</td>\n",
              "      <td>Brazil</td>\n",
              "      <td>AMRO</td>\n",
              "      <td>1930</td>\n",
              "      <td>17857</td>\n",
              "      <td>141</td>\n",
              "      <td>941</td>\n",
              "    </tr>\n",
              "    <tr>\n",
              "      <th>4942</th>\n",
              "      <td>2020-04-12</td>\n",
              "      <td>BR</td>\n",
              "      <td>Brazil</td>\n",
              "      <td>AMRO</td>\n",
              "      <td>1781</td>\n",
              "      <td>19638</td>\n",
              "      <td>115</td>\n",
              "      <td>1056</td>\n",
              "    </tr>\n",
              "    <tr>\n",
              "      <th>4943</th>\n",
              "      <td>2020-04-13</td>\n",
              "      <td>BR</td>\n",
              "      <td>Brazil</td>\n",
              "      <td>AMRO</td>\n",
              "      <td>1089</td>\n",
              "      <td>20727</td>\n",
              "      <td>68</td>\n",
              "      <td>1124</td>\n",
              "    </tr>\n",
              "    <tr>\n",
              "      <th>4944</th>\n",
              "      <td>2020-04-14</td>\n",
              "      <td>BR</td>\n",
              "      <td>Brazil</td>\n",
              "      <td>AMRO</td>\n",
              "      <td>1442</td>\n",
              "      <td>22169</td>\n",
              "      <td>99</td>\n",
              "      <td>1223</td>\n",
              "    </tr>\n",
              "    <tr>\n",
              "      <th>4945</th>\n",
              "      <td>2020-04-15</td>\n",
              "      <td>BR</td>\n",
              "      <td>Brazil</td>\n",
              "      <td>AMRO</td>\n",
              "      <td>1261</td>\n",
              "      <td>23430</td>\n",
              "      <td>105</td>\n",
              "      <td>1328</td>\n",
              "    </tr>\n",
              "    <tr>\n",
              "      <th>4946</th>\n",
              "      <td>2020-04-16</td>\n",
              "      <td>BR</td>\n",
              "      <td>Brazil</td>\n",
              "      <td>AMRO</td>\n",
              "      <td>1832</td>\n",
              "      <td>25262</td>\n",
              "      <td>204</td>\n",
              "      <td>1532</td>\n",
              "    </tr>\n",
              "    <tr>\n",
              "      <th>4947</th>\n",
              "      <td>2020-04-17</td>\n",
              "      <td>BR</td>\n",
              "      <td>Brazil</td>\n",
              "      <td>AMRO</td>\n",
              "      <td>3058</td>\n",
              "      <td>28320</td>\n",
              "      <td>204</td>\n",
              "      <td>1736</td>\n",
              "    </tr>\n",
              "    <tr>\n",
              "      <th>4948</th>\n",
              "      <td>2020-04-18</td>\n",
              "      <td>BR</td>\n",
              "      <td>Brazil</td>\n",
              "      <td>AMRO</td>\n",
              "      <td>2105</td>\n",
              "      <td>30425</td>\n",
              "      <td>188</td>\n",
              "      <td>1924</td>\n",
              "    </tr>\n",
              "    <tr>\n",
              "      <th>4949</th>\n",
              "      <td>2020-04-19</td>\n",
              "      <td>BR</td>\n",
              "      <td>Brazil</td>\n",
              "      <td>AMRO</td>\n",
              "      <td>3257</td>\n",
              "      <td>33682</td>\n",
              "      <td>217</td>\n",
              "      <td>2141</td>\n",
              "    </tr>\n",
              "    <tr>\n",
              "      <th>4950</th>\n",
              "      <td>2020-04-20</td>\n",
              "      <td>BR</td>\n",
              "      <td>Brazil</td>\n",
              "      <td>AMRO</td>\n",
              "      <td>2917</td>\n",
              "      <td>36599</td>\n",
              "      <td>206</td>\n",
              "      <td>2347</td>\n",
              "    </tr>\n",
              "    <tr>\n",
              "      <th>4951</th>\n",
              "      <td>2020-04-21</td>\n",
              "      <td>BR</td>\n",
              "      <td>Brazil</td>\n",
              "      <td>AMRO</td>\n",
              "      <td>2055</td>\n",
              "      <td>38654</td>\n",
              "      <td>115</td>\n",
              "      <td>2462</td>\n",
              "    </tr>\n",
              "    <tr>\n",
              "      <th>4952</th>\n",
              "      <td>2020-04-22</td>\n",
              "      <td>BR</td>\n",
              "      <td>Brazil</td>\n",
              "      <td>AMRO</td>\n",
              "      <td>1927</td>\n",
              "      <td>40581</td>\n",
              "      <td>113</td>\n",
              "      <td>2575</td>\n",
              "    </tr>\n",
              "    <tr>\n",
              "      <th>4953</th>\n",
              "      <td>2020-04-23</td>\n",
              "      <td>BR</td>\n",
              "      <td>Brazil</td>\n",
              "      <td>AMRO</td>\n",
              "      <td>2498</td>\n",
              "      <td>43079</td>\n",
              "      <td>166</td>\n",
              "      <td>2741</td>\n",
              "    </tr>\n",
              "    <tr>\n",
              "      <th>4954</th>\n",
              "      <td>2020-04-24</td>\n",
              "      <td>BR</td>\n",
              "      <td>Brazil</td>\n",
              "      <td>AMRO</td>\n",
              "      <td>2678</td>\n",
              "      <td>45757</td>\n",
              "      <td>165</td>\n",
              "      <td>2906</td>\n",
              "    </tr>\n",
              "    <tr>\n",
              "      <th>4955</th>\n",
              "      <td>2020-04-25</td>\n",
              "      <td>BR</td>\n",
              "      <td>Brazil</td>\n",
              "      <td>AMRO</td>\n",
              "      <td>3735</td>\n",
              "      <td>49492</td>\n",
              "      <td>407</td>\n",
              "      <td>3313</td>\n",
              "    </tr>\n",
              "    <tr>\n",
              "      <th>4956</th>\n",
              "      <td>2020-04-26</td>\n",
              "      <td>BR</td>\n",
              "      <td>Brazil</td>\n",
              "      <td>AMRO</td>\n",
              "      <td>3503</td>\n",
              "      <td>52995</td>\n",
              "      <td>357</td>\n",
              "      <td>3670</td>\n",
              "    </tr>\n",
              "    <tr>\n",
              "      <th>4957</th>\n",
              "      <td>2020-04-27</td>\n",
              "      <td>BR</td>\n",
              "      <td>Brazil</td>\n",
              "      <td>AMRO</td>\n",
              "      <td>5514</td>\n",
              "      <td>58509</td>\n",
              "      <td>346</td>\n",
              "      <td>4016</td>\n",
              "    </tr>\n",
              "    <tr>\n",
              "      <th>4958</th>\n",
              "      <td>2020-04-28</td>\n",
              "      <td>BR</td>\n",
              "      <td>Brazil</td>\n",
              "      <td>AMRO</td>\n",
              "      <td>3379</td>\n",
              "      <td>61888</td>\n",
              "      <td>189</td>\n",
              "      <td>4205</td>\n",
              "    </tr>\n",
              "    <tr>\n",
              "      <th>4959</th>\n",
              "      <td>2020-04-29</td>\n",
              "      <td>BR</td>\n",
              "      <td>Brazil</td>\n",
              "      <td>AMRO</td>\n",
              "      <td>4613</td>\n",
              "      <td>66501</td>\n",
              "      <td>338</td>\n",
              "      <td>4543</td>\n",
              "    </tr>\n",
              "    <tr>\n",
              "      <th>4960</th>\n",
              "      <td>2020-04-30</td>\n",
              "      <td>BR</td>\n",
              "      <td>Brazil</td>\n",
              "      <td>AMRO</td>\n",
              "      <td>5385</td>\n",
              "      <td>71886</td>\n",
              "      <td>474</td>\n",
              "      <td>5017</td>\n",
              "    </tr>\n",
              "  </tbody>\n",
              "</table>\n",
              "</div>"
            ],
            "text/plain": [
              "            date country_code  ... new_deaths cumulative_deaths\n",
              "4931  2020-04-01           BR  ...         23               159\n",
              "4932  2020-04-02           BR  ...         42               201\n",
              "4933  2020-04-03           BR  ...         40               241\n",
              "4934  2020-04-04           BR  ...         58               299\n",
              "4935  2020-04-05           BR  ...         60               359\n",
              "4936  2020-04-06           BR  ...         73               432\n",
              "4937  2020-04-07           BR  ...         54               486\n",
              "4938  2020-04-08           BR  ...         67               553\n",
              "4939  2020-04-09           BR  ...        114               667\n",
              "4940  2020-04-10           BR  ...        133               800\n",
              "4941  2020-04-11           BR  ...        141               941\n",
              "4942  2020-04-12           BR  ...        115              1056\n",
              "4943  2020-04-13           BR  ...         68              1124\n",
              "4944  2020-04-14           BR  ...         99              1223\n",
              "4945  2020-04-15           BR  ...        105              1328\n",
              "4946  2020-04-16           BR  ...        204              1532\n",
              "4947  2020-04-17           BR  ...        204              1736\n",
              "4948  2020-04-18           BR  ...        188              1924\n",
              "4949  2020-04-19           BR  ...        217              2141\n",
              "4950  2020-04-20           BR  ...        206              2347\n",
              "4951  2020-04-21           BR  ...        115              2462\n",
              "4952  2020-04-22           BR  ...        113              2575\n",
              "4953  2020-04-23           BR  ...        166              2741\n",
              "4954  2020-04-24           BR  ...        165              2906\n",
              "4955  2020-04-25           BR  ...        407              3313\n",
              "4956  2020-04-26           BR  ...        357              3670\n",
              "4957  2020-04-27           BR  ...        346              4016\n",
              "4958  2020-04-28           BR  ...        189              4205\n",
              "4959  2020-04-29           BR  ...        338              4543\n",
              "4960  2020-04-30           BR  ...        474              5017\n",
              "\n",
              "[30 rows x 8 columns]"
            ]
          },
          "metadata": {
            "tags": []
          },
          "execution_count": 71
        }
      ]
    },
    {
      "cell_type": "code",
      "metadata": {
        "id": "4_dDn8dgqGOS",
        "outputId": "3b9fe8a8-52f6-452f-825a-718ee55d6dba",
        "colab": {
          "base_uri": "https://localhost:8080/",
          "height": 343
        }
      },
      "source": [
        "plt.figure()\n",
        "plt.xlabel('Date')\n",
        "plt.ylabel('Deaths')\n",
        "plt.title('Cumulative deaths in April')\n",
        "plt.scatter(April.date,April.cumulative_deaths,s=20, c='red')\n",
        "plt.grid(True)\n",
        "plt.xticks(rotation=90)\n",
        "plt.show()"
      ],
      "execution_count": 72,
      "outputs": [
        {
          "output_type": "display_data",
          "data": {
            "image/png": "[encoded data removed]",
            "text/plain": [
              "<Figure size 432x288 with 1 Axes>"
            ]
          },
          "metadata": {
            "tags": [],
            "needs_background": "light"
          }
        }
      ]
    },
    {
      "cell_type": "code",
      "metadata": {
        "id": "yrMu8wlpqZPn",
        "outputId": "e5e00542-e943-4c9f-e1a4-b5b43eee9ea4",
        "colab": {
          "base_uri": "https://localhost:8080/",
          "height": 351
        }
      },
      "source": [
        "sb.distplot(April['new_deaths'], kde = True, bins=10)"
      ],
      "execution_count": 73,
      "outputs": [
        {
          "output_type": "stream",
          "text": [
            "/usr/local/lib/python3.6/dist-packages/seaborn/distributions.py:2551: FutureWarning: `distplot` is a deprecated function and will be removed in a future version. Please adapt your code to use either `displot` (a figure-level function with similar flexibility) or `histplot` (an axes-level function for histograms).\n",
            "  warnings.warn(msg, FutureWarning)\n"
          ],
          "name": "stderr"
        },
        {
          "output_type": "execute_result",
          "data": {
            "text/plain": [
              "<matplotlib.axes._subplots.AxesSubplot at 0x7fd41ca8a9b0>"
            ]
          },
          "metadata": {
            "tags": []
          },
          "execution_count": 73
        },
        {
          "output_type": "display_data",
          "data": {
            "image/png": "[encoded data removed]",
            "text/plain": [
              "<Figure size 432x288 with 1 Axes>"
            ]
          },
          "metadata": {
            "tags": [],
            "needs_background": "light"
          }
        }
      ]
    },
    {
      "cell_type": "code",
      "metadata": {
        "id": "AgEAvv4nqd2W",
        "outputId": "b6722611-c2a4-4c06-dd74-a5b1a4615d7e",
        "colab": {
          "base_uri": "https://localhost:8080/",
          "height": 595
        }
      },
      "source": [
        "May = covidbrasil[65:96].copy()\n",
        "print(May)"
      ],
      "execution_count": 74,
      "outputs": [
        {
          "output_type": "stream",
          "text": [
            "            date country_code  ... new_deaths cumulative_deaths\n",
            "4961  2020-05-01           BR  ...        449              5466\n",
            "4962  2020-05-02           BR  ...        435              5901\n",
            "4963  2020-05-03           BR  ...        428              6329\n",
            "4964  2020-05-04           BR  ...        421              6750\n",
            "4965  2020-05-05           BR  ...        275              7025\n",
            "4966  2020-05-06           BR  ...        296              7321\n",
            "4967  2020-05-07           BR  ...        600              7921\n",
            "4968  2020-05-08           BR  ...        615              8536\n",
            "4969  2020-05-09           BR  ...        610              9146\n",
            "4970  2020-05-10           BR  ...        751              9897\n",
            "4971  2020-05-11           BR  ...        730             10627\n",
            "4972  2020-05-12           BR  ...        496             11123\n",
            "4973  2020-05-13           BR  ...        396             11519\n",
            "4974  2020-05-14           BR  ...        881             12400\n",
            "4975  2020-05-15           BR  ...        749             13149\n",
            "4976  2020-05-16           BR  ...        844             13993\n",
            "4977  2020-05-17           BR  ...        824             14817\n",
            "4978  2020-05-18           BR  ...        816             15633\n",
            "4979  2020-05-19           BR  ...        485             16118\n",
            "4980  2020-05-20           BR  ...        674             16792\n",
            "4981  2020-05-21           BR  ...       1179             17971\n",
            "4982  2020-05-22           BR  ...        888             18859\n",
            "4983  2020-05-23           BR  ...       1188             20047\n",
            "4984  2020-05-24           BR  ...       1001             21048\n",
            "4985  2020-05-25           BR  ...        965             22013\n",
            "4986  2020-05-26           BR  ...        653             22666\n",
            "4987  2020-05-27           BR  ...        807             23473\n",
            "4988  2020-05-28           BR  ...       1039             24512\n",
            "4989  2020-05-29           BR  ...       1086             25598\n",
            "4990  2020-05-30           BR  ...       1156             26754\n",
            "4991  2020-05-31           BR  ...       1124             27878\n",
            "\n",
            "[31 rows x 8 columns]\n"
          ],
          "name": "stdout"
        }
      ]
    },
    {
      "cell_type": "code",
      "metadata": {
        "id": "eBXocpCkqsKF",
        "outputId": "3fb1aba0-aa82-4129-d9d0-a2fac000aa29",
        "colab": {
          "base_uri": "https://localhost:8080/",
          "height": 343
        }
      },
      "source": [
        "plt.plot()\n",
        "plt.xlabel('Date')\n",
        "plt.ylabel('Deaths')\n",
        "plt.title('Cumulative deaths in May')\n",
        "plt.plot(May.date,May.cumulative_deaths, 'k.')\n",
        "plt.xticks(rotation=90)\n",
        "plt.grid(True)\n",
        "plt.show()"
      ],
      "execution_count": 75,
      "outputs": [
        {
          "output_type": "display_data",
          "data": {
            "image/png": "[encoded data removed]",
            "text/plain": [
              "<Figure size 432x288 with 1 Axes>"
            ]
          },
          "metadata": {
            "tags": [],
            "needs_background": "light"
          }
        }
      ]
    },
    {
      "cell_type": "code",
      "metadata": {
        "id": "TBBYvyU6rJDc",
        "outputId": "9050be5b-9324-4594-bb58-8c77f26a750c",
        "colab": {
          "base_uri": "https://localhost:8080/",
          "height": 351
        }
      },
      "source": [
        "sb.distplot(May['new_deaths'], kde = True, bins=20)"
      ],
      "execution_count": 76,
      "outputs": [
        {
          "output_type": "stream",
          "text": [
            "/usr/local/lib/python3.6/dist-packages/seaborn/distributions.py:2551: FutureWarning: `distplot` is a deprecated function and will be removed in a future version. Please adapt your code to use either `displot` (a figure-level function with similar flexibility) or `histplot` (an axes-level function for histograms).\n",
            "  warnings.warn(msg, FutureWarning)\n"
          ],
          "name": "stderr"
        },
        {
          "output_type": "execute_result",
          "data": {
            "text/plain": [
              "<matplotlib.axes._subplots.AxesSubplot at 0x7fd41cdc9668>"
            ]
          },
          "metadata": {
            "tags": []
          },
          "execution_count": 76
        },
        {
          "output_type": "display_data",
          "data": {
            "image/png": "[encoded data removed]",
            "text/plain": [
              "<Figure size 432x288 with 1 Axes>"
            ]
          },
          "metadata": {
            "tags": [],
            "needs_background": "light"
          }
        }
      ]
    },
    {
      "cell_type": "code",
      "metadata": {
        "id": "NCk0wPyorRu0",
        "outputId": "af5352ce-ff98-4c8a-80f7-c585a7094d01",
        "colab": {
          "base_uri": "https://localhost:8080/",
          "height": 578
        }
      },
      "source": [
        "June = covidbrasil[96:126].copy()\n",
        "print(June)"
      ],
      "execution_count": 77,
      "outputs": [
        {
          "output_type": "stream",
          "text": [
            "            date country_code  ... new_deaths cumulative_deaths\n",
            "4992  2020-06-01           BR  ...        956             28834\n",
            "4993  2020-06-02           BR  ...        480             29314\n",
            "4994  2020-06-03           BR  ...        623             29937\n",
            "4995  2020-06-04           BR  ...       1262             31199\n",
            "4996  2020-06-05           BR  ...       1349             32548\n",
            "4997  2020-06-06           BR  ...       1473             34021\n",
            "4998  2020-06-07           BR  ...       1005             35026\n",
            "4999  2020-06-08           BR  ...        904             35930\n",
            "5000  2020-06-09           BR  ...        525             36455\n",
            "5001  2020-06-10           BR  ...        679             37134\n",
            "5002  2020-06-11           BR  ...       1272             38406\n",
            "5003  2020-06-12           BR  ...       1274             39680\n",
            "5004  2020-06-13           BR  ...       1239             40919\n",
            "5005  2020-06-14           BR  ...        909             41828\n",
            "5006  2020-06-15           BR  ...        892             42720\n",
            "5007  2020-06-16           BR  ...        612             43332\n",
            "5008  2020-06-17           BR  ...        627             43959\n",
            "5009  2020-06-18           BR  ...       1282             45241\n",
            "5010  2020-06-19           BR  ...       1269             46510\n",
            "5011  2020-06-20           BR  ...       1238             47748\n",
            "5012  2020-06-21           BR  ...       1206             48954\n",
            "5013  2020-06-22           BR  ...       1022             49976\n",
            "5014  2020-06-23           BR  ...        641             50617\n",
            "5015  2020-06-24           BR  ...        654             51271\n",
            "5016  2020-06-25           BR  ...       1374             52645\n",
            "5017  2020-06-26           BR  ...       1185             53830\n",
            "5018  2020-06-27           BR  ...       1141             54971\n",
            "5019  2020-06-28           BR  ...        990             55961\n",
            "5020  2020-06-29           BR  ...       1109             57070\n",
            "5021  2020-06-30           BR  ...        552             57622\n",
            "\n",
            "[30 rows x 8 columns]\n"
          ],
          "name": "stdout"
        }
      ]
    },
    {
      "cell_type": "code",
      "metadata": {
        "id": "Go1XNoKcrgTe",
        "outputId": "a01870f8-b33b-4853-e824-16477ee5d7c9",
        "colab": {
          "base_uri": "https://localhost:8080/",
          "height": 343
        }
      },
      "source": [
        "plt.figure()\n",
        "plt.xlabel('Date')\n",
        "plt.ylabel('Deaths')\n",
        "plt.title('Cumulative deaths in June')\n",
        "plt.scatter(June.date,June.cumulative_deaths, c = 'blue')\n",
        "plt.grid(True)\n",
        "plt.xticks(rotation=90)\n",
        "plt.show()"
      ],
      "execution_count": 78,
      "outputs": [
        {
          "output_type": "display_data",
          "data": {
            "image/png": "[encoded data removed]",
            "text/plain": [
              "<Figure size 432x288 with 1 Axes>"
            ]
          },
          "metadata": {
            "tags": [],
            "needs_background": "light"
          }
        }
      ]
    },
    {
      "cell_type": "code",
      "metadata": {
        "id": "mDRdWxnzrtjq",
        "outputId": "ae21d66a-b7fd-4aba-c491-71715ed297f9",
        "colab": {
          "base_uri": "https://localhost:8080/",
          "height": 351
        }
      },
      "source": [
        "sb.distplot(June['new_deaths'], kde = True, bins=10)"
      ],
      "execution_count": 79,
      "outputs": [
        {
          "output_type": "stream",
          "text": [
            "/usr/local/lib/python3.6/dist-packages/seaborn/distributions.py:2551: FutureWarning: `distplot` is a deprecated function and will be removed in a future version. Please adapt your code to use either `displot` (a figure-level function with similar flexibility) or `histplot` (an axes-level function for histograms).\n",
            "  warnings.warn(msg, FutureWarning)\n"
          ],
          "name": "stderr"
        },
        {
          "output_type": "execute_result",
          "data": {
            "text/plain": [
              "<matplotlib.axes._subplots.AxesSubplot at 0x7fd41c8660b8>"
            ]
          },
          "metadata": {
            "tags": []
          },
          "execution_count": 79
        },
        {
          "output_type": "display_data",
          "data": {
            "image/png": "[encoded data removed]",
            "text/plain": [
              "<Figure size 432x288 with 1 Axes>"
            ]
          },
          "metadata": {
            "tags": [],
            "needs_background": "light"
          }
        }
      ]
    },
    {
      "cell_type": "code",
      "metadata": {
        "id": "6eg_trCqrx1H",
        "outputId": "d2153827-8f5e-415b-f8d6-c3610ae55787",
        "colab": {
          "base_uri": "https://localhost:8080/",
          "height": 612
        }
      },
      "source": [
        "July = covidbrasil[125:157].copy()\n",
        "print(July)"
      ],
      "execution_count": 80,
      "outputs": [
        {
          "output_type": "stream",
          "text": [
            "            date country_code  ... new_deaths cumulative_deaths\n",
            "5021  2020-06-30           BR  ...        552             57622\n",
            "5022  2020-07-01           BR  ...        692             58314\n",
            "5023  2020-07-02           BR  ...       1280             59594\n",
            "5024  2020-07-03           BR  ...       1038             60632\n",
            "5025  2020-07-04           BR  ...       1252             61884\n",
            "5026  2020-07-05           BR  ...       1290             63174\n",
            "5027  2020-07-06           BR  ...       1091             64265\n",
            "5028  2020-07-07           BR  ...        602             64867\n",
            "5029  2020-07-08           BR  ...        620             65487\n",
            "5030  2020-07-09           BR  ...       1254             66741\n",
            "5031  2020-07-10           BR  ...       1223             67964\n",
            "5032  2020-07-11           BR  ...       1220             69184\n",
            "5033  2020-07-12           BR  ...       1214             70398\n",
            "5034  2020-07-13           BR  ...       1071             71469\n",
            "5035  2020-07-14           BR  ...        631             72100\n",
            "5036  2020-07-15           BR  ...        733             72833\n",
            "5037  2020-07-16           BR  ...       1300             74133\n",
            "5038  2020-07-17           BR  ...       1233             75366\n",
            "5039  2020-07-18           BR  ...       1322             76688\n",
            "5040  2020-07-19           BR  ...       1163             77851\n",
            "5041  2020-07-20           BR  ...        921             78772\n",
            "5042  2020-07-21           BR  ...        716             79488\n",
            "5043  2020-07-22           BR  ...        632             80120\n",
            "5044  2020-07-23           BR  ...       1367             81487\n",
            "5045  2020-07-24           BR  ...       1284             82771\n",
            "5046  2020-07-25           BR  ...       1311             84082\n",
            "5047  2020-07-26           BR  ...       1156             85238\n",
            "5048  2020-07-27           BR  ...       1211             86449\n",
            "5049  2020-07-28           BR  ...        555             87004\n",
            "5050  2020-07-29           BR  ...        614             87618\n",
            "5051  2020-07-30           BR  ...        921             88539\n",
            "5052  2020-07-31           BR  ...       1595             90134\n",
            "\n",
            "[32 rows x 8 columns]\n"
          ],
          "name": "stdout"
        }
      ]
    },
    {
      "cell_type": "code",
      "metadata": {
        "id": "uNUchtZFsDuB",
        "outputId": "376b37f3-7b20-47fe-8b34-6571d1ce5374",
        "colab": {
          "base_uri": "https://localhost:8080/",
          "height": 343
        }
      },
      "source": [
        "plt.plot()\n",
        "plt.xlabel('Date')\n",
        "plt.ylabel('Deaths')\n",
        "plt.title('Cumulative Deaths in July')\n",
        "plt.plot(July.date,July.cumulative_deaths, 'k.')\n",
        "plt.xticks(rotation=90)\n",
        "plt.show()"
      ],
      "execution_count": 81,
      "outputs": [
        {
          "output_type": "display_data",
          "data": {
            "image/png": "[encoded data removed]",
            "text/plain": [
              "<Figure size 432x288 with 1 Axes>"
            ]
          },
          "metadata": {
            "tags": [],
            "needs_background": "light"
          }
        }
      ]
    },
    {
      "cell_type": "code",
      "metadata": {
        "id": "nWY5KZhFsRvQ",
        "outputId": "596ee51d-e849-4845-ee43-7e9f5896ff6d",
        "colab": {
          "base_uri": "https://localhost:8080/",
          "height": 354
        }
      },
      "source": [
        "sb.distplot(July['new_deaths'], kde = True, bins=10)"
      ],
      "execution_count": 82,
      "outputs": [
        {
          "output_type": "stream",
          "text": [
            "/usr/local/lib/python3.6/dist-packages/seaborn/distributions.py:2551: FutureWarning: `distplot` is a deprecated function and will be removed in a future version. Please adapt your code to use either `displot` (a figure-level function with similar flexibility) or `histplot` (an axes-level function for histograms).\n",
            "  warnings.warn(msg, FutureWarning)\n"
          ],
          "name": "stderr"
        },
        {
          "output_type": "execute_result",
          "data": {
            "text/plain": [
              "<matplotlib.axes._subplots.AxesSubplot at 0x7fd41c58d2b0>"
            ]
          },
          "metadata": {
            "tags": []
          },
          "execution_count": 82
        },
        {
          "output_type": "display_data",
          "data": {
            "image/png": "[encoded data removed]",
            "text/plain": [
              "<Figure size 432x288 with 1 Axes>"
            ]
          },
          "metadata": {
            "tags": [],
            "needs_background": "light"
          }
        }
      ]
    },
    {
      "cell_type": "code",
      "metadata": {
        "id": "Ue9SJ76hseVT",
        "outputId": "4333424a-40c7-418e-8dac-f4571ede96d1",
        "colab": {
          "base_uri": "https://localhost:8080/",
          "height": 595
        }
      },
      "source": [
        "August = covidbrasil[157:188].copy()\n",
        "print(August)"
      ],
      "execution_count": 83,
      "outputs": [
        {
          "output_type": "stream",
          "text": [
            "            date country_code  ... new_deaths cumulative_deaths\n",
            "5053  2020-08-01           BR  ...       1129             91263\n",
            "5054  2020-08-02           BR  ...       1212             92475\n",
            "5055  2020-08-03           BR  ...       1088             93563\n",
            "5056  2020-08-04           BR  ...        541             94104\n",
            "5057  2020-08-05           BR  ...        561             94665\n",
            "5058  2020-08-06           BR  ...       1154             95819\n",
            "5059  2020-08-07           BR  ...       1437             97256\n",
            "5060  2020-08-08           BR  ...       1237             98493\n",
            "5061  2020-08-09           BR  ...       1079             99572\n",
            "5062  2020-08-10           BR  ...        905            100477\n",
            "5063  2020-08-11           BR  ...        572            101049\n",
            "5064  2020-08-12           BR  ...        703            101752\n",
            "5065  2020-08-13           BR  ...       1274            103026\n",
            "5066  2020-08-14           BR  ...       1175            104201\n",
            "5067  2020-08-15           BR  ...       1262            105463\n",
            "5068  2020-08-16           BR  ...       1060            106523\n",
            "5069  2020-08-17           BR  ...        709            107232\n",
            "5070  2020-08-18           BR  ...        620            107852\n",
            "5071  2020-08-19           BR  ...        684            108536\n",
            "5072  2020-08-20           BR  ...       1352            109888\n",
            "5073  2020-08-21           BR  ...       1212            111100\n",
            "5074  2020-08-22           BR  ...       1204            112304\n",
            "5075  2020-08-23           BR  ...       1054            113358\n",
            "5076  2020-08-24           BR  ...        892            114250\n",
            "5077  2020-08-25           BR  ...        494            114744\n",
            "5078  2020-08-26           BR  ...        565            115309\n",
            "5079  2020-08-27           BR  ...       1271            116580\n",
            "5080  2020-08-28           BR  ...       1085            117665\n",
            "5081  2020-08-29           BR  ...        984            118649\n",
            "5082  2020-08-30           BR  ...        855            119504\n",
            "5083  2020-08-31           BR  ...        958            120462\n",
            "\n",
            "[31 rows x 8 columns]\n"
          ],
          "name": "stdout"
        }
      ]
    },
    {
      "cell_type": "code",
      "metadata": {
        "id": "Uz4sJTUlswBg",
        "outputId": "e8aa075f-7de6-4215-f865-9c23ddc66b67",
        "colab": {
          "base_uri": "https://localhost:8080/",
          "height": 343
        }
      },
      "source": [
        "plt.plot()\n",
        "plt.xlabel('Date')\n",
        "plt.ylabel('Deaths')\n",
        "plt.title('Cumulative Deaths in August')\n",
        "plt.plot(August.date,August.cumulative_deaths, 'k.')\n",
        "plt.xticks(rotation=90)\n",
        "plt.show()"
      ],
      "execution_count": 84,
      "outputs": [
        {
          "output_type": "display_data",
          "data": {
            "image/png": "[encoded data removed]",
            "text/plain": [
              "<Figure size 432x288 with 1 Axes>"
            ]
          },
          "metadata": {
            "tags": [],
            "needs_background": "light"
          }
        }
      ]
    },
    {
      "cell_type": "code",
      "metadata": {
        "id": "SN7Nk_LAtBxD",
        "outputId": "8de04bf9-a521-4d34-e659-328d589bd962",
        "colab": {
          "base_uri": "https://localhost:8080/",
          "height": 351
        }
      },
      "source": [
        "sb.distplot(August['new_deaths'], kde = True, bins=10)"
      ],
      "execution_count": 85,
      "outputs": [
        {
          "output_type": "stream",
          "text": [
            "/usr/local/lib/python3.6/dist-packages/seaborn/distributions.py:2551: FutureWarning: `distplot` is a deprecated function and will be removed in a future version. Please adapt your code to use either `displot` (a figure-level function with similar flexibility) or `histplot` (an axes-level function for histograms).\n",
            "  warnings.warn(msg, FutureWarning)\n"
          ],
          "name": "stderr"
        },
        {
          "output_type": "execute_result",
          "data": {
            "text/plain": [
              "<matplotlib.axes._subplots.AxesSubplot at 0x7fd41c497cf8>"
            ]
          },
          "metadata": {
            "tags": []
          },
          "execution_count": 85
        },
        {
          "output_type": "display_data",
          "data": {
            "image/png": "[encoded data removed]",
            "text/plain": [
              "<Figure size 432x288 with 1 Axes>"
            ]
          },
          "metadata": {
            "tags": [],
            "needs_background": "light"
          }
        }
      ]
    },
    {
      "cell_type": "markdown",
      "metadata": {
        "id": "GeJ4RR2w4TlX"
      },
      "source": [
        "## **STATISTICAL ANALYSIS**"
      ]
    },
    {
      "cell_type": "code",
      "metadata": {
        "id": "OJdUEVvamNxe",
        "outputId": "857c182f-ab7b-4d64-b930-68b3f95a1ef1",
        "colab": {
          "base_uri": "https://localhost:8080/",
          "height": 297
        }
      },
      "source": [
        "covidmundial_sum.describe()"
      ],
      "execution_count": 86,
      "outputs": [
        {
          "output_type": "execute_result",
          "data": {
            "text/html": [
              "<div>\n",
              "<style scoped>\n",
              "    .dataframe tbody tr th:only-of-type {\n",
              "        vertical-align: middle;\n",
              "    }\n",
              "\n",
              "    .dataframe tbody tr th {\n",
              "        vertical-align: top;\n",
              "    }\n",
              "\n",
              "    .dataframe thead th {\n",
              "        text-align: right;\n",
              "    }\n",
              "</style>\n",
              "<table border=\"1\" class=\"dataframe\">\n",
              "  <thead>\n",
              "    <tr style=\"text-align: right;\">\n",
              "      <th></th>\n",
              "      <th>new_cases</th>\n",
              "      <th>cumulative_cases</th>\n",
              "      <th>new_deaths</th>\n",
              "      <th>cumulative_deaths</th>\n",
              "    </tr>\n",
              "  </thead>\n",
              "  <tbody>\n",
              "    <tr>\n",
              "      <th>count</th>\n",
              "      <td>245.000000</td>\n",
              "      <td>2.450000e+02</td>\n",
              "      <td>245.000000</td>\n",
              "      <td>245.000000</td>\n",
              "    </tr>\n",
              "    <tr>\n",
              "      <th>mean</th>\n",
              "      <td>106820.865306</td>\n",
              "      <td>6.645875e+06</td>\n",
              "      <td>3531.240816</td>\n",
              "      <td>292884.012245</td>\n",
              "    </tr>\n",
              "    <tr>\n",
              "      <th>std</th>\n",
              "      <td>96260.245061</td>\n",
              "      <td>7.713624e+06</td>\n",
              "      <td>2598.699053</td>\n",
              "      <td>282859.017866</td>\n",
              "    </tr>\n",
              "    <tr>\n",
              "      <th>min</th>\n",
              "      <td>0.000000</td>\n",
              "      <td>1.000000e+00</td>\n",
              "      <td>0.000000</td>\n",
              "      <td>0.000000</td>\n",
              "    </tr>\n",
              "    <tr>\n",
              "      <th>25%</th>\n",
              "      <td>3919.000000</td>\n",
              "      <td>9.757600e+04</td>\n",
              "      <td>144.000000</td>\n",
              "      <td>3346.000000</td>\n",
              "    </tr>\n",
              "    <tr>\n",
              "      <th>50%</th>\n",
              "      <td>85754.000000</td>\n",
              "      <td>3.528783e+06</td>\n",
              "      <td>4233.000000</td>\n",
              "      <td>249991.000000</td>\n",
              "    </tr>\n",
              "    <tr>\n",
              "      <th>75%</th>\n",
              "      <td>191046.000000</td>\n",
              "      <td>1.112907e+07</td>\n",
              "      <td>5465.000000</td>\n",
              "      <td>524725.000000</td>\n",
              "    </tr>\n",
              "    <tr>\n",
              "      <th>max</th>\n",
              "      <td>297794.000000</td>\n",
              "      <td>2.617111e+07</td>\n",
              "      <td>12430.000000</td>\n",
              "      <td>865154.000000</td>\n",
              "    </tr>\n",
              "  </tbody>\n",
              "</table>\n",
              "</div>"
            ],
            "text/plain": [
              "           new_cases  cumulative_cases    new_deaths  cumulative_deaths\n",
              "count     245.000000      2.450000e+02    245.000000         245.000000\n",
              "mean   106820.865306      6.645875e+06   3531.240816      292884.012245\n",
              "std     96260.245061      7.713624e+06   2598.699053      282859.017866\n",
              "min         0.000000      1.000000e+00      0.000000           0.000000\n",
              "25%      3919.000000      9.757600e+04    144.000000        3346.000000\n",
              "50%     85754.000000      3.528783e+06   4233.000000      249991.000000\n",
              "75%    191046.000000      1.112907e+07   5465.000000      524725.000000\n",
              "max    297794.000000      2.617111e+07  12430.000000      865154.000000"
            ]
          },
          "metadata": {
            "tags": []
          },
          "execution_count": 86
        }
      ]
    },
    {
      "cell_type": "code",
      "metadata": {
        "id": "HF6qVDbMmh83",
        "outputId": "67cd66a3-00ea-4f8e-d488-21bd74160bcc",
        "colab": {
          "base_uri": "https://localhost:8080/",
          "height": 297
        }
      },
      "source": [
        "covidbrasil.describe()"
      ],
      "execution_count": 87,
      "outputs": [
        {
          "output_type": "execute_result",
          "data": {
            "text/html": [
              "<div>\n",
              "<style scoped>\n",
              "    .dataframe tbody tr th:only-of-type {\n",
              "        vertical-align: middle;\n",
              "    }\n",
              "\n",
              "    .dataframe tbody tr th {\n",
              "        vertical-align: top;\n",
              "    }\n",
              "\n",
              "    .dataframe thead th {\n",
              "        text-align: right;\n",
              "    }\n",
              "</style>\n",
              "<table border=\"1\" class=\"dataframe\">\n",
              "  <thead>\n",
              "    <tr style=\"text-align: right;\">\n",
              "      <th></th>\n",
              "      <th>new_cases</th>\n",
              "      <th>cumulative_cases</th>\n",
              "      <th>new_deaths</th>\n",
              "      <th>cumulative_deaths</th>\n",
              "    </tr>\n",
              "  </thead>\n",
              "  <tbody>\n",
              "    <tr>\n",
              "      <th>count</th>\n",
              "      <td>192.000000</td>\n",
              "      <td>1.920000e+02</td>\n",
              "      <td>192.000000</td>\n",
              "      <td>192.000000</td>\n",
              "    </tr>\n",
              "    <tr>\n",
              "      <th>mean</th>\n",
              "      <td>20822.213542</td>\n",
              "      <td>1.097211e+06</td>\n",
              "      <td>644.687500</td>\n",
              "      <td>41098.796875</td>\n",
              "    </tr>\n",
              "    <tr>\n",
              "      <th>std</th>\n",
              "      <td>19158.201448</td>\n",
              "      <td>1.268914e+06</td>\n",
              "      <td>482.608603</td>\n",
              "      <td>41370.781794</td>\n",
              "    </tr>\n",
              "    <tr>\n",
              "      <th>min</th>\n",
              "      <td>0.000000</td>\n",
              "      <td>5.000000e+00</td>\n",
              "      <td>0.000000</td>\n",
              "      <td>0.000000</td>\n",
              "    </tr>\n",
              "    <tr>\n",
              "      <th>25%</th>\n",
              "      <td>1819.250000</td>\n",
              "      <td>2.180850e+04</td>\n",
              "      <td>114.750000</td>\n",
              "      <td>1198.250000</td>\n",
              "    </tr>\n",
              "    <tr>\n",
              "      <th>50%</th>\n",
              "      <td>17259.000000</td>\n",
              "      <td>4.818030e+05</td>\n",
              "      <td>631.500000</td>\n",
              "      <td>28356.000000</td>\n",
              "    </tr>\n",
              "    <tr>\n",
              "      <th>75%</th>\n",
              "      <td>38775.500000</td>\n",
              "      <td>2.020695e+06</td>\n",
              "      <td>1112.750000</td>\n",
              "      <td>76978.750000</td>\n",
              "    </tr>\n",
              "    <tr>\n",
              "      <th>max</th>\n",
              "      <td>69074.000000</td>\n",
              "      <td>3.997865e+06</td>\n",
              "      <td>1595.000000</td>\n",
              "      <td>123780.000000</td>\n",
              "    </tr>\n",
              "  </tbody>\n",
              "</table>\n",
              "</div>"
            ],
            "text/plain": [
              "          new_cases  cumulative_cases   new_deaths  cumulative_deaths\n",
              "count    192.000000      1.920000e+02   192.000000         192.000000\n",
              "mean   20822.213542      1.097211e+06   644.687500       41098.796875\n",
              "std    19158.201448      1.268914e+06   482.608603       41370.781794\n",
              "min        0.000000      5.000000e+00     0.000000           0.000000\n",
              "25%     1819.250000      2.180850e+04   114.750000        1198.250000\n",
              "50%    17259.000000      4.818030e+05   631.500000       28356.000000\n",
              "75%    38775.500000      2.020695e+06  1112.750000       76978.750000\n",
              "max    69074.000000      3.997865e+06  1595.000000      123780.000000"
            ]
          },
          "metadata": {
            "tags": []
          },
          "execution_count": 87
        }
      ]
    },
    {
      "cell_type": "markdown",
      "metadata": {
        "id": "YwB2kCAx85HL"
      },
      "source": [
        "\n",
        "## **CORRELATIONS**"
      ]
    },
    {
      "cell_type": "code",
      "metadata": {
        "id": "JBl1-yKDpKT3",
        "outputId": "ae1f58ce-ff90-4faf-ca4c-d8d6f5efcbe2",
        "colab": {
          "base_uri": "https://localhost:8080/",
          "height": 743
        }
      },
      "source": [
        "sns.pairplot(covidbrasil)"
      ],
      "execution_count": 88,
      "outputs": [
        {
          "output_type": "execute_result",
          "data": {
            "text/plain": [
              "<seaborn.axisgrid.PairGrid at 0x7fd41c482be0>"
            ]
          },
          "metadata": {
            "tags": []
          },
          "execution_count": 88
        },
        {
          "output_type": "display_data",
          "data": {
            "image/png": "[encoded data removed]",
            "text/plain": [
              "<Figure size 720x720 with 20 Axes>"
            ]
          },
          "metadata": {
            "tags": [],
            "needs_background": "light"
          }
        }
      ]
    },
    {
      "cell_type": "code",
      "metadata": {
        "id": "eGNUrBVypq3P",
        "outputId": "c03e5b38-6cbb-4905-fe21-7a013d8f1929",
        "colab": {
          "base_uri": "https://localhost:8080/",
          "height": 295
        }
      },
      "source": [
        "plt.scatter(covidbrasil.date,covidbrasil.cumulative_cases)\n",
        "plt.xlabel('Date')\n",
        "plt.ylabel('Cumulative cases')\n",
        "plt.title('Cumulative Cases in Brazil')\n",
        "plt.show()"
      ],
      "execution_count": 89,
      "outputs": [
        {
          "output_type": "display_data",
          "data": {
            "image/png": "[encoded data removed]",
            "text/plain": [
              "<Figure size 432x288 with 1 Axes>"
            ]
          },
          "metadata": {
            "tags": [],
            "needs_background": "light"
          }
        }
      ]
    },
    {
      "cell_type": "code",
      "metadata": {
        "id": "nfynYokUtnyC"
      },
      "source": [
        "correlacoes = covidbrasil.corr()"
      ],
      "execution_count": 90,
      "outputs": []
    },
    {
      "cell_type": "code",
      "metadata": {
        "id": "stTLSvyjtrYj",
        "outputId": "6ca30aad-bfa0-4470-bd19-0b88c5df8ab6",
        "colab": {
          "base_uri": "https://localhost:8080/",
          "height": 173
        }
      },
      "source": [
        "correlacoes"
      ],
      "execution_count": 91,
      "outputs": [
        {
          "output_type": "execute_result",
          "data": {
            "text/html": [
              "<div>\n",
              "<style scoped>\n",
              "    .dataframe tbody tr th:only-of-type {\n",
              "        vertical-align: middle;\n",
              "    }\n",
              "\n",
              "    .dataframe tbody tr th {\n",
              "        vertical-align: top;\n",
              "    }\n",
              "\n",
              "    .dataframe thead th {\n",
              "        text-align: right;\n",
              "    }\n",
              "</style>\n",
              "<table border=\"1\" class=\"dataframe\">\n",
              "  <thead>\n",
              "    <tr style=\"text-align: right;\">\n",
              "      <th></th>\n",
              "      <th>new_cases</th>\n",
              "      <th>cumulative_cases</th>\n",
              "      <th>new_deaths</th>\n",
              "      <th>cumulative_deaths</th>\n",
              "    </tr>\n",
              "  </thead>\n",
              "  <tbody>\n",
              "    <tr>\n",
              "      <th>new_cases</th>\n",
              "      <td>1.000000</td>\n",
              "      <td>0.792903</td>\n",
              "      <td>0.887510</td>\n",
              "      <td>0.845639</td>\n",
              "    </tr>\n",
              "    <tr>\n",
              "      <th>cumulative_cases</th>\n",
              "      <td>0.792903</td>\n",
              "      <td>1.000000</td>\n",
              "      <td>0.605844</td>\n",
              "      <td>0.988883</td>\n",
              "    </tr>\n",
              "    <tr>\n",
              "      <th>new_deaths</th>\n",
              "      <td>0.887510</td>\n",
              "      <td>0.605844</td>\n",
              "      <td>1.000000</td>\n",
              "      <td>0.691147</td>\n",
              "    </tr>\n",
              "    <tr>\n",
              "      <th>cumulative_deaths</th>\n",
              "      <td>0.845639</td>\n",
              "      <td>0.988883</td>\n",
              "      <td>0.691147</td>\n",
              "      <td>1.000000</td>\n",
              "    </tr>\n",
              "  </tbody>\n",
              "</table>\n",
              "</div>"
            ],
            "text/plain": [
              "                   new_cases  cumulative_cases  new_deaths  cumulative_deaths\n",
              "new_cases           1.000000          0.792903    0.887510           0.845639\n",
              "cumulative_cases    0.792903          1.000000    0.605844           0.988883\n",
              "new_deaths          0.887510          0.605844    1.000000           0.691147\n",
              "cumulative_deaths   0.845639          0.988883    0.691147           1.000000"
            ]
          },
          "metadata": {
            "tags": []
          },
          "execution_count": 91
        }
      ]
    },
    {
      "cell_type": "code",
      "metadata": {
        "id": "TaweeW3tt6GE",
        "outputId": "01a44d95-a525-4aa2-de99-68bb0a3a893f",
        "colab": {
          "base_uri": "https://localhost:8080/",
          "height": 371
        }
      },
      "source": [
        "plt.figure()\n",
        "sns.heatmap(correlacoes, annot=True)"
      ],
      "execution_count": 92,
      "outputs": [
        {
          "output_type": "execute_result",
          "data": {
            "text/plain": [
              "<matplotlib.axes._subplots.AxesSubplot at 0x7fd417ecfcc0>"
            ]
          },
          "metadata": {
            "tags": []
          },
          "execution_count": 92
        },
        {
          "output_type": "display_data",
          "data": {
            "image/png": "[encoded data removed]",
            "text/plain": [
              "<Figure size 432x288 with 2 Axes>"
            ]
          },
          "metadata": {
            "tags": [],
            "needs_background": "light"
          }
        }
      ]
    },
    {
      "cell_type": "code",
      "metadata": {
        "id": "csnQM3uNqsmk",
        "outputId": "62b394cd-da40-43b0-d377-148f4f04d161",
        "colab": {
          "base_uri": "https://localhost:8080/",
          "height": 295
        }
      },
      "source": [
        "plt.scatter(covidmundial_sum.date,covidmundial_sum.cumulative_cases)\n",
        "plt.xlabel('Date')\n",
        "plt.ylabel('Cumulative cases')\n",
        "plt.title('Cumulative Cases in World')\n",
        "plt.show()"
      ],
      "execution_count": 93,
      "outputs": [
        {
          "output_type": "display_data",
          "data": {
            "image/png": "[encoded data removed]",
            "text/plain": [
              "<Figure size 432x288 with 1 Axes>"
            ]
          },
          "metadata": {
            "tags": [],
            "needs_background": "light"
          }
        }
      ]
    },
    {
      "cell_type": "code",
      "metadata": {
        "id": "qr-cZgGVrOZY"
      },
      "source": [
        "correlacoes2 = covidmundial_sum.corr()"
      ],
      "execution_count": 94,
      "outputs": []
    },
    {
      "cell_type": "code",
      "metadata": {
        "id": "QaYhD853rUuO",
        "outputId": "a83f89d3-804d-426f-8c43-42b58ab65acf",
        "colab": {
          "base_uri": "https://localhost:8080/",
          "height": 173
        }
      },
      "source": [
        "correlacoes2"
      ],
      "execution_count": 95,
      "outputs": [
        {
          "output_type": "execute_result",
          "data": {
            "text/html": [
              "<div>\n",
              "<style scoped>\n",
              "    .dataframe tbody tr th:only-of-type {\n",
              "        vertical-align: middle;\n",
              "    }\n",
              "\n",
              "    .dataframe tbody tr th {\n",
              "        vertical-align: top;\n",
              "    }\n",
              "\n",
              "    .dataframe thead th {\n",
              "        text-align: right;\n",
              "    }\n",
              "</style>\n",
              "<table border=\"1\" class=\"dataframe\">\n",
              "  <thead>\n",
              "    <tr style=\"text-align: right;\">\n",
              "      <th></th>\n",
              "      <th>new_cases</th>\n",
              "      <th>cumulative_cases</th>\n",
              "      <th>new_deaths</th>\n",
              "      <th>cumulative_deaths</th>\n",
              "    </tr>\n",
              "  </thead>\n",
              "  <tbody>\n",
              "    <tr>\n",
              "      <th>new_cases</th>\n",
              "      <td>1.000000</td>\n",
              "      <td>0.944187</td>\n",
              "      <td>0.760575</td>\n",
              "      <td>0.967044</td>\n",
              "    </tr>\n",
              "    <tr>\n",
              "      <th>cumulative_cases</th>\n",
              "      <td>0.944187</td>\n",
              "      <td>1.000000</td>\n",
              "      <td>0.601376</td>\n",
              "      <td>0.972804</td>\n",
              "    </tr>\n",
              "    <tr>\n",
              "      <th>new_deaths</th>\n",
              "      <td>0.760575</td>\n",
              "      <td>0.601376</td>\n",
              "      <td>1.000000</td>\n",
              "      <td>0.686943</td>\n",
              "    </tr>\n",
              "    <tr>\n",
              "      <th>cumulative_deaths</th>\n",
              "      <td>0.967044</td>\n",
              "      <td>0.972804</td>\n",
              "      <td>0.686943</td>\n",
              "      <td>1.000000</td>\n",
              "    </tr>\n",
              "  </tbody>\n",
              "</table>\n",
              "</div>"
            ],
            "text/plain": [
              "                   new_cases  cumulative_cases  new_deaths  cumulative_deaths\n",
              "new_cases           1.000000          0.944187    0.760575           0.967044\n",
              "cumulative_cases    0.944187          1.000000    0.601376           0.972804\n",
              "new_deaths          0.760575          0.601376    1.000000           0.686943\n",
              "cumulative_deaths   0.967044          0.972804    0.686943           1.000000"
            ]
          },
          "metadata": {
            "tags": []
          },
          "execution_count": 95
        }
      ]
    },
    {
      "cell_type": "code",
      "metadata": {
        "id": "tbx9ksvrre8O",
        "outputId": "4b49529f-1b66-47dd-854d-b0f9663d1764",
        "colab": {
          "base_uri": "https://localhost:8080/",
          "height": 371
        }
      },
      "source": [
        "plt.figure()\n",
        "sns.heatmap(correlacoes2, annot=True)"
      ],
      "execution_count": 96,
      "outputs": [
        {
          "output_type": "execute_result",
          "data": {
            "text/plain": [
              "<matplotlib.axes._subplots.AxesSubplot at 0x7fd417c2ef60>"
            ]
          },
          "metadata": {
            "tags": []
          },
          "execution_count": 96
        },
        {
          "output_type": "display_data",
          "data": {
            "image/png": "[encoded data removed]",
            "text/plain": [
              "<Figure size 432x288 with 2 Axes>"
            ]
          },
          "metadata": {
            "tags": [],
            "needs_background": "light"
          }
        }
      ]
    },
    {
      "cell_type": "code",
      "metadata": {
        "id": "4v2lSz4-sYN_",
        "outputId": "8fc7170c-b632-4e88-ee71-56c9edddd20b",
        "colab": {
          "base_uri": "https://localhost:8080/",
          "height": 298
        }
      },
      "source": [
        "plt.stackplot(covidbrasil['date'], [covidbrasil['cumulative_cases'], covidbrasil['cumulative_deaths']],\n",
        "              labels = ['cumulative_cases', 'cumulative_deaths'])\n",
        "plt.legend(loc = 'upper left')\n",
        "plt.title('Evolution Cumulative Cases and Deaths in Brazil')"
      ],
      "execution_count": 97,
      "outputs": [
        {
          "output_type": "execute_result",
          "data": {
            "text/plain": [
              "Text(0.5, 1.0, 'Evolution Cumulative Cases and Deaths in Brazil')"
            ]
          },
          "metadata": {
            "tags": []
          },
          "execution_count": 97
        },
        {
          "output_type": "display_data",
          "data": {
            "image/png": "[encoded data removed]",
            "text/plain": [
              "<Figure size 432x288 with 1 Axes>"
            ]
          },
          "metadata": {
            "tags": [],
            "needs_background": "light"
          }
        }
      ]
    },
    {
      "cell_type": "code",
      "metadata": {
        "id": "U2X6SphJtVDR",
        "outputId": "6313cf23-a8e4-4645-a867-e8b6a4a17220",
        "colab": {
          "base_uri": "https://localhost:8080/",
          "height": 298
        }
      },
      "source": [
        "plt.stackplot(covidmundial_sum['date'], [covidmundial_sum['cumulative_cases'], covidmundial_sum['cumulative_deaths']],\n",
        "              labels = ['cumulative_cases', 'cumulative_deaths'])\n",
        "plt.legend(loc = 'upper left')\n",
        "plt.title('Evolution Cumulative Cases and Deaths in World')"
      ],
      "execution_count": 98,
      "outputs": [
        {
          "output_type": "execute_result",
          "data": {
            "text/plain": [
              "Text(0.5, 1.0, 'Evolution Cumulative Cases and Deaths in World')"
            ]
          },
          "metadata": {
            "tags": []
          },
          "execution_count": 98
        },
        {
          "output_type": "display_data",
          "data": {
            "image/png": "[encoded data removed]",
            "text/plain": [
              "<Figure size 432x288 with 1 Axes>"
            ]
          },
          "metadata": {
            "tags": [],
            "needs_background": "light"
          }
        }
      ]
    },
    {
      "cell_type": "markdown",
      "metadata": {
        "id": "KuagmWhAF6aM"
      },
      "source": [
        "## **MACHINE LEARNING**"
      ]
    },
    {
      "cell_type": "markdown",
      "metadata": {
        "id": "gfxAmDpFvQwl"
      },
      "source": [
        "## POLINOMIAL REGRESSION"
      ]
    },
    {
      "cell_type": "code",
      "metadata": {
        "id": "od4p9J8MvV2V"
      },
      "source": [
        "from sklearn.preprocessing import PolynomialFeatures"
      ],
      "execution_count": 99,
      "outputs": []
    },
    {
      "cell_type": "code",
      "metadata": {
        "id": "S5IRBy3RR5Z9"
      },
      "source": [
        "x = covidbrasil.drop(['country_code','country','who_region','new_cases','cumulative_cases','new_deaths','cumulative_deaths'], axis=1)\t\t\t\t\t\t"
      ],
      "execution_count": 100,
      "outputs": []
    },
    {
      "cell_type": "code",
      "metadata": {
        "id": "qwxqEngTTOfE",
        "outputId": "4392a68a-2faf-4e33-a53b-7779334be2a5",
        "colab": {
          "base_uri": "https://localhost:8080/",
          "height": 419
        }
      },
      "source": [
        "x"
      ],
      "execution_count": 101,
      "outputs": [
        {
          "output_type": "execute_result",
          "data": {
            "text/html": [
              "<div>\n",
              "<style scoped>\n",
              "    .dataframe tbody tr th:only-of-type {\n",
              "        vertical-align: middle;\n",
              "    }\n",
              "\n",
              "    .dataframe tbody tr th {\n",
              "        vertical-align: top;\n",
              "    }\n",
              "\n",
              "    .dataframe thead th {\n",
              "        text-align: right;\n",
              "    }\n",
              "</style>\n",
              "<table border=\"1\" class=\"dataframe\">\n",
              "  <thead>\n",
              "    <tr style=\"text-align: right;\">\n",
              "      <th></th>\n",
              "      <th>date</th>\n",
              "    </tr>\n",
              "  </thead>\n",
              "  <tbody>\n",
              "    <tr>\n",
              "      <th>4896</th>\n",
              "      <td>2020-02-26</td>\n",
              "    </tr>\n",
              "    <tr>\n",
              "      <th>4897</th>\n",
              "      <td>2020-02-27</td>\n",
              "    </tr>\n",
              "    <tr>\n",
              "      <th>4898</th>\n",
              "      <td>2020-02-28</td>\n",
              "    </tr>\n",
              "    <tr>\n",
              "      <th>4899</th>\n",
              "      <td>2020-02-29</td>\n",
              "    </tr>\n",
              "    <tr>\n",
              "      <th>4900</th>\n",
              "      <td>2020-03-01</td>\n",
              "    </tr>\n",
              "    <tr>\n",
              "      <th>...</th>\n",
              "      <td>...</td>\n",
              "    </tr>\n",
              "    <tr>\n",
              "      <th>5083</th>\n",
              "      <td>2020-08-31</td>\n",
              "    </tr>\n",
              "    <tr>\n",
              "      <th>5084</th>\n",
              "      <td>2020-09-01</td>\n",
              "    </tr>\n",
              "    <tr>\n",
              "      <th>5085</th>\n",
              "      <td>2020-09-02</td>\n",
              "    </tr>\n",
              "    <tr>\n",
              "      <th>5086</th>\n",
              "      <td>2020-09-03</td>\n",
              "    </tr>\n",
              "    <tr>\n",
              "      <th>5087</th>\n",
              "      <td>2020-09-04</td>\n",
              "    </tr>\n",
              "  </tbody>\n",
              "</table>\n",
              "<p>192 rows × 1 columns</p>\n",
              "</div>"
            ],
            "text/plain": [
              "            date\n",
              "4896  2020-02-26\n",
              "4897  2020-02-27\n",
              "4898  2020-02-28\n",
              "4899  2020-02-29\n",
              "4900  2020-03-01\n",
              "...          ...\n",
              "5083  2020-08-31\n",
              "5084  2020-09-01\n",
              "5085  2020-09-02\n",
              "5086  2020-09-03\n",
              "5087  2020-09-04\n",
              "\n",
              "[192 rows x 1 columns]"
            ]
          },
          "metadata": {
            "tags": []
          },
          "execution_count": 101
        }
      ]
    },
    {
      "cell_type": "code",
      "metadata": {
        "id": "u75DqCeDVxZL"
      },
      "source": [
        "x = np.arange(len(x)).reshape(-1,1)#transformou as datas em índices (0,1,2,3,4...)"
      ],
      "execution_count": 102,
      "outputs": []
    },
    {
      "cell_type": "code",
      "metadata": {
        "id": "-SqV-q5fWDyx",
        "outputId": "a4695c51-a5e4-4923-aba9-3defd00e2a9d",
        "colab": {
          "base_uri": "https://localhost:8080/",
          "height": 1000
        }
      },
      "source": [
        "x"
      ],
      "execution_count": 103,
      "outputs": [
        {
          "output_type": "execute_result",
          "data": {
            "text/plain": [
              "array([[  0],\n",
              "       [  1],\n",
              "       [  2],\n",
              "       [  3],\n",
              "       [  4],\n",
              "       [  5],\n",
              "       [  6],\n",
              "       [  7],\n",
              "       [  8],\n",
              "       [  9],\n",
              "       [ 10],\n",
              "       [ 11],\n",
              "       [ 12],\n",
              "       [ 13],\n",
              "       [ 14],\n",
              "       [ 15],\n",
              "       [ 16],\n",
              "       [ 17],\n",
              "       [ 18],\n",
              "       [ 19],\n",
              "       [ 20],\n",
              "       [ 21],\n",
              "       [ 22],\n",
              "       [ 23],\n",
              "       [ 24],\n",
              "       [ 25],\n",
              "       [ 26],\n",
              "       [ 27],\n",
              "       [ 28],\n",
              "       [ 29],\n",
              "       [ 30],\n",
              "       [ 31],\n",
              "       [ 32],\n",
              "       [ 33],\n",
              "       [ 34],\n",
              "       [ 35],\n",
              "       [ 36],\n",
              "       [ 37],\n",
              "       [ 38],\n",
              "       [ 39],\n",
              "       [ 40],\n",
              "       [ 41],\n",
              "       [ 42],\n",
              "       [ 43],\n",
              "       [ 44],\n",
              "       [ 45],\n",
              "       [ 46],\n",
              "       [ 47],\n",
              "       [ 48],\n",
              "       [ 49],\n",
              "       [ 50],\n",
              "       [ 51],\n",
              "       [ 52],\n",
              "       [ 53],\n",
              "       [ 54],\n",
              "       [ 55],\n",
              "       [ 56],\n",
              "       [ 57],\n",
              "       [ 58],\n",
              "       [ 59],\n",
              "       [ 60],\n",
              "       [ 61],\n",
              "       [ 62],\n",
              "       [ 63],\n",
              "       [ 64],\n",
              "       [ 65],\n",
              "       [ 66],\n",
              "       [ 67],\n",
              "       [ 68],\n",
              "       [ 69],\n",
              "       [ 70],\n",
              "       [ 71],\n",
              "       [ 72],\n",
              "       [ 73],\n",
              "       [ 74],\n",
              "       [ 75],\n",
              "       [ 76],\n",
              "       [ 77],\n",
              "       [ 78],\n",
              "       [ 79],\n",
              "       [ 80],\n",
              "       [ 81],\n",
              "       [ 82],\n",
              "       [ 83],\n",
              "       [ 84],\n",
              "       [ 85],\n",
              "       [ 86],\n",
              "       [ 87],\n",
              "       [ 88],\n",
              "       [ 89],\n",
              "       [ 90],\n",
              "       [ 91],\n",
              "       [ 92],\n",
              "       [ 93],\n",
              "       [ 94],\n",
              "       [ 95],\n",
              "       [ 96],\n",
              "       [ 97],\n",
              "       [ 98],\n",
              "       [ 99],\n",
              "       [100],\n",
              "       [101],\n",
              "       [102],\n",
              "       [103],\n",
              "       [104],\n",
              "       [105],\n",
              "       [106],\n",
              "       [107],\n",
              "       [108],\n",
              "       [109],\n",
              "       [110],\n",
              "       [111],\n",
              "       [112],\n",
              "       [113],\n",
              "       [114],\n",
              "       [115],\n",
              "       [116],\n",
              "       [117],\n",
              "       [118],\n",
              "       [119],\n",
              "       [120],\n",
              "       [121],\n",
              "       [122],\n",
              "       [123],\n",
              "       [124],\n",
              "       [125],\n",
              "       [126],\n",
              "       [127],\n",
              "       [128],\n",
              "       [129],\n",
              "       [130],\n",
              "       [131],\n",
              "       [132],\n",
              "       [133],\n",
              "       [134],\n",
              "       [135],\n",
              "       [136],\n",
              "       [137],\n",
              "       [138],\n",
              "       [139],\n",
              "       [140],\n",
              "       [141],\n",
              "       [142],\n",
              "       [143],\n",
              "       [144],\n",
              "       [145],\n",
              "       [146],\n",
              "       [147],\n",
              "       [148],\n",
              "       [149],\n",
              "       [150],\n",
              "       [151],\n",
              "       [152],\n",
              "       [153],\n",
              "       [154],\n",
              "       [155],\n",
              "       [156],\n",
              "       [157],\n",
              "       [158],\n",
              "       [159],\n",
              "       [160],\n",
              "       [161],\n",
              "       [162],\n",
              "       [163],\n",
              "       [164],\n",
              "       [165],\n",
              "       [166],\n",
              "       [167],\n",
              "       [168],\n",
              "       [169],\n",
              "       [170],\n",
              "       [171],\n",
              "       [172],\n",
              "       [173],\n",
              "       [174],\n",
              "       [175],\n",
              "       [176],\n",
              "       [177],\n",
              "       [178],\n",
              "       [179],\n",
              "       [180],\n",
              "       [181],\n",
              "       [182],\n",
              "       [183],\n",
              "       [184],\n",
              "       [185],\n",
              "       [186],\n",
              "       [187],\n",
              "       [188],\n",
              "       [189],\n",
              "       [190],\n",
              "       [191]])"
            ]
          },
          "metadata": {
            "tags": []
          },
          "execution_count": 103
        }
      ]
    },
    {
      "cell_type": "code",
      "metadata": {
        "id": "Fxi0PH95XOCB"
      },
      "source": [
        "y = covidbrasil.iloc[:, 5].values"
      ],
      "execution_count": 104,
      "outputs": []
    },
    {
      "cell_type": "code",
      "metadata": {
        "id": "j9usZTGeYAH_"
      },
      "source": [
        "from sklearn.model_selection import train_test_split\n",
        "x_treinamento, x_teste, y_treinamento, y_teste = train_test_split(x, y,test_size = 0.3,shuffle = False, random_state = 0)"
      ],
      "execution_count": 105,
      "outputs": []
    },
    {
      "cell_type": "code",
      "metadata": {
        "id": "-Af5OoG3ZwPO"
      },
      "source": [
        "from sklearn.preprocessing import PolynomialFeatures\n",
        "poly = PolynomialFeatures(degree = 2)\n",
        "x_treinamento_poly = poly.fit_transform(x_treinamento)\n",
        "x_teste_poly = poly.transform(x_teste)"
      ],
      "execution_count": 106,
      "outputs": []
    },
    {
      "cell_type": "code",
      "metadata": {
        "id": "HAHgo4IrZ4UQ"
      },
      "source": [
        "from sklearn.linear_model import LinearRegression\n",
        "regressor = LinearRegression()\n",
        "regressor.fit(x_treinamento_poly, y_treinamento)\n",
        "score = regressor.score(x_treinamento_poly, y_treinamento)"
      ],
      "execution_count": 107,
      "outputs": []
    },
    {
      "cell_type": "code",
      "metadata": {
        "id": "DIWQ_0QOaBec"
      },
      "source": [
        "previsoes = regressor.predict(x_teste_poly)"
      ],
      "execution_count": 108,
      "outputs": []
    },
    {
      "cell_type": "code",
      "metadata": {
        "id": "MuCFh7d7aEwt",
        "outputId": "77545adc-1941-43b8-d3eb-c64cdfd03742",
        "colab": {
          "base_uri": "https://localhost:8080/",
          "height": 34
        }
      },
      "source": [
        "score"
      ],
      "execution_count": 109,
      "outputs": [
        {
          "output_type": "execute_result",
          "data": {
            "text/plain": [
              "0.9848117026407015"
            ]
          },
          "metadata": {
            "tags": []
          },
          "execution_count": 109
        }
      ]
    },
    {
      "cell_type": "code",
      "metadata": {
        "id": "gifO2cSPa9zs"
      },
      "source": [
        "from sklearn.metrics import mean_absolute_error"
      ],
      "execution_count": 110,
      "outputs": []
    },
    {
      "cell_type": "code",
      "metadata": {
        "id": "aqqLrWgcbnMb"
      },
      "source": [
        "poly_teste_pred = regressor.predict(x_teste_poly)"
      ],
      "execution_count": 112,
      "outputs": []
    },
    {
      "cell_type": "code",
      "metadata": {
        "id": "6qXmvaadzB9v",
        "outputId": "3d4bd8cd-cc8e-487c-cabf-39ac9e5f880b",
        "colab": {
          "base_uri": "https://localhost:8080/",
          "height": 68
        }
      },
      "source": [
        "print('MAE:', mean_absolute_error(poly_teste_pred, y_teste))\n",
        "print('MSE:', mean_squared_error(poly_teste_pred, y_teste))\n",
        "print('RMSE:', np.sqrt(mean_absolute_error(poly_teste_pred, y_teste)))"
      ],
      "execution_count": 113,
      "outputs": [
        {
          "output_type": "stream",
          "text": [
            "MAE: 130819.22155164507\n",
            "MSE: 19941217834.040596\n",
            "RMSE: 361.68939928016283\n"
          ],
          "name": "stdout"
        }
      ]
    },
    {
      "cell_type": "code",
      "metadata": {
        "id": "v9rGP9ccayMk",
        "outputId": "ac10ab08-41a8-4399-cf25-adeb140f2110",
        "colab": {
          "base_uri": "https://localhost:8080/",
          "height": 293
        }
      },
      "source": [
        "plt.plot(poly_teste_pred, linestyle = 'dashed')\n",
        "plt.plot(y_teste)"
      ],
      "execution_count": 114,
      "outputs": [
        {
          "output_type": "execute_result",
          "data": {
            "text/plain": [
              "[<matplotlib.lines.Line2D at 0x7fd417d28ac8>]"
            ]
          },
          "metadata": {
            "tags": []
          },
          "execution_count": 114
        },
        {
          "output_type": "display_data",
          "data": {
            "image/png": "[encoded data removed]",
            "text/plain": [
              "<Figure size 432x288 with 1 Axes>"
            ]
          },
          "metadata": {
            "tags": [],
            "needs_background": "light"
          }
        }
      ]
    },
    {
      "cell_type": "code",
      "metadata": {
        "id": "hPua6hybus0r"
      },
      "source": [
        "forecast = np.arange(len(x) + 20).reshape(-1,1)#forescat significa previsão. ) + 20 é uma previsão de 20 dias a mais."
      ],
      "execution_count": 115,
      "outputs": []
    },
    {
      "cell_type": "code",
      "metadata": {
        "id": "L57Y6xlTvASX",
        "outputId": "40420f76-7cf5-4c08-b5e3-7037eaff0165",
        "colab": {
          "base_uri": "https://localhost:8080/",
          "height": 34
        }
      },
      "source": [
        "forecast.shape"
      ],
      "execution_count": 116,
      "outputs": [
        {
          "output_type": "execute_result",
          "data": {
            "text/plain": [
              "(212, 1)"
            ]
          },
          "metadata": {
            "tags": []
          },
          "execution_count": 116
        }
      ]
    },
    {
      "cell_type": "code",
      "metadata": {
        "id": "xw-TDKjJvDBG",
        "outputId": "f79024d5-54ce-4270-e7ee-e32db6b7af14",
        "colab": {
          "base_uri": "https://localhost:8080/",
          "height": 1000
        }
      },
      "source": [
        "print(forecast)"
      ],
      "execution_count": 117,
      "outputs": [
        {
          "output_type": "stream",
          "text": [
            "[[  0]\n",
            " [  1]\n",
            " [  2]\n",
            " [  3]\n",
            " [  4]\n",
            " [  5]\n",
            " [  6]\n",
            " [  7]\n",
            " [  8]\n",
            " [  9]\n",
            " [ 10]\n",
            " [ 11]\n",
            " [ 12]\n",
            " [ 13]\n",
            " [ 14]\n",
            " [ 15]\n",
            " [ 16]\n",
            " [ 17]\n",
            " [ 18]\n",
            " [ 19]\n",
            " [ 20]\n",
            " [ 21]\n",
            " [ 22]\n",
            " [ 23]\n",
            " [ 24]\n",
            " [ 25]\n",
            " [ 26]\n",
            " [ 27]\n",
            " [ 28]\n",
            " [ 29]\n",
            " [ 30]\n",
            " [ 31]\n",
            " [ 32]\n",
            " [ 33]\n",
            " [ 34]\n",
            " [ 35]\n",
            " [ 36]\n",
            " [ 37]\n",
            " [ 38]\n",
            " [ 39]\n",
            " [ 40]\n",
            " [ 41]\n",
            " [ 42]\n",
            " [ 43]\n",
            " [ 44]\n",
            " [ 45]\n",
            " [ 46]\n",
            " [ 47]\n",
            " [ 48]\n",
            " [ 49]\n",
            " [ 50]\n",
            " [ 51]\n",
            " [ 52]\n",
            " [ 53]\n",
            " [ 54]\n",
            " [ 55]\n",
            " [ 56]\n",
            " [ 57]\n",
            " [ 58]\n",
            " [ 59]\n",
            " [ 60]\n",
            " [ 61]\n",
            " [ 62]\n",
            " [ 63]\n",
            " [ 64]\n",
            " [ 65]\n",
            " [ 66]\n",
            " [ 67]\n",
            " [ 68]\n",
            " [ 69]\n",
            " [ 70]\n",
            " [ 71]\n",
            " [ 72]\n",
            " [ 73]\n",
            " [ 74]\n",
            " [ 75]\n",
            " [ 76]\n",
            " [ 77]\n",
            " [ 78]\n",
            " [ 79]\n",
            " [ 80]\n",
            " [ 81]\n",
            " [ 82]\n",
            " [ 83]\n",
            " [ 84]\n",
            " [ 85]\n",
            " [ 86]\n",
            " [ 87]\n",
            " [ 88]\n",
            " [ 89]\n",
            " [ 90]\n",
            " [ 91]\n",
            " [ 92]\n",
            " [ 93]\n",
            " [ 94]\n",
            " [ 95]\n",
            " [ 96]\n",
            " [ 97]\n",
            " [ 98]\n",
            " [ 99]\n",
            " [100]\n",
            " [101]\n",
            " [102]\n",
            " [103]\n",
            " [104]\n",
            " [105]\n",
            " [106]\n",
            " [107]\n",
            " [108]\n",
            " [109]\n",
            " [110]\n",
            " [111]\n",
            " [112]\n",
            " [113]\n",
            " [114]\n",
            " [115]\n",
            " [116]\n",
            " [117]\n",
            " [118]\n",
            " [119]\n",
            " [120]\n",
            " [121]\n",
            " [122]\n",
            " [123]\n",
            " [124]\n",
            " [125]\n",
            " [126]\n",
            " [127]\n",
            " [128]\n",
            " [129]\n",
            " [130]\n",
            " [131]\n",
            " [132]\n",
            " [133]\n",
            " [134]\n",
            " [135]\n",
            " [136]\n",
            " [137]\n",
            " [138]\n",
            " [139]\n",
            " [140]\n",
            " [141]\n",
            " [142]\n",
            " [143]\n",
            " [144]\n",
            " [145]\n",
            " [146]\n",
            " [147]\n",
            " [148]\n",
            " [149]\n",
            " [150]\n",
            " [151]\n",
            " [152]\n",
            " [153]\n",
            " [154]\n",
            " [155]\n",
            " [156]\n",
            " [157]\n",
            " [158]\n",
            " [159]\n",
            " [160]\n",
            " [161]\n",
            " [162]\n",
            " [163]\n",
            " [164]\n",
            " [165]\n",
            " [166]\n",
            " [167]\n",
            " [168]\n",
            " [169]\n",
            " [170]\n",
            " [171]\n",
            " [172]\n",
            " [173]\n",
            " [174]\n",
            " [175]\n",
            " [176]\n",
            " [177]\n",
            " [178]\n",
            " [179]\n",
            " [180]\n",
            " [181]\n",
            " [182]\n",
            " [183]\n",
            " [184]\n",
            " [185]\n",
            " [186]\n",
            " [187]\n",
            " [188]\n",
            " [189]\n",
            " [190]\n",
            " [191]\n",
            " [192]\n",
            " [193]\n",
            " [194]\n",
            " [195]\n",
            " [196]\n",
            " [197]\n",
            " [198]\n",
            " [199]\n",
            " [200]\n",
            " [201]\n",
            " [202]\n",
            " [203]\n",
            " [204]\n",
            " [205]\n",
            " [206]\n",
            " [207]\n",
            " [208]\n",
            " [209]\n",
            " [210]\n",
            " [211]]\n"
          ],
          "name": "stdout"
        }
      ]
    },
    {
      "cell_type": "code",
      "metadata": {
        "id": "1G1WhaIfv-qQ",
        "outputId": "a30b276d-8340-4633-a2e6-e8336a99abcf",
        "colab": {
          "base_uri": "https://localhost:8080/",
          "height": 34
        }
      },
      "source": [
        "x_train_all = poly.transform(forecast)\n",
        "x_train_all.shape"
      ],
      "execution_count": 118,
      "outputs": [
        {
          "output_type": "execute_result",
          "data": {
            "text/plain": [
              "(212, 3)"
            ]
          },
          "metadata": {
            "tags": []
          },
          "execution_count": 118
        }
      ]
    },
    {
      "cell_type": "code",
      "metadata": {
        "id": "V1-D8mv9wG8s",
        "outputId": "66bcee94-6f3c-4552-ee0d-e5a150a4c049",
        "colab": {
          "base_uri": "https://localhost:8080/",
          "height": 34
        }
      },
      "source": [
        "poly_pred_all = regressor.predict(x_train_all)\n",
        "len(poly_pred_all)"
      ],
      "execution_count": 119,
      "outputs": [
        {
          "output_type": "execute_result",
          "data": {
            "text/plain": [
              "212"
            ]
          },
          "metadata": {
            "tags": []
          },
          "execution_count": 119
        }
      ]
    },
    {
      "cell_type": "code",
      "metadata": {
        "id": "9FJMo7ttvMG4",
        "outputId": "e8526214-fc66-4c41-9429-9e2a83067bc0",
        "colab": {
          "base_uri": "https://localhost:8080/",
          "height": 295
        }
      },
      "source": [
        "plt.plot(forecast[:-20], y, color='red')\n",
        "plt.plot(forecast, poly_pred_all, linestyle='dashed')\n",
        "plt.title('Deaths of COVID-19 in Brazil')\n",
        "plt.xlabel('Days since 2/26/2020')\n",
        "plt.ylabel('Number of cases')\n",
        "plt.legend(['Cumulative_cases', 'Predictions']);"
      ],
      "execution_count": 120,
      "outputs": [
        {
          "output_type": "display_data",
          "data": {
            "image/png": "[encoded data removed]",
            "text/plain": [
              "<Figure size 432x288 with 1 Axes>"
            ]
          },
          "metadata": {
            "tags": [],
            "needs_background": "light"
          }
        }
      ]
    }
  ]
}